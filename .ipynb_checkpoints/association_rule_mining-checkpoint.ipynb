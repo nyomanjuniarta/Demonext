{
 "cells": [
  {
   "cell_type": "code",
   "execution_count": 1,
   "metadata": {
    "collapsed": false
   },
   "outputs": [
    {
     "name": "stderr",
     "output_type": "stream",
     "text": [
      "C:\\Users\\user\\Anaconda3\\lib\\site-packages\\pandas\\compat\\_optional.py:124: UserWarning: Pandas requires version '1.2.1' or newer of 'bottleneck' (version '1.2.0' currently installed).\n",
      "  warnings.warn(msg, UserWarning)\n"
     ]
    }
   ],
   "source": [
    "import codecs\n",
    "import pandas as pd\n",
    "import os\n",
    "from mlxtend.frequent_patterns import apriori\n",
    "from mlxtend.frequent_patterns import association_rules\n",
    "from mlxtend.preprocessing import TransactionEncoder\n",
    "from os import listdir\n",
    "from os.path import isfile, join"
   ]
  },
  {
   "cell_type": "code",
   "execution_count": null,
   "metadata": {
    "collapsed": false
   },
   "outputs": [],
   "source": [
    "#  options1: Vertex: category, cstr. Edge: orientation, complexite\n",
    "input_dir = 'families'\n",
    "input_files = [f for f in listdir(input_dir) if isfile(join(input_dir, f))]\n",
    "\n",
    "transactions = list()\n",
    "for input_file in input_files:\n",
    "    transaction = list()\n",
    "    #if input_file != 'F00040 adressage_Nm.txt':\n",
    "        #continue\n",
    "    with codecs.open(join(input_dir, input_file), 'r', encoding='utf-8') as f:\n",
    "        for line_num, line in enumerate(f):\n",
    "            if line_num >= 2:\n",
    "                line_elements = line.replace('\\n','').replace(' ','').split('\\t')\n",
    "                \n",
    "                '''orientation = line_elements[21]\n",
    "                if orientation == 'as2de' or orientation == 'as2des' or orientation == 'de2as' or orientation == 'des2as':\n",
    "                    orientation = 'direct'\n",
    "                complexity = line_elements[19]'''\n",
    "                lex = list()\n",
    "                lex.append(line_elements[8] + '_' + line_elements[14])\n",
    "                lex.append(line_elements[10] + '_' + line_elements[17])\n",
    "                if line_elements[21] == 'as2de' or line_elements[21] == 'as2des':\n",
    "                    item = lex[0] + ' -> ' + line_elements[19] + ' -> ' + lex[1]\n",
    "                    transaction.append(item)\n",
    "                elif line_elements[21] == 'de2as' or line_elements[21] == 'des2as':\n",
    "                    item = lex[1] + ' -> ' + line_elements[19] + ' -> ' + lex[0]\n",
    "                    transaction.append(item)\n",
    "                '''else:\n",
    "                    lex.sort()\n",
    "                    item = lex[0] + ' - ' + line_elements[19] + '_' + line_elements[21] + ' - ' + lex[1]\n",
    "                    transaction.append(item)'''\n",
    "                lex.clear()\n",
    "    transactions.append(transaction)\n",
    "te = TransactionEncoder()\n",
    "te_ary = te.fit(transactions).transform(transactions)\n",
    "df = pd.DataFrame(te_ary, columns=te.columns_)\n",
    "df.index = input_files\n",
    "df"
   ]
  },
  {
   "cell_type": "code",
   "execution_count": 6,
   "metadata": {
    "collapsed": false
   },
   "outputs": [
    {
     "data": {
      "text/html": [
       "<div>\n",
       "<style scoped>\n",
       "    .dataframe tbody tr th:only-of-type {\n",
       "        vertical-align: middle;\n",
       "    }\n",
       "\n",
       "    .dataframe tbody tr th {\n",
       "        vertical-align: top;\n",
       "    }\n",
       "\n",
       "    .dataframe thead th {\n",
       "        text-align: right;\n",
       "    }\n",
       "</style>\n",
       "<table border=\"1\" class=\"dataframe\">\n",
       "  <thead>\n",
       "    <tr style=\"text-align: right;\">\n",
       "      <th></th>\n",
       "      <th>Nf_Situation_X -&gt; causatif -&gt; Adj_Modifier_Xif</th>\n",
       "    </tr>\n",
       "  </thead>\n",
       "  <tbody>\n",
       "    <tr>\n",
       "      <th>0</th>\n",
       "      <td>True</td>\n",
       "    </tr>\n",
       "  </tbody>\n",
       "</table>\n",
       "</div>"
      ],
      "text/plain": [
       "   Nf_Situation_X -> causatif -> Adj_Modifier_Xif\n",
       "0                                            True"
      ]
     },
     "execution_count": 6,
     "metadata": {},
     "output_type": "execute_result"
    }
   ],
   "source": [
    "#  options1: Vertex: categorie, semty, cstr. Edges: rel_sem\n",
    "input_dir = 'families'\n",
    "input_files = [f for f in listdir(input_dir) if isfile(join(input_dir, f))]\n",
    "\n",
    "transactions = list()\n",
    "for input_file in input_files:\n",
    "    transaction = list()\n",
    "    #if input_file != 'F03649 contraceptif_Adj.txt':\n",
    "        #continue\n",
    "    with codecs.open(join(input_dir, input_file), 'r', encoding='utf-8') as f:\n",
    "        for line_num, line in enumerate(f):\n",
    "            if line_num >= 2:\n",
    "                line_elements = line.replace('\\n','').replace(' ','').split('\\t')\n",
    "                if line_elements[23] == '' or line_elements[25] == '' or line_elements[36] == '':\n",
    "                    continue\n",
    "                \n",
    "                lex1 = list()\n",
    "                lex2 = list()\n",
    "                if '|' in line_elements[23]:\n",
    "                    lex1 = line_elements[23].split('|')\n",
    "                else:\n",
    "                    lex1.append(line_elements[23])\n",
    "                if '|' in line_elements[25]:\n",
    "                    lex2 = line_elements[25].split('|')\n",
    "                else:\n",
    "                    lex2.append(line_elements[25])\n",
    "                if line_elements[21] == 'as2de' or line_elements[21] == 'as2des':\n",
    "                    for l1 in lex1:\n",
    "                        for l2 in lex2:\n",
    "                            item = line_elements[8] + '_' + l1 + '_' + line_elements[14] \\\n",
    "                            + ' -> ' + line_elements[36] + ' -> ' + line_elements[10] \\\n",
    "                            + '_' + l2 + '_' + line_elements[17]\n",
    "                    transaction.append(item)\n",
    "                elif line_elements[21] == 'de2as' or line_elements[21] == 'des2as':\n",
    "                    for l1 in lex1:\n",
    "                        for l2 in lex2:\n",
    "                            item = line_elements[10] + '_' + l2 + '_' + line_elements[17] \\\n",
    "                            + ' -> ' + line_elements[36] + ' -> ' + line_elements[8] \\\n",
    "                            + '_' + l1 + '_' + line_elements[14]\n",
    "                    transaction.append(item)\n",
    "                '''else:\n",
    "                    for l1 in lex1:\n",
    "                        for l2 in lex2:\n",
    "                            l12 = sorted([line_elements[8] + '_' + l1 + '_' + line_elements[14], \\\n",
    "                            line_elements[10] + '_' + l2 + '_' + line_elements[17]])\n",
    "                            item = l12[0] + ' - ' + line_elements[36] + ' - ' + l12[1]\n",
    "                    transaction.append(item)'''\n",
    "                lex1.clear()\n",
    "                lex1.clear()\n",
    "    transactions.append(transaction)\n",
    "te = TransactionEncoder()\n",
    "te_ary = te.fit(transactions).transform(transactions)\n",
    "df = pd.DataFrame(te_ary, columns=te.columns_)\n",
    "df.index = input_files\n",
    "df"
   ]
  },
  {
   "cell_type": "code",
   "execution_count": null,
   "metadata": {
    "collapsed": false
   },
   "outputs": [],
   "source": [
    "frequent_itemsets = apriori(df, min_support=0.005, use_colnames=True)\n",
    "frequent_itemsets['length'] = frequent_itemsets['itemsets'].apply(lambda x: len(x))\n",
    "frequent_itemsets['# of families'] = frequent_itemsets['support'].apply(lambda x: x*df.shape[0])\n",
    "frequent_itemsets"
   ]
  },
  {
   "cell_type": "code",
   "execution_count": null,
   "metadata": {
    "collapsed": false
   },
   "outputs": [],
   "source": [
    "rules = association_rules(frequent_itemsets, metric='confidence', min_threshold=0.99)\n",
    "#rules['antecedent length'] = rules['antecedents'].apply(lambda x: len(x))\n",
    "#rules['consequent length'] = rules['consequents'].apply(lambda x: len(x))\n",
    "rules.drop(columns=['antecedent support', 'consequent support', 'lift', 'leverage', 'conviction'], inplace=True)\n",
    "rules"
   ]
  },
  {
   "cell_type": "code",
   "execution_count": null,
   "metadata": {
    "collapsed": false
   },
   "outputs": [],
   "source": [
    "families_ant_con = list()\n",
    "families_ant = list()\n",
    "for chosen_rule_id in rules.index:\n",
    "    set_of_antecedents = rules.loc[chosen_rule_id, 'antecedents']\n",
    "    set_of_consequents = rules.loc[chosen_rule_id, 'consequents']\n",
    "    conditions_ant = list()\n",
    "    conditions_ant_con = list()\n",
    "    for ante in set_of_antecedents:\n",
    "        conditions_ant.append(df[ante])\n",
    "        conditions_ant_con.append(df[ante])\n",
    "    for cons in set_of_consequents:\n",
    "        conditions_ant.append(~df[cons])\n",
    "        conditions_ant_con.append(df[cons])\n",
    "\n",
    "    joined_ant = pd.Series([True] * df.shape[0], index=df.index)\n",
    "    for c in conditions_ant:\n",
    "        joined_ant &= c\n",
    "    indices = df.loc[joined_ant].index\n",
    "    ret_str = str(len(indices)) + ' families: '\n",
    "    for ind in indices:\n",
    "        ret_str += ind.split(' ')[0] + ' '\n",
    "    families_ant.append(ret_str)\n",
    "\n",
    "    joined_ant_con = pd.Series([True] * df.shape[0], index=df.index)\n",
    "    for c in conditions_ant_con:\n",
    "        joined_ant_con &= c\n",
    "    indices = df.loc[joined_ant_con].index\n",
    "    ret_str = str(len(indices)) + ' families: '\n",
    "    for ind in indices:\n",
    "        ret_str += ind.split(' ')[0] + ' '\n",
    "    families_ant_con.append(ret_str)\n",
    "rules['families with ante & cons'] = families_ant_con\n",
    "rules['families with ante only'] = families_ant\n",
    "rules"
   ]
  },
  {
   "cell_type": "code",
   "execution_count": null,
   "metadata": {
    "collapsed": true
   },
   "outputs": [],
   "source": [
    "#rules.sort_values(by=['confidence'], ascending=False, inplace=True)\n",
    "rules.to_csv('rules_sem.csv', sep='\\t')"
   ]
  },
  {
   "cell_type": "code",
   "execution_count": 3,
   "metadata": {
    "collapsed": false
   },
   "outputs": [],
   "source": [
    "df2 = df.iloc[3649]"
   ]
  },
  {
   "cell_type": "code",
   "execution_count": 4,
   "metadata": {
    "collapsed": false
   },
   "outputs": [
    {
     "name": "stderr",
     "output_type": "stream",
     "text": [
      "C:\\Users\\user\\Anaconda3\\lib\\site-packages\\pandas\\compat\\_optional.py:124: UserWarning: Pandas requires version '2.6.2' or newer of 'numexpr' (version '2.6.1' currently installed).\n",
      "  warnings.warn(msg, UserWarning)\n"
     ]
    },
    {
     "data": {
      "text/plain": [
       "Nf_Situation_X -> causatif -> Adj_Modifier_Xif       True\n",
       "V_Situation_X -> proto-agent -> Nf_Artifact_Xrice    True\n",
       "Name: F03649 contraceptif_Adj.txt, dtype: bool"
      ]
     },
     "execution_count": 4,
     "metadata": {},
     "output_type": "execute_result"
    }
   ],
   "source": [
    "df2[df2 == True]"
   ]
  },
  {
   "cell_type": "code",
   "execution_count": null,
   "metadata": {
    "collapsed": true
   },
   "outputs": [],
   "source": []
  }
 ],
 "metadata": {
  "kernelspec": {
   "display_name": "Python 3",
   "language": "python",
   "name": "python3"
  },
  "language_info": {
   "codemirror_mode": {
    "name": "ipython",
    "version": 3
   },
   "file_extension": ".py",
   "mimetype": "text/x-python",
   "name": "python",
   "nbconvert_exporter": "python",
   "pygments_lexer": "ipython3",
   "version": "3.6.8"
  }
 },
 "nbformat": 4,
 "nbformat_minor": 2
}
