{
 "cells": [
  {
   "cell_type": "code",
   "execution_count": 1,
   "metadata": {},
   "outputs": [],
   "source": [
    "import pickle"
   ]
  },
  {
   "cell_type": "code",
   "execution_count": 2,
   "metadata": {},
   "outputs": [
    {
     "data": {
      "text/plain": [
       "OutEdgeDataView([('accoupler_V', 'accouple_Nf', {'weight': 401, 'label': 'X-X'}), ('accoupler_V', 'accouplage_Nm', {'weight': 2947, 'label': 'X-Xage'}), ('accoupler_V', 'accouplement_Nm', {'weight': 2490, 'label': 'X-Xment'}), ('accoupler_V', 'accoupleur_Nm', {'weight': 2488, 'label': 'X-Xeur'}), ('accoupler_V', 'désaccoupler_V', {'weight': 258, 'label': 'X-dé1X'}), ('couple_Nf', 'coupler_V', {'weight': 3038, 'label': 'X-X'}), ('couple_Nf', 'coupleux_Adj', {'weight': 553, 'label': 'X-Xeux'}), ('couple_Nf', 'anticouple_Adj', {'weight': 195, 'label': 'X-antiX'}), ('couple_Nf', 'accoupler_V', {'weight': 26, 'label': 'X-aX'}), ('coupler_V', 'couplage_Nm', {'weight': 2947, 'label': 'X-Xage'}), ('coupler_V', 'couplement_Nm', {'weight': 2490, 'label': 'X-Xment'}), ('coupler_V', 'coupleur_Nm', {'weight': 2488, 'label': 'X-Xeur'}), ('coupler_V', 'couplière_Nf', {'weight': 32, 'label': 'X-Xière'}), ('couple_Nm', 'couplet_Nm', {'weight': 286, 'label': 'X-Xet'}), ('couple_Nm', 'couplaire_Adj', {'weight': 802, 'label': 'X-Xaire'}), ('couplet_Nm', 'coupleter_V', {'weight': 3038, 'label': 'X-X'}), ('couplet_Nm', 'coupletier_Adj', {'weight': 944, 'label': 'X-Xier'}), ('couplet_Nm', 'coupletier_Nm', {'weight': 1213, 'label': 'X-Xier'}), ('découpler_V', 'découple_Nm', {'weight': 401, 'label': 'X-X'}), ('découpler_V', 'découplage_Nm', {'weight': 2947, 'label': 'X-Xage'}), ('découpler_V', 'découplement_Nm', {'weight': 2490, 'label': 'X-Xment'}), ('découpler_V', 'découplé_Adj', {'weight': 2803, 'label': 'X-X'}), ('découpler_Nm', 'découpler_V', {'weight': 3038, 'label': 'X-X'}), ('désaccoupler_V', 'désaccouplage_Nm', {'weight': 2947, 'label': 'X-Xage'}), ('désaccoupler_V', 'désaccouplement_Nm', {'weight': 2490, 'label': 'X-Xment'}), ('anticouple_Adj', 'anticouple_Nx', {'weight': 251, 'label': 'X-X'})])"
      ]
     },
     "execution_count": 2,
     "metadata": {},
     "output_type": "execute_result"
    }
   ],
   "source": [
    "B = pickle.load(open('D-branching-binary\\F00019', 'rb'))\n",
    "B.edges(data=True)"
   ]
  },
  {
   "cell_type": "code",
   "execution_count": 3,
   "metadata": {},
   "outputs": [
    {
     "name": "stdout",
     "output_type": "stream",
     "text": [
      "('accouple_Nf', {'label': 'N'})\n",
      "('accoupler_V', {'label': 'V'})\n",
      "('couple_Nf', {'label': 'N'})\n",
      "('coupler_V', {'label': 'V'})\n",
      "('couple_Nm', {'label': 'N'})\n",
      "('couplet_Nm', {'label': 'N'})\n",
      "('coupleter_V', {'label': 'V'})\n",
      "('découple_Nm', {'label': 'N'})\n",
      "('découpler_V', {'label': 'V'})\n",
      "('accouplage_Nm', {'label': 'N'})\n",
      "('accouplement_Nm', {'label': 'N'})\n",
      "('accoupleur_Nm', {'label': 'N'})\n",
      "('couplage_Nm', {'label': 'N'})\n",
      "('couplement_Nm', {'label': 'N'})\n",
      "('coupleur_Nm', {'label': 'N'})\n",
      "('découplage_Nm', {'label': 'N'})\n",
      "('découplement_Nm', {'label': 'N'})\n",
      "('découpler_Nm', {'label': 'N'})\n",
      "('désaccouplage_Nm', {'label': 'N'})\n",
      "('désaccoupler_V', {'label': 'V'})\n",
      "('désaccouplement_Nm', {'label': 'N'})\n",
      "('découplé_Adj', {'label': 'Adj'})\n",
      "('coupleux_Adj', {'label': 'Adj'})\n",
      "('anticouple_Adj', {'label': 'Adj'})\n",
      "('anticouple_Nx', {'label': 'N'})\n",
      "('coupletier_Adj', {'label': 'Adj'})\n",
      "('coupletier_Nm', {'label': 'N'})\n",
      "('couplière_Nf', {'label': 'N'})\n",
      "('couplaire_Adj', {'label': 'Adj'})\n"
     ]
    }
   ],
   "source": [
    "for n in B.nodes(data=True):\n",
    "    print(n)"
   ]
  },
  {
   "cell_type": "markdown",
   "metadata": {},
   "source": [
    "# Too much Npx"
   ]
  },
  {
   "cell_type": "code",
   "execution_count": null,
   "metadata": {},
   "outputs": [],
   "source": [
    "import networkx as nx\n",
    "import pickle\n",
    "from os import listdir\n",
    "from os.path import isfile, join"
   ]
  },
  {
   "cell_type": "code",
   "execution_count": null,
   "metadata": {},
   "outputs": [],
   "source": [
    "input_dir = 'demonette-glawinette_graph_binary'\n",
    "input_files = [f for f in listdir(input_dir) if isfile(join(input_dir, f))]\n",
    "input_files.sort()"
   ]
  },
  {
   "cell_type": "code",
   "execution_count": null,
   "metadata": {},
   "outputs": [],
   "source": [
    "ignored = list()\n",
    "for graph in input_files:\n",
    "    G = pickle.load(open(join(input_dir, graph), 'rb'))\n",
    "    #print(G.nodes(data=True))\n",
    "    countNp = 0\n",
    "    for node in G.nodes(data=True):\n",
    "        if node[1].get('label') == 'Np':\n",
    "            countNp += 1\n",
    "    if countNp > 7:\n",
    "        ignored.append(graph)\n",
    "print(ignored)"
   ]
  },
  {
   "cell_type": "markdown",
   "metadata": {},
   "source": [
    "# Multigraph with one edge"
   ]
  },
  {
   "cell_type": "code",
   "execution_count": null,
   "metadata": {},
   "outputs": [],
   "source": [
    "import networkx as nx\n",
    "from networkx.algorithms import isomorphism\n",
    "import pickle\n",
    "from os.path import isfile, join"
   ]
  },
  {
   "cell_type": "code",
   "execution_count": null,
   "metadata": {},
   "outputs": [],
   "source": [
    "G1 = nx.DiGraph()\n",
    "v1 = 'abaisser_V'\n",
    "v2 = 'abaisse_N'\n",
    "v3 = 'abaissee_Adj'\n",
    "G1.add_node(v1, label='V')\n",
    "G1.add_node(v2, label='N')\n",
    "G1.add_node(v3, label='Adj')\n",
    "G1.add_edge(v1, v2, label='X-X$Xer-X')\n",
    "G1.add_edge(v1, v3, label='X-Xee')\n",
    "\n",
    "G2 = nx.DiGraph()\n",
    "v1 = 'aborder_V'\n",
    "v2 = 'abordee_Adj'\n",
    "G2.add_node(v1, label='V')\n",
    "G2.add_node(v2, label='Adj')\n",
    "G2.add_edge(v1, v2, label='X-Xee$Xer-Xee')\n",
    "\n",
    "G3 = nx.DiGraph()\n",
    "v1 = 'aboyer_V'\n",
    "v2 = 'aboi_N'\n",
    "G3.add_node(v1, label='V')\n",
    "G3.add_node(v2, label='N')\n",
    "G3.add_edge(v1, v2, label='X-X$Xer-X')\n",
    "\n",
    "G4 = nx.DiGraph()\n",
    "G4.add_node('rentrer_V', label='V')\n",
    "G4.add_node('rentree_N', label='N')\n",
    "G4.add_edge('rentrer_V', 'rentree_N', label='X-X')\n",
    "\n",
    "print(G1.edges)\n",
    "print(G1.edges(data=True))\n",
    "print(G2.edges)\n",
    "print(G2.edges(data=True))\n",
    "print(G3.edges)\n",
    "print(G3.edges(data=True))\n",
    "print(G4.edges)\n",
    "print(G4.edges(data=True))"
   ]
  },
  {
   "cell_type": "code",
   "execution_count": null,
   "metadata": {},
   "outputs": [],
   "source": [
    "G1 = pickle.load(open(join('demonette-glawinette_graph_binary', 'F00000'), 'rb'))\n",
    "G2 = pickle.load(open(join('demonette-glawinette_graph_binary', 'F00166-000'), 'rb'))\n",
    "print(G1.edges)\n",
    "print(G1.edges(data=True))\n",
    "print(G2.edges)\n",
    "print(G2.edges(data=True))"
   ]
  },
  {
   "cell_type": "code",
   "execution_count": null,
   "metadata": {},
   "outputs": [],
   "source": [
    "def edge_compare(e1, e2):\n",
    "    if '$' in e1['label'] and '$' not in e2['label']:\n",
    "        return e1['label'].split('$')[0] == e2['label']\n",
    "    else:\n",
    "        return e1['label'] == e2['label']\n",
    "GM = isomorphism.MultiDiGraphMatcher(G1, G2, node_match=lambda v1, v2: v1['label'] == v2['label'], edge_match=edge_compare)\n",
    "print(GM.subgraph_is_isomorphic())\n",
    "print(GM.mapping)"
   ]
  },
  {
   "cell_type": "markdown",
   "metadata": {},
   "source": [
    "# Multigraph isomorphy"
   ]
  },
  {
   "cell_type": "code",
   "execution_count": null,
   "metadata": {},
   "outputs": [],
   "source": [
    "import networkx as nx\n",
    "from networkx.algorithms import isomorphism"
   ]
  },
  {
   "cell_type": "code",
   "execution_count": null,
   "metadata": {},
   "outputs": [],
   "source": [
    "G1 = nx.MultiDiGraph()\n",
    "v1 = 'abaisser_V'\n",
    "v2 = 'abaisse_N'\n",
    "G1.add_node(v1, label='V')\n",
    "G1.add_node(v2, label='N')\n",
    "G1.add_edge(v1, v2, label='X-X')\n",
    "G1.add_edge(v1, v2, label='G: Xer-Xe')\n",
    "\n",
    "G2 = nx.MultiDiGraph()\n",
    "v1 = 'aborder_V'\n",
    "v2 = 'abord_N'\n",
    "G2.add_node(v1, label='V')\n",
    "G2.add_node(v2, label='N')\n",
    "G2.add_edge(v1, v2, label='X-X')\n",
    "G2.add_edge(v1, v2, label='G: Xer-X')\n",
    "\n",
    "G3 = nx.MultiDiGraph()\n",
    "v1 = 'aboyer_V'\n",
    "v2 = 'aboi_N'\n",
    "G3.add_node(v1, label='V')\n",
    "G3.add_node(v2, label='N')\n",
    "G3.add_edge(v1, v2, label='X-X')\n",
    "\n",
    "G4 = nx.MultiDiGraph()\n",
    "G4.add_node('rentrer_V', label='V')\n",
    "G4.add_node('rentree_N', label='N')\n",
    "G4.add_edge('rentrer_V', 'rentree_N', label='X-X')\n",
    "\n",
    "print(G1.edges)\n",
    "print(G1.edges(data=True))\n",
    "print(G2.edges)\n",
    "print(G2.edges(data=True))\n",
    "print(G3.edges)\n",
    "print(G3.edges(data=True))\n",
    "print(G4.edges)\n",
    "print(G4.edges(data=True))"
   ]
  },
  {
   "cell_type": "code",
   "execution_count": null,
   "metadata": {},
   "outputs": [],
   "source": [
    "def node_compare(v1, v2):\n",
    "    print(v1, v2)\n",
    "    return v1['label'] == v2['label']\n",
    "\n",
    "def edge_compare(e1, e2):\n",
    "    print(e1)\n",
    "    print(e2)\n",
    "    if 1 in e1.keys() and 1 in e2.keys():\n",
    "        return e1[0]['label'] == e2[0]['label'] and e1[1]['label'] == e2[1]['label']\n",
    "    elif 1 in e1.keys():\n",
    "        return e1[0]['label'] == e2[0]['label']\n",
    "    return e1[0]['label'] == e2[0]['label']\n",
    "GM = isomorphism.MultiDiGraphMatcher(G1, G4, node_match=node_compare, edge_match=edge_compare)\n",
    "print(GM.subgraph_is_isomorphic())\n",
    "print(GM.mapping)"
   ]
  },
  {
   "cell_type": "code",
   "execution_count": null,
   "metadata": {},
   "outputs": [],
   "source": [
    "def node_compare(v1, v2):\n",
    "    print(v1, v2)\n",
    "    return v1['label'] == v2['label']\n",
    "\n",
    "def edge_compare(e1, e2):\n",
    "    print(e1)\n",
    "    print(e2)\n",
    "    return e1[1]['label'] == e2[1]['label'] and e1[0]['label'] == e2[0]['label']\n",
    "    \n",
    "print(G1.edges(data=True))\n",
    "print(G2.edges(data=True))\n",
    "print(nx.is_isomorphic(G1, G2, node_match=node_compare, edge_match=edge_compare))"
   ]
  },
  {
   "cell_type": "markdown",
   "metadata": {},
   "source": [
    "# Automatic analogy"
   ]
  },
  {
   "cell_type": "code",
   "execution_count": null,
   "metadata": {},
   "outputs": [],
   "source": [
    "from difflib import SequenceMatcher"
   ]
  },
  {
   "cell_type": "code",
   "execution_count": null,
   "metadata": {},
   "outputs": [],
   "source": [
    "a1 = '{micocoulier}'\n",
    "a2 = '{micocoule}'\n",
    "b1 = '{main}'\n",
    "match = SequenceMatcher(None, a1, a2).find_longest_match(0, len(a1), 0, len(a2))\n",
    "print(match)\n",
    "common = a1[match.a:match.a+match.size]\n",
    "print('common', common)\n",
    "a1_suffix = a1.replace(common, '')\n",
    "print('a1_suffix', a1_suffix)\n",
    "a2_suffix = a2.replace(common, '')\n",
    "print('a2_suffix', a2_suffix)\n",
    "b2 = b1.replace(a1_suffix, a2_suffix)\n",
    "if b2 == b1 and a1 != a2:\n",
    "    b2 = '--'\n",
    "print(b2)"
   ]
  },
  {
   "cell_type": "markdown",
   "metadata": {},
   "source": [
    "# Frequency"
   ]
  },
  {
   "cell_type": "code",
   "execution_count": null,
   "metadata": {},
   "outputs": [],
   "source": [
    "import pickle"
   ]
  },
  {
   "cell_type": "code",
   "execution_count": null,
   "metadata": {},
   "outputs": [],
   "source": [
    "G = pickle.load(open('graph_binary/F02702', 'rb'))"
   ]
  },
  {
   "cell_type": "code",
   "execution_count": null,
   "metadata": {},
   "outputs": [],
   "source": [
    "G.nodes(data=True)"
   ]
  },
  {
   "cell_type": "markdown",
   "metadata": {},
   "source": [
    "# Common substring"
   ]
  },
  {
   "cell_type": "code",
   "execution_count": null,
   "metadata": {},
   "outputs": [],
   "source": [
    "from difflib import SequenceMatcher"
   ]
  },
  {
   "cell_type": "code",
   "execution_count": null,
   "metadata": {},
   "outputs": [],
   "source": [
    "string1 = \"dîner\"\n",
    "string2 = \"sourire\"\n",
    "match = SequenceMatcher(None, string1, string2).find_longest_match(0, len(string1), 0, len(string2))\n",
    "\n",
    "print(string1[match.a: match.a + match.size])"
   ]
  },
  {
   "cell_type": "markdown",
   "metadata": {},
   "source": [
    "# Node difference"
   ]
  },
  {
   "cell_type": "code",
   "execution_count": null,
   "metadata": {},
   "outputs": [],
   "source": [
    "import pickle\n",
    "import networkx as nx\n",
    "from networkx.algorithms import isomorphism\n",
    "from os.path import isfile, join"
   ]
  },
  {
   "cell_type": "code",
   "execution_count": null,
   "metadata": {},
   "outputs": [],
   "source": [
    "binary_dir = 'graph_binary'\n",
    "G_parent = pickle.load(open(join(binary_dir, 'F03370-0'), 'rb'))\n",
    "G_child = pickle.load(open(join(binary_dir, 'F01431'), 'rb'))\n",
    "GM = isomorphism.DiGraphMatcher(G_child, G_parent, node_match=lambda v1,v2: v1['label'] == v2['label'], edge_match=lambda e1,e2: e1['label'] == e2['label'])\n",
    "H = nx.DiGraph()\n",
    "for subgraph in GM.subgraph_isomorphisms_iter():\n",
    "    H = G_child.nodes - subgraph\n",
    "H"
   ]
  },
  {
   "cell_type": "code",
   "execution_count": null,
   "metadata": {},
   "outputs": [],
   "source": [
    "x = next(iter(H))\n",
    "print(x)"
   ]
  },
  {
   "cell_type": "markdown",
   "metadata": {},
   "source": [
    "# bool"
   ]
  },
  {
   "cell_type": "code",
   "execution_count": null,
   "metadata": {},
   "outputs": [],
   "source": [
    "import pandas as pd\n",
    "import numpy as np"
   ]
  },
  {
   "cell_type": "code",
   "execution_count": null,
   "metadata": {},
   "outputs": [],
   "source": [
    "raw_data = {'first_name': ['Jason', 'Molly', np.nan, np.nan, np.nan], \n",
    "        'nationality': ['USA', 'USA', 'France', 'UK', 'UK'], \n",
    "        'age': [42, 52, 36, 24, 70]}\n",
    "df = pd.DataFrame(raw_data, columns = ['first_name', 'nationality', 'age'])\n",
    "df.index = ['a', 'b', 'c', 'd', 'e']\n",
    "df"
   ]
  },
  {
   "cell_type": "code",
   "execution_count": null,
   "metadata": {},
   "outputs": [],
   "source": [
    "gender = ['M', 'F', 'X', 'F', 'F']\n",
    "gender_series = pd.Series(gender, index=df.index)\n",
    "df['gender'] = gender_series\n",
    "df"
   ]
  },
  {
   "cell_type": "code",
   "execution_count": null,
   "metadata": {},
   "outputs": [],
   "source": [
    "bool1 = [True, True, False, False, True]\n",
    "bool2 = [False, True, True, False, True]\n",
    "df['bool1'] = pd.Series(bool1)\n",
    "df['bool2'] = pd.Series(bool2)\n",
    "df"
   ]
  },
  {
   "cell_type": "code",
   "execution_count": null,
   "metadata": {},
   "outputs": [],
   "source": [
    "bool3 = pd.Series([False] * df.shape[0])\n",
    "bool3 &= df['bool2']\n",
    "bool3"
   ]
  },
  {
   "cell_type": "markdown",
   "metadata": {},
   "source": [
    "# Regex"
   ]
  },
  {
   "cell_type": "code",
   "execution_count": null,
   "metadata": {},
   "outputs": [],
   "source": [
    "import re\n",
    "import codecs"
   ]
  },
  {
   "cell_type": "code",
   "execution_count": null,
   "metadata": {},
   "outputs": [],
   "source": [
    "with codecs.open('posets/families_simplified_maxgraph.dot', 'r', encoding='utf-8') as f:\n",
    "    for line in f:\n",
    "        if '->' in line:  # a line showing edges between concepts\n",
    "            elements = line.split()\n",
    "        elif 'shape' in line:  # a line describing a concept \n",
    "            attribute_number = re.search('Attribute (.*)\\|', line.replace('\\\\n', '')).group(1)\n",
    "            print(attribute_number)\n",
    "            break"
   ]
  },
  {
   "cell_type": "code",
   "execution_count": null,
   "metadata": {},
   "outputs": [],
   "source": [
    "re.search('<(.*)>', 'led,label=\"{<1052> (I: 19, E: 4)|Att').group(1)"
   ]
  },
  {
   "cell_type": "markdown",
   "metadata": {
    "collapsed": true
   },
   "source": [
    "# Isomorphic test"
   ]
  },
  {
   "cell_type": "code",
   "execution_count": null,
   "metadata": {},
   "outputs": [],
   "source": [
    "import networkx as nx\n",
    "import networkx.algorithms.isomorphism as iso"
   ]
  },
  {
   "cell_type": "code",
   "execution_count": null,
   "metadata": {},
   "outputs": [],
   "source": [
    "G1 = nx.DiGraph()\n",
    "G2 = nx.DiGraph()\n",
    "G1.add_node('A', label='X')\n",
    "G1.add_node('B', label='Y')\n",
    "G1.add_edge('A', 'B', label='e1')\n",
    "G2.add_node('C', label='X')\n",
    "G2.add_node('D', label='Y')\n",
    "G2.add_edge('C', 'D', label='e1')\n",
    "nx.is_isomorphic(G1, G2, node_match=lambda v1,v2: v1['label'] == v2['label'], edge_match=lambda e1,e2: e1['label'] == e2['label'])"
   ]
  },
  {
   "cell_type": "code",
   "execution_count": null,
   "metadata": {},
   "outputs": [],
   "source": [
    "G1 = nx.DiGraph()\n",
    "G1.add_node(0, label='nol')\n",
    "G1.add_node(9, label='sembilan')\n",
    "G1.add_node(1, label='satu')\n",
    "G1.add_edge(0, 9, label='09')\n",
    "G1.add_edge(0, 1, label='01')\n",
    "G2 = nx.DiGraph()\n",
    "G2.add_node(0, label='nol')\n",
    "G2.add_node(1, label='sembilan')\n",
    "G2.add_edge(0, 1, label='09')\n",
    "GM = isomorphism.DiGraphMatcher(G1, G2, node_match=lambda v1,v2: v1['label'] == v2['label'], edge_match=lambda e1,e2: e1['label'] == e2['label'])\n",
    "#GM = isomorphism.DiGraphMatcher(G1, G2, edge_match=lambda e1,e2: e1['label'] == e2['label'])\n",
    "GM.subgraph_is_isomorphic()"
   ]
  },
  {
   "cell_type": "markdown",
   "metadata": {},
   "source": [
    "# Progress bar"
   ]
  },
  {
   "cell_type": "code",
   "execution_count": null,
   "metadata": {},
   "outputs": [],
   "source": [
    "import time\n",
    "from utils import printProgressBar\n",
    "# A List of Items\n",
    "items = list(range(0, 57))\n",
    "l = len(items)\n",
    "\n",
    "# Initial call to print 0% progress\n",
    "printProgressBar(0, l, prefix = 'Progress:', suffix = 'Complete', length = 50)\n",
    "for i, item in enumerate(items):\n",
    "    # Do stuff...\n",
    "    time.sleep(0.1)\n",
    "    # Update Progress Bar\n",
    "    printProgressBar(i + 1, l, prefix = 'Progress:', suffix = 'Complete', length = 50)"
   ]
  },
  {
   "cell_type": "markdown",
   "metadata": {
    "collapsed": true
   },
   "source": [
    "# Duplicates in transaction"
   ]
  },
  {
   "cell_type": "code",
   "execution_count": null,
   "metadata": {},
   "outputs": [],
   "source": [
    "def list2lists(input_tr):\n",
    "    ret_tr = list()\n",
    "    tr = list()\n",
    "    ret_tr.append(tr)\n",
    "    for item in input_tr:\n",
    "        added = False\n",
    "        for tr in ret_tr:\n",
    "            if item not in tr:\n",
    "                tr.append(item)\n",
    "                added = True\n",
    "                break\n",
    "        if not added:\n",
    "            tr_new = [item]\n",
    "            ret_tr.append(tr_new)\n",
    "    return ret_tr"
   ]
  },
  {
   "cell_type": "code",
   "execution_count": null,
   "metadata": {},
   "outputs": [],
   "source": [
    "a = [0, 1, 2, 3]\n",
    "list2lists(a)"
   ]
  },
  {
   "cell_type": "markdown",
   "metadata": {
    "collapsed": true
   },
   "source": [
    "# Excel hyperlink"
   ]
  },
  {
   "cell_type": "code",
   "execution_count": null,
   "metadata": {},
   "outputs": [],
   "source": [
    "import codecs\n",
    "from os import listdir\n",
    "from os.path import isfile, join\n",
    "import pandas as pd"
   ]
  },
  {
   "cell_type": "code",
   "execution_count": null,
   "metadata": {},
   "outputs": [],
   "source": [
    "input_dir = 'families'\n",
    "input_files = [f for f in listdir(input_dir) if isfile(join(input_dir, f))]\n",
    "family_name_dict = dict()\n",
    "for input_file in input_files:\n",
    "    with codecs.open(join(input_dir, input_file), 'r', encoding='utf-8') as f:\n",
    "        family_name_dict[input_file.split()[0]] = input_file.split()[1].split('.')[0]  # for setting hyperlink in excel"
   ]
  },
  {
   "cell_type": "code",
   "execution_count": null,
   "metadata": {},
   "outputs": [],
   "source": [
    "family_id_1 = 'F03902-0542'\n",
    "df = pd.DataFrame(columns=['family_id_1', 'family_id_2'])\n",
    "df = df.append(pd.Series({'family_id_1': '=HYPERLINK(\"graph_visualization\\\\' + family_id_1 + ' ' \\\n",
    "                          + family_name_dict[family_id_1] + '.dot\", \"' + family_id_1 + '\")',\n",
    "                         'family_id_2': 'menjadi'}), ignore_index=True)\n",
    "df.to_excel('test_hyper.xlsx')"
   ]
  },
  {
   "cell_type": "markdown",
   "metadata": {
    "collapsed": true
   },
   "source": [
    "# File link"
   ]
  },
  {
   "cell_type": "code",
   "execution_count": null,
   "metadata": {},
   "outputs": [],
   "source": [
    "from IPython.display import FileLink, FileLinks\n",
    "FileLink('fingerprint_visualization/F00853 muter.dot')\n",
    "#print('F://Notebook/Demonext/fingerprint_visualization/F00853muter.dot')"
   ]
  },
  {
   "cell_type": "markdown",
   "metadata": {
    "collapsed": true
   },
   "source": [
    "# has edge"
   ]
  },
  {
   "cell_type": "code",
   "execution_count": null,
   "metadata": {},
   "outputs": [],
   "source": [
    "import networkx as nx"
   ]
  },
  {
   "cell_type": "code",
   "execution_count": null,
   "metadata": {},
   "outputs": [],
   "source": [
    "H = nx.DiGraph()\n",
    "H.add_edge(0, 1)"
   ]
  },
  {
   "cell_type": "code",
   "execution_count": null,
   "metadata": {},
   "outputs": [],
   "source": [
    "H.has_edge(1,0)"
   ]
  },
  {
   "cell_type": "markdown",
   "metadata": {
    "collapsed": true
   },
   "source": [
    "# Panda regex selection"
   ]
  },
  {
   "cell_type": "code",
   "execution_count": null,
   "metadata": {},
   "outputs": [],
   "source": [
    "import pandas as pd"
   ]
  },
  {
   "cell_type": "code",
   "execution_count": null,
   "metadata": {},
   "outputs": [],
   "source": [
    "membership = pd.Series([0] * 5)\n",
    "membership.index = ['F0', 'F1-1', 'F1-2', 'F2', 'F3']\n",
    "membership"
   ]
  },
  {
   "cell_type": "code",
   "execution_count": null,
   "metadata": {},
   "outputs": [],
   "source": [
    "membership[membership.index.str.contains('F1')] = 5\n",
    "membership"
   ]
  },
  {
   "cell_type": "markdown",
   "metadata": {
    "collapsed": true
   },
   "source": [
    "# Join dataframes"
   ]
  },
  {
   "cell_type": "code",
   "execution_count": null,
   "metadata": {},
   "outputs": [],
   "source": [
    "import pandas as pd"
   ]
  },
  {
   "cell_type": "code",
   "execution_count": null,
   "metadata": {},
   "outputs": [],
   "source": [
    "df1 = pd.DataFrame(\n",
    "    {\"A\": [\"A0\", \"A1\", \"A2\", \"A3\"],\n",
    "     \"B\": [\"B0\", \"B1\", \"B2\", \"B3\"],\n",
    "     \"C\": [\"C0\", \"C1\", \"C2\", \"C3\"],\n",
    "     \"D\": [\"D0\", \"D1\", \"D2\", \"D3\"]},\n",
    "    index=[0, 1, 2, 3],\n",
    ")\n",
    "df1"
   ]
  },
  {
   "cell_type": "code",
   "execution_count": null,
   "metadata": {},
   "outputs": [],
   "source": [
    "df2 = pd.DataFrame(\n",
    "    {\"E\": [\"A0\", \"A1\", \"A2\", \"A3\"],\n",
    "     \"F\": [\"B0\", \"B1\", \"B2\", \"B3\"],\n",
    "     \"G\": [\"C0\", \"C1\", \"C2\", \"C3\"],\n",
    "     \"H\": [\"D0\", \"D1\", \"D2\", \"D3\"]},\n",
    "    index=[0, 1, 2, 3],\n",
    ")\n",
    "df2"
   ]
  },
  {
   "cell_type": "code",
   "execution_count": null,
   "metadata": {},
   "outputs": [],
   "source": [
    "df3 = pd.concat([df1, df2], axis=1)\n",
    "df3"
   ]
  },
  {
   "cell_type": "code",
   "execution_count": null,
   "metadata": {},
   "outputs": [],
   "source": [
    "membership = pd.Series([0,9,7,4], name='po')"
   ]
  },
  {
   "cell_type": "code",
   "execution_count": null,
   "metadata": {},
   "outputs": [],
   "source": [
    "df4 = pd.concat([df3, membership], axis=1)#, ignore_index=True)\n",
    "df4"
   ]
  },
  {
   "cell_type": "code",
   "execution_count": null,
   "metadata": {},
   "outputs": [],
   "source": [
    "membership[0] = 89"
   ]
  },
  {
   "cell_type": "code",
   "execution_count": null,
   "metadata": {},
   "outputs": [],
   "source": [
    "df4"
   ]
  },
  {
   "cell_type": "markdown",
   "metadata": {},
   "source": [
    "# class"
   ]
  },
  {
   "cell_type": "code",
   "execution_count": null,
   "metadata": {},
   "outputs": [],
   "source": [
    "class A:\n",
    "    pesan = 'hello'"
   ]
  },
  {
   "cell_type": "code",
   "execution_count": null,
   "metadata": {},
   "outputs": [],
   "source": [
    "a = A()\n",
    "print(a.pesan)\n",
    "A.pesan = 'world'\n",
    "print(a.pesan)"
   ]
  },
  {
   "cell_type": "code",
   "execution_count": null,
   "metadata": {},
   "outputs": [],
   "source": []
  }
 ],
 "metadata": {
  "kernelspec": {
   "display_name": "Python 3 (ipykernel)",
   "language": "python",
   "name": "python3"
  },
  "language_info": {
   "codemirror_mode": {
    "name": "ipython",
    "version": 3
   },
   "file_extension": ".py",
   "mimetype": "text/x-python",
   "name": "python",
   "nbconvert_exporter": "python",
   "pygments_lexer": "ipython3",
   "version": "3.8.10"
  }
 },
 "nbformat": 4,
 "nbformat_minor": 2
}
