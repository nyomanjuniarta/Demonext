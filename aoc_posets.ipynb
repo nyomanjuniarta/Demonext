{
 "cells": [
  {
   "cell_type": "code",
   "execution_count": 1,
   "metadata": {
    "collapsed": false
   },
   "outputs": [
    {
     "name": "stderr",
     "output_type": "stream",
     "text": [
      "C:\\Users\\user\\Anaconda3\\lib\\site-packages\\pandas\\compat\\_optional.py:124: UserWarning: Pandas requires version '1.2.1' or newer of 'bottleneck' (version '1.2.0' currently installed).\n",
      "  warnings.warn(msg, UserWarning)\n"
     ]
    }
   ],
   "source": [
    "import codecs\n",
    "import networkx as nx\n",
    "import os\n",
    "import pandas as pd\n",
    "import pickle\n",
    "import re\n",
    "from networkx.algorithms import isomorphism\n",
    "from os import listdir\n",
    "from os.path import isfile, join\n",
    "from utils import printProgressBar"
   ]
  },
  {
   "cell_type": "markdown",
   "metadata": {},
   "source": [
    "# context from gSpan"
   ]
  },
  {
   "cell_type": "code",
   "execution_count": null,
   "metadata": {
    "collapsed": false
   },
   "outputs": [],
   "source": [
    "number_of_families = 3920\n",
    "input_dir = 'gSpan_s100_l3'\n",
    "file_names = [f for f in listdir(input_dir) if isfile(join(input_dir, f))]\n",
    "context = pd.DataFrame()\n",
    "for file_name in file_names:\n",
    "    if 'members' not in file_name:\n",
    "        continue\n",
    "    graph_number = file_name.split('.')[0].split('_')[2]\n",
    "    membership = pd.Series([0] * number_of_families)\n",
    "    with codecs.open(join(input_dir, file_name), 'r', encoding='utf-8') as f:\n",
    "        for line in f:\n",
    "            membership[int(line.strip('\\n').strip('\\r').strip('F'))] = 1\n",
    "    context[graph_number] = membership\n",
    "context.info()"
   ]
  },
  {
   "cell_type": "code",
   "execution_count": null,
   "metadata": {
    "collapsed": false
   },
   "outputs": [],
   "source": [
    "context['total_graph'] = context.sum(axis=1)\n",
    "context.loc[context['total_graph'] > 0]"
   ]
  },
  {
   "cell_type": "code",
   "execution_count": null,
   "metadata": {
    "collapsed": true
   },
   "outputs": [],
   "source": [
    "context.drop(columns=['total_graph'], inplace=True)"
   ]
  },
  {
   "cell_type": "code",
   "execution_count": null,
   "metadata": {
    "collapsed": false
   },
   "outputs": [],
   "source": [
    "context_file_name = 'context.csv'\n",
    "context.to_csv(context_file_name, header=False, index=False)"
   ]
  },
  {
   "cell_type": "markdown",
   "metadata": {
    "collapsed": true
   },
   "source": [
    "# context from families' proper graphs"
   ]
  },
  {
   "cell_type": "code",
   "execution_count": 3,
   "metadata": {
    "collapsed": false
   },
   "outputs": [
    {
     "name": "stdout",
     "output_type": "stream",
     "text": [
      "Progress: |█████████████████████████████████████████████████-| 99.6% Complete\r"
     ]
    }
   ],
   "source": [
    "input_dir = 'graph_binary'\n",
    "input_files = [f for f in listdir(input_dir) if isfile(join(input_dir, f))]\n",
    "subgroup_prev = ''\n",
    "context = pd.DataFrame()\n",
    "counter = 0\n",
    "for subgraph in input_files:\n",
    "    subgroup_id = subgraph.split('-')[0]\n",
    "    #if subgroup_id != 'F03890':\n",
    "        #continue\n",
    "    if subgroup_id == subgroup_prev:\n",
    "        continue\n",
    "    membership = list()\n",
    "    G2 = pickle.load(open(join(input_dir, subgraph), 'rb'))\n",
    "    supergroup_prev = ''\n",
    "    is_subgraph = 0\n",
    "    for supergraph in input_files:\n",
    "        supergroup_id = supergraph.split('-')[0]\n",
    "        if supergroup_id == subgroup_id:\n",
    "            membership.append(1)\n",
    "            continue\n",
    "        if supergroup_id == supergroup_prev:\n",
    "            membership.append(membership[-1])\n",
    "            continue\n",
    "        G1 = pickle.load(open(join(input_dir, supergraph), 'rb'))\n",
    "        GM = isomorphism.DiGraphMatcher(G1, G2, node_match=lambda v1,v2: v1['label'] == v2['label'], edge_match=lambda e1,e2: e1['label'] == e2['label'])\n",
    "        if GM.subgraph_is_isomorphic():\n",
    "            membership.append(1)\n",
    "        else:\n",
    "            membership.append(0)\n",
    "        supergroup_prev = supergroup_id\n",
    "    subgroup_prev = subgroup_id\n",
    "    context[subgroup_id.replace('F', 'G')] = membership\n",
    "    counter += 1\n",
    "    printProgressBar(counter, 3903, prefix = 'Progress:', suffix = 'Complete', length = 50)\n",
    "context.index = input_files"
   ]
  },
  {
   "cell_type": "code",
   "execution_count": 4,
   "metadata": {
    "collapsed": true
   },
   "outputs": [],
   "source": [
    "context.to_csv('context_with_header.csv')"
   ]
  },
  {
   "cell_type": "markdown",
   "metadata": {},
   "source": [
    "# Run AOC-poset"
   ]
  },
  {
   "cell_type": "code",
   "execution_count": 5,
   "metadata": {
    "collapsed": false
   },
   "outputs": [],
   "source": [
    "context_with_header = pd.read_csv('context_with_header.csv', header=0, index_col=0)\n",
    "context_without_header = 'context_without_header.csv'\n",
    "context_with_header.to_csv(context_without_header, header=False, index=False)"
   ]
  },
  {
   "cell_type": "code",
   "execution_count": 6,
   "metadata": {
    "collapsed": false
   },
   "outputs": [
    {
     "data": {
      "text/plain": [
       "0"
      ]
     },
     "execution_count": 6,
     "metadata": {},
     "output_type": "execute_result"
    }
   ],
   "source": [
    "os.system('java -jar AOCPosetBuilder.jar -i ' + context_without_header + ' -a HERMES -d posets/families_simplified.dot -f SIMPLIFIED -z')\n",
    "os.system('dot -Tpdf posets/families_simplified.dot -o posets/families_simplified.pdf')\n",
    "os.system('java -jar AOCPosetBuilder.jar -i ' + context_without_header + ' -a HERMES -d posets/families_full.dot -f FULL -z')\n",
    "#os.system('java -jar AOCPosetBuilder.jar -i ' + context_without_header + ' -a HERMES -d posets/families_minimal.dot -f MINIMAL')"
   ]
  },
  {
   "cell_type": "markdown",
   "metadata": {
    "collapsed": true
   },
   "source": [
    "Adding extent & intent size to the minimal version"
   ]
  },
  {
   "cell_type": "code",
   "execution_count": 2,
   "metadata": {
    "collapsed": false
   },
   "outputs": [
    {
     "data": {
      "text/plain": [
       "0"
      ]
     },
     "execution_count": 2,
     "metadata": {},
     "output_type": "execute_result"
    }
   ],
   "source": [
    "file_min = codecs.open('posets/families_minimal.dot', 'w')\n",
    "file_simp = 'posets/families_simplified.dot'\n",
    "with codecs.open(file_simp) as f:\n",
    "    for line in f:\n",
    "        if 'graph' in line or 'rankdir' in line or '->' in line or line == '}':\n",
    "            file_min.write(line)\n",
    "            continue\n",
    "        concept_id = re.search('<(.*)>', line).group(1)\n",
    "        line_elements = line.split('|')\n",
    "        line_elements[0] = line_elements[0].replace('> (', '> ' + concept_id + '|(').replace('I', 'Graphs').replace('E', 'Families')\n",
    "        to_be_written = '|'.join(line_elements) + '\\n'\n",
    "        file_min.write(line_elements[0] + '}\\\"];\\n')\n",
    "file_min.close()\n",
    "os.system('dot -Tpdf posets/families_minimal.dot -o posets/families_minimal.pdf')"
   ]
  },
  {
   "cell_type": "code",
   "execution_count": null,
   "metadata": {
    "collapsed": true
   },
   "outputs": [],
   "source": []
  }
 ],
 "metadata": {
  "kernelspec": {
   "display_name": "Python 3",
   "language": "python",
   "name": "python3"
  },
  "language_info": {
   "codemirror_mode": {
    "name": "ipython",
    "version": 3
   },
   "file_extension": ".py",
   "mimetype": "text/x-python",
   "name": "python",
   "nbconvert_exporter": "python",
   "pygments_lexer": "ipython3",
   "version": "3.6.8"
  }
 },
 "nbformat": 4,
 "nbformat_minor": 2
}
