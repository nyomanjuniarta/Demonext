{
 "cells": [
  {
   "cell_type": "code",
   "execution_count": 17,
   "metadata": {
    "collapsed": true
   },
   "outputs": [],
   "source": [
    "import codecs\n",
    "import os\n",
    "from os.path import isfile, join"
   ]
  },
  {
   "cell_type": "code",
   "execution_count": 40,
   "metadata": {
    "collapsed": false
   },
   "outputs": [
    {
     "data": {
      "text/plain": [
       "1"
      ]
     },
     "execution_count": 40,
     "metadata": {},
     "output_type": "execute_result"
    }
   ],
   "source": [
    "# filter by family\n",
    "family_id = 'F00000'\n",
    "full_dot = 'families_full.dot'\n",
    "simplified_dot = 'families_simplified.dot'\n",
    "directory = 'posets'\n",
    "\n",
    "family_number = int(family_id.strip('F'))\n",
    "out_file_name = 'posets_' + family_id + '.dot'\n",
    "out_file = codecs.open(join(directory, out_file_name), 'w')\n",
    "\n",
    "object_concept = ''\n",
    "with codecs.open(join(directory, simplified_dot), 'r', encoding='utf-8') as f:\n",
    "    for line in f:\n",
    "        if ('Object ' + str(family_number)) in line:\n",
    "            object_concept = line.split()[0]\n",
    "            break\n",
    "            \n",
    "attributes_of_object_concept = list()\n",
    "with codecs.open(join(directory, full_dot), 'r', encoding='utf-8') as f:\n",
    "    for line in f:\n",
    "        if object_concept in line:\n",
    "            attributes_of_object_concept = line.split('|')[1].split('\\\\n')[0:-1]\n",
    "            break\n",
    "        \n",
    "selected_concepts = list()    \n",
    "with codecs.open(join(directory, full_dot), 'r', encoding='utf-8') as f:\n",
    "    for line in f:\n",
    "        if '->' in line:\n",
    "            break\n",
    "            \n",
    "        concept_id = line.split()[0]\n",
    "        if ('Object ' + str(family_number)) in line:\n",
    "            selected_concepts.append(concept_id)\n",
    "        else:\n",
    "            selected = True\n",
    "            for att in attributes_of_object_concept:\n",
    "                if att not in line:\n",
    "                    selected = False\n",
    "                    break\n",
    "            if selected:\n",
    "                selected_concepts.append(concept_id)\n",
    "\n",
    "with codecs.open(join(directory, simplified_dot), 'r', encoding='utf-8') as f:\n",
    "    for line in f:\n",
    "        if 'graph' in line or 'rankdir' in line:\n",
    "            out_file.write(line)\n",
    "            continue\n",
    "        if '->' in line:\n",
    "            elements = line.split()\n",
    "            conc1 = elements[0]\n",
    "            conc2 = elements[2]\n",
    "            if conc1 in selected_concepts and conc2 in selected_concepts:\n",
    "                out_file.write(line)\n",
    "        elif line.split()[0] in selected_concepts:\n",
    "            if 'E: 12138' in line: # assumption : number of families = 12138, top concept has empty intent\n",
    "                elements = line.split('|')\n",
    "                elements[2] = 'all families}\"];\\n'\n",
    "                to_write = ''.join(elements)\n",
    "                out_file.write(to_write)\n",
    "            else:\n",
    "                out_file.write(line.replace('Attribute', 'Graph').replace('Object ', 'F'))\n",
    "out_file.write('}\\n')\n",
    "out_file.close()\n",
    "os.system('dot -Tpdf ' + join(directory, out_file_name) + ' -o ' + join(directory, out_file_name).replace('.dot', '.pdf'))"
   ]
  },
  {
   "cell_type": "code",
   "execution_count": null,
   "metadata": {
    "collapsed": true
   },
   "outputs": [],
   "source": []
  }
 ],
 "metadata": {
  "kernelspec": {
   "display_name": "Python 3",
   "language": "python",
   "name": "python3"
  },
  "language_info": {
   "codemirror_mode": {
    "name": "ipython",
    "version": 3
   },
   "file_extension": ".py",
   "mimetype": "text/x-python",
   "name": "python",
   "nbconvert_exporter": "python",
   "pygments_lexer": "ipython3",
   "version": "3.6.8"
  }
 },
 "nbformat": 4,
 "nbformat_minor": 2
}
