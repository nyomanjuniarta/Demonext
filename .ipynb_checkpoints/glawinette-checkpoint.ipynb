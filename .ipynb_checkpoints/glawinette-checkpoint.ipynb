{
 "cells": [
  {
   "cell_type": "code",
   "execution_count": 2,
   "id": "cb81d6a5",
   "metadata": {},
   "outputs": [],
   "source": [
    "import codecs\n",
    "import networkx as nx\n",
    "import pandas as pd\n",
    "import pickle\n",
    "from os import listdir\n",
    "from os.path import isfile, join"
   ]
  },
  {
   "cell_type": "code",
   "execution_count": 4,
   "id": "adce2d9d",
   "metadata": {},
   "outputs": [],
   "source": [
    "# column number\n",
    "lemma1 = 0\n",
    "lemma2 = 1\n",
    "cat1 = 2\n",
    "cat2 = 3\n",
    "origine_morpho = 4\n",
    "origine_def = 5\n",
    "BAP1 = 6\n",
    "BAP2 = 7\n",
    "BAPsize = 8\n",
    "FAP1 = 9\n",
    "FAP2 = 10\n",
    "FAPsize = 11\n",
    "radical = 12\n",
    "FAPtype = 13\n",
    "\n",
    "def FAPconverter(input_fap):\n",
    "    return input_fap.replace('^(.+)', 'X').replace('$', 'X')"
   ]
  },
  {
   "cell_type": "code",
   "execution_count": 15,
   "id": "f9d5c183",
   "metadata": {},
   "outputs": [
    {
     "name": "stdout",
     "output_type": "stream",
     "text": [
      "14 pairs\n"
     ]
    }
   ],
   "source": [
    "header = ''\n",
    "G = nx.Graph()\n",
    "number_of_pairs = 0\n",
    "number_of_unique_pairs = 0\n",
    "with codecs.open('glawinette.csv', 'r', encoding='utf-8') as f:\n",
    "    for line_num, line in enumerate(f):\n",
    "        if line_num == 0:\n",
    "            header = line.replace('\\n','')\n",
    "        elif line_num >= 1:\n",
    "            elements = line.replace('\\n','').replace(' ','').split('\\t')\n",
    "            v1 = elements[lemma1] + '_' + elements[cat1]\n",
    "            v2 = elements[lemma2] + '_' + elements[cat2]\n",
    "            if G.has_edge(v1, v2):\n",
    "                continue\n",
    "            number_of_pairs += 1\n",
    "            G.add_node(v1, label=elements[cat1])\n",
    "            G.add_node(v2, label=elements[cat1])\n",
    "            pattern1 = FAPconverter(elements[FAP1])\n",
    "            pattern2 = FAPconverter(elements[FAP2])\n",
    "            sorted_pattern = sorted([pattern1, pattern2])\n",
    "            G.add_edge(v1, v2, label=sorted_pattern[0] + '-' + sorted_pattern[1])\n",
    "print(number_of_pairs, 'pairs')"
   ]
  },
  {
   "cell_type": "code",
   "execution_count": 17,
   "id": "79a41512",
   "metadata": {},
   "outputs": [
    {
     "name": "stdout",
     "output_type": "stream",
     "text": [
      "13 families\n"
     ]
    }
   ],
   "source": [
    "conn_comps = list(nx.connected_components(G))\n",
    "number_of_families = len(conn_comps)\n",
    "print(number_of_families, 'families')"
   ]
  },
  {
   "cell_type": "code",
   "execution_count": 18,
   "id": "b68781d9",
   "metadata": {},
   "outputs": [
    {
     "name": "stdout",
     "output_type": "stream",
     "text": [
      "0 1   \r",
      "0 2   \r",
      "0 3   \r",
      "0 4   \r",
      "0 5   \r",
      "0 6   \r",
      "0 7   \r",
      "0 8   \r",
      "0 9   \r",
      "0 10   \r",
      "0 11   \r",
      "0 12   \r",
      "1 2   \r",
      "1 3   \r",
      "1 4   \r",
      "1 5   \r",
      "1 6   \r",
      "1 7   \r",
      "1 8   \r",
      "1 9   \r",
      "1 10   \r",
      "1 11   \r",
      "1 12   \r",
      "2 3   \r",
      "2 4   \r",
      "2 5   \r",
      "2 6   \r",
      "2 7   \r",
      "2 8   \r",
      "2 9   \r",
      "2 10   \r",
      "2 11   \r",
      "2 12   \r",
      "3 4   \r",
      "3 5   \r",
      "3 6   \r",
      "3 7   \r",
      "3 8   \r",
      "3 9   \r",
      "3 10   \r",
      "3 11   \r",
      "3 12   \r",
      "4 5   \r",
      "4 6   \r",
      "4 7   \r",
      "4 8   \r",
      "4 9   \r",
      "4 10   \r",
      "4 11   \r",
      "4 12   \r",
      "5 6   \r",
      "5 7   \r",
      "5 8   \r",
      "5 9   \r",
      "5 10   \r",
      "5 11   \r",
      "5 12   \r",
      "6 7   \r",
      "6 8   \r",
      "6 9   \r",
      "6 10   \r",
      "6 11   \r",
      "6 12   \r",
      "7 8   \r",
      "7 9   \r",
      "7 10   \r",
      "7 11   \r",
      "7 12   \r",
      "8 9   \r",
      "8 10   \r",
      "8 11   \r",
      "8 12   \r",
      "9 10   \r",
      "9 11   \r",
      "9 12   \r",
      "10 11   \r",
      "10 12   \r",
      "11 12   \r"
     ]
    }
   ],
   "source": [
    "checked = list()\n",
    "H = nx.Graph() # graph of graphs\n",
    "for fam1 in range(0, number_of_families):\n",
    "    if fam1 in checked:\n",
    "        continue\n",
    "    H.add_node(fam1)\n",
    "    for fam2 in range(fam1 + 1, number_of_families):\n",
    "        if fam2 in checked:\n",
    "            continue\n",
    "        G1 = nx.subgraph(G, conn_comps[fam1])\n",
    "        G2 = nx.subgraph(G, conn_comps[fam2])\n",
    "        if nx.is_isomorphic(G1, G2, node_match=lambda v1,v2: v1['label'] == v2['label'],\\\n",
    "                            edge_match=lambda e1,e2: e1['label'] == e2['label']):\n",
    "            checked.append(fam2)\n",
    "            H.add_edge(fam1, fam2)\n",
    "        print(str(fam1) + ' ' + str(fam2) + '   ', end='\\r')"
   ]
  },
  {
   "cell_type": "code",
   "execution_count": 10,
   "id": "76ce1435",
   "metadata": {},
   "outputs": [],
   "source": [
    "isomorphy_graph = open('glawinette_isomorphy_graph.p', 'wb')\n",
    "pickle.dump(H, isomorphy_graph)\n",
    "isomorphy_graph.close()"
   ]
  },
  {
   "cell_type": "code",
   "execution_count": 11,
   "id": "e1201ced",
   "metadata": {},
   "outputs": [],
   "source": [
    "H = pickle.load(open('glawinette_isomorphy_graph.p', 'rb'))"
   ]
  },
  {
   "cell_type": "code",
   "execution_count": 19,
   "id": "a21134f2",
   "metadata": {},
   "outputs": [
    {
     "name": "stdout",
     "output_type": "stream",
     "text": [
      "13 groups\n"
     ]
    }
   ],
   "source": [
    "H_conn_comps = [c for c in sorted(nx.connected_components(H), key=len, reverse=False)]\n",
    "print(len(H_conn_comps), 'groups')"
   ]
  },
  {
   "cell_type": "code",
   "execution_count": 22,
   "id": "9a6c69a0",
   "metadata": {},
   "outputs": [],
   "source": [
    "def find_representative(K):\n",
    "    # the representative of a family: the node with the most degrees\n",
    "    max_degree = 0\n",
    "    selected_node = ''\n",
    "    for n in list(K.nodes):\n",
    "        if K.degree[n] > max_degree:\n",
    "            max_degree = K.degree[n]\n",
    "            selected_node = n\n",
    "        elif K.degree[n] == max_degree:\n",
    "            if len(selected_node) > len(n):\n",
    "                selected_node = n\n",
    "    return selected_node.split('_')[0]"
   ]
  },
  {
   "cell_type": "code",
   "execution_count": 23,
   "id": "c20d4c7a",
   "metadata": {},
   "outputs": [],
   "source": [
    "output_folder = 'glawinette_families'\n",
    "lexeme_dict = dict()\n",
    "f_summary = codecs.open('summary_of_glawinette_families.txt', 'w+', encoding='utf-8')\n",
    "f_summary.write('family_id\\tnumber_of_lexemes\\tlexemes\\n')\n",
    "for fam_fam_id, fam_fam in enumerate(H_conn_comps):\n",
    "    for fam_id, fam in enumerate(fam_fam):\n",
    "        representative = find_representative(nx.subgraph(G, conn_comps[fam]))\n",
    "        if len(fam_fam) == 1:\n",
    "            family_title = 'F' + str(fam_fam_id).rjust(5, '0')\n",
    "        else:\n",
    "            family_title = 'F' + str(fam_fam_id).rjust(5, '0') + '-' + str(fam_id).rjust(len(str(len(fam_fam)-1)), '0')\n",
    "        f_summary.write(family_title + '\\t'\\\n",
    "                       + str(len(conn_comps[fam])) + '\\t' + str(conn_comps[fam]) + '\\n')\n",
    "        for lexeme in conn_comps[fam]:\n",
    "            filename = family_title + ' ' + representative + '.txt'\n",
    "            lexeme_dict[lexeme] = filename\n",
    "            f_out = codecs.open(join(output_folder, filename), 'w+', encoding='utf-8')\n",
    "            f_out.write(header + '\\tfichier_origine' + '\\n\\n')\n",
    "            f_out.close()\n",
    "f_summary.close()"
   ]
  },
  {
   "cell_type": "code",
   "execution_count": null,
   "id": "69eb943b",
   "metadata": {},
   "outputs": [],
   "source": []
  }
 ],
 "metadata": {
  "kernelspec": {
   "display_name": "Python 3 (ipykernel)",
   "language": "python",
   "name": "python3"
  },
  "language_info": {
   "codemirror_mode": {
    "name": "ipython",
    "version": 3
   },
   "file_extension": ".py",
   "mimetype": "text/x-python",
   "name": "python",
   "nbconvert_exporter": "python",
   "pygments_lexer": "ipython3",
   "version": "3.8.10"
  }
 },
 "nbformat": 4,
 "nbformat_minor": 5
}
