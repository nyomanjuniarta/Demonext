{
 "cells": [
  {
   "cell_type": "code",
   "execution_count": 1,
   "id": "3cbdf72e",
   "metadata": {},
   "outputs": [],
   "source": [
    "import codecs\n",
    "import glob\n",
    "import networkx as nx\n",
    "import pandas as pd\n",
    "import pickle\n",
    "from os import listdir\n",
    "from os.path import isfile, join\n",
    "from networkx.drawing.nx_pydot import write_dot\n",
    "from utils import printProgressBar\n",
    "\n",
    "# column number Demonette\n",
    "graph_1 = 3\n",
    "graph_2 = 6\n",
    "cat_1 = 8\n",
    "cat_2 = 10\n",
    "cstr_1 = 14\n",
    "cstr_2 = 17\n",
    "complexite = 19\n",
    "orientation = 21\n",
    "fichier_origine = 43"
   ]
  },
  {
   "cell_type": "code",
   "execution_count": null,
   "id": "1061dbad",
   "metadata": {},
   "outputs": [],
   "source": [
    "def category_shortening(cat):\n",
    "    if cat != 'Num' and cat[0] == 'N':\n",
    "        if cat[1] == 'p':  # nom propre\n",
    "            return 'Np'\n",
    "        return 'N'  # nom\n",
    "    return cat"
   ]
  },
  {
   "cell_type": "markdown",
   "id": "d2cd993c",
   "metadata": {},
   "source": [
    "# create binary file for graphs"
   ]
  },
  {
   "cell_type": "code",
   "execution_count": null,
   "id": "4db12767",
   "metadata": {},
   "outputs": [],
   "source": [
    "input_dir = 'D-families'\n",
    "input_files = [f for f in listdir(input_dir) if isfile(join(input_dir, f))]\n",
    "output_dir = 'D-graph-binary'\n",
    "\n",
    "for input_file in input_files:\n",
    "    fam_id = input_file.split()[0]\n",
    "    group_id = fam_id.split('-')[0]\n",
    "    H = nx.DiGraph()\n",
    "    with codecs.open(join(input_dir, input_file), 'r', encoding='utf-8') as f:\n",
    "        for line_num, line in enumerate(f):\n",
    "            if line_num >= 2:\n",
    "                elements = line.replace('\\n','').replace(' ','').split('\\t')\n",
    "                va = elements[graph_1] + '_' + elements[cat_1]\n",
    "                vb = elements[graph_2] + '_' + elements[cat_2]\n",
    "                if H.has_edge(va, vb) or H.has_edge(vb, va):\n",
    "                    continue\n",
    "                H.add_node(va, label=category_shortening(elements[cat_1]))\n",
    "                H.add_node(vb, label=category_shortening(elements[cat_2]))\n",
    "                if elements[orientation] == 'as2de' or elements[orientation] == 'as2des':\n",
    "                    H.add_edge(va, vb, label=elements[cstr_1] + '-' + elements[cstr_2])\n",
    "                elif elements[orientation] == 'de2as' or elements[orientation] == 'des2as':\n",
    "                    H.add_edge(vb, va, label=elements[cstr_2] + '-' + elements[cstr_1])\n",
    "                else:\n",
    "                    H.add_edge(va, vb, label=elements[cstr_1] + '-' + elements[cstr_2] + '_' + elements[orientation])\n",
    "                    H.add_edge(vb, va, label=elements[cstr_2] + '-' + elements[cstr_1] + '_' + elements[orientation])\n",
    "    graph_file = open(join(output_dir, fam_id), 'wb')\n",
    "    pickle.dump(H, graph_file)\n",
    "    graph_file.close()\n",
    "    print(fam_id, end='\\r')"
   ]
  },
  {
   "cell_type": "markdown",
   "id": "766ea3c3",
   "metadata": {},
   "source": [
    "#  create fully-oriented graphs"
   ]
  },
  {
   "cell_type": "code",
   "execution_count": null,
   "id": "bbfd2dc9",
   "metadata": {},
   "outputs": [],
   "source": [
    "input_dir = 'D-graph-binary'\n",
    "input_files = [f for f in listdir(input_dir) if isfile(join(input_dir, f))]"
   ]
  },
  {
   "cell_type": "code",
   "execution_count": null,
   "id": "54ccdce6",
   "metadata": {},
   "outputs": [],
   "source": [
    "directed_edge_count = dict()\n",
    "for graph in input_files:\n",
    "    G = pickle.load(open(join(input_dir, graph), 'rb'))\n",
    "    for e in G.edges(data=True):\n",
    "        if 'indirect' in e[2]['label'].split('$')[0] or 'NA' in e[2]['label'].split('$')[0]:\n",
    "            continue\n",
    "        label = G.nodes[e[0]]['label'] + '>' + e[2]['label'].split('$')[0] + '>' + G.nodes[e[1]]['label']\n",
    "        if label not in directed_edge_count:\n",
    "            directed_edge_count[label] = 1\n",
    "        else:\n",
    "            directed_edge_count[label] += 1\n",
    "    print(graph, end='\\r')"
   ]
  },
  {
   "cell_type": "code",
   "execution_count": null,
   "id": "193caa9d",
   "metadata": {},
   "outputs": [],
   "source": [
    "output_dir = 'D-graph-oriented'\n",
    "original_graph_viz_dir = 'D-graph'\n",
    "new_directed_edge_count = directed_edge_count.copy()  # taking into account directed edges that are originally non-directed\n",
    "for graph in input_files:\n",
    "    L = nx.DiGraph()\n",
    "    G = pickle.load(open(join(input_dir, graph), 'rb'))\n",
    "    for n in G.nodes(data=True):\n",
    "        L.add_node(n[0], label=n[0].split('_')[0] + '\\n' + n[1]['label'])\n",
    "    for e in G.edges(data=True):\n",
    "        if 'indirect' in e[2]['label'].split('$')[0] or 'NA' in e[2]['label'].split('$')[0]:\n",
    "            label = e[2]['label'].split('$')[0].replace('_indirect', '').replace('_NA', '')\n",
    "            if L.has_edge(e[1], e[0]) or L.has_edge(e[0], e[1]):\n",
    "                continue\n",
    "            patterns = label.split('-')\n",
    "            label1 = G.nodes[e[0]]['label'] + '>' + patterns[0] + '-' + patterns[1] + '>' + G.nodes[e[1]]['label']\n",
    "            label2 = G.nodes[e[1]]['label'] + '>' + patterns[1] + '-' + patterns[0] + '>' + G.nodes[e[0]]['label']\n",
    "            if directed_edge_count.get(label1, 0) == directed_edge_count.get(label2, 0):\n",
    "                if patterns[0] < patterns[1]:\n",
    "                    L.add_edge(e[0], e[1], label=patterns[0] + '-' + patterns[1])\n",
    "                    try:\n",
    "                        new_directed_edge_count[label1] += 1\n",
    "                    except KeyError:\n",
    "                        new_directed_edge_count[label1] = 1\n",
    "                else:\n",
    "                    L.add_edge(e[1], e[0], label=patterns[1] + '-' + patterns[0])\n",
    "                    try:\n",
    "                        new_directed_edge_count[label2] += 1\n",
    "                    except KeyError:\n",
    "                        new_directed_edge_count[label2] = 1\n",
    "            elif directed_edge_count.get(label1, 0) > directed_edge_count.get(label2, 0):\n",
    "                L.add_edge(e[0], e[1], label=patterns[0] + '-' + patterns[1])\n",
    "                new_directed_edge_count[label1] += 1\n",
    "            else:\n",
    "                L.add_edge(e[1], e[0], label=patterns[1] + '-' + patterns[0])\n",
    "                new_directed_edge_count[label2] += 1\n",
    "        else:\n",
    "            L.add_edge(e[0], e[1], label=e[2]['label'].split('$')[0])\n",
    "    filename = glob.glob(join(original_graph_viz_dir, graph + '*'))[0]\n",
    "    write_dot(L, filename.replace(original_graph_viz_dir, output_dir))\n",
    "    print(graph, end='\\r')"
   ]
  },
  {
   "cell_type": "code",
   "execution_count": null,
   "id": "dbc46aeb",
   "metadata": {},
   "outputs": [],
   "source": [
    "out_file = codecs.open('D_edge_count_directed.txt', 'w')\n",
    "for c in directed_edge_count:\n",
    "    out_file.write(c + ',' + str(directed_edge_count[c]) + '\\n')\n",
    "out_file.close()\n",
    "out_file = codecs.open('D_edge_count_all.txt', 'w')\n",
    "for c in new_directed_edge_count:\n",
    "    out_file.write(c + ',' + str(new_directed_edge_count[c]) + '\\n')\n",
    "out_file.close()"
   ]
  },
  {
   "cell_type": "markdown",
   "id": "46893b98",
   "metadata": {},
   "source": [
    "# generate branchings"
   ]
  },
  {
   "cell_type": "code",
   "execution_count": 2,
   "id": "ac9e7891",
   "metadata": {},
   "outputs": [],
   "source": [
    "input_dir = 'D-graph-binary'\n",
    "input_files = [f for f in listdir(input_dir) if isfile(join(input_dir, f))]"
   ]
  },
  {
   "cell_type": "code",
   "execution_count": 3,
   "id": "62e224be",
   "metadata": {},
   "outputs": [],
   "source": [
    "directed_edge_count = dict()\n",
    "with codecs.open('D_edge_count_directed.txt', 'r', encoding='latin-1') as f:\n",
    "    for line in f:\n",
    "        elements = line.replace('\\n', '').split(',')\n",
    "        directed_edge_count[elements[0]] = int(elements[1])\n",
    "new_directed_edge_count = dict()\n",
    "with codecs.open('D_edge_count_all.txt', 'r', encoding='latin-1') as f:\n",
    "    for line in f:\n",
    "        elements = line.replace('\\n', '').split(',')\n",
    "        new_directed_edge_count[elements[0]] = int(elements[1])"
   ]
  },
  {
   "cell_type": "markdown",
   "id": "95afaf80",
   "metadata": {},
   "source": [
    "## visualization (dot files)"
   ]
  },
  {
   "cell_type": "code",
   "execution_count": 9,
   "id": "33bc28e6",
   "metadata": {},
   "outputs": [
    {
     "name": "stdout",
     "output_type": "stream",
     "text": [
      "F06656-5283\r"
     ]
    }
   ],
   "source": [
    "original_graph_viz_dir = 'D-graph'\n",
    "output_dir = 'D-branching'\n",
    "output_binary_dir = 'D-branching-binary'\n",
    "counter = -1\n",
    "for graph in input_files:\n",
    "#     if graph != 'F00019':\n",
    "#         continue\n",
    "#     counter += 1\n",
    "#     if counter < 3340:\n",
    "#         continue\n",
    "    L = nx.DiGraph()\n",
    "    G = pickle.load(open(join(input_dir, graph), 'rb'))\n",
    "    for n in G.nodes(data=True):\n",
    "        L.add_node(n[0], label=n[0].split('_')[0] + '\\n' + n[1]['label'])\n",
    "    for e in G.edges(data=True):\n",
    "        if 'indirect' in e[2]['label'].split('$')[0] or 'NA' in e[2]['label'].split('$')[0]:\n",
    "            label = e[2]['label'].split('$')[0].replace('_indirect', '').replace('_NA', '')\n",
    "            if L.has_edge(e[1], e[0]) or L.has_edge(e[0], e[1]):\n",
    "                continue\n",
    "            patterns = label.split('-')\n",
    "            label1 = G.nodes[e[0]]['label'] + '>' + patterns[0] + '-' + patterns[1] + '>' + G.nodes[e[1]]['label']\n",
    "            label2 = G.nodes[e[1]]['label'] + '>' + patterns[1] + '-' + patterns[0] + '>' + G.nodes[e[0]]['label']\n",
    "            if new_directed_edge_count.get(label1, 0) == new_directed_edge_count.get(label2, 0):\n",
    "                if patterns[0] < patterns[1]:\n",
    "                    w = new_directed_edge_count.get(label1, 0)\n",
    "                    L.add_edge(e[0], e[1], weight=w, label=patterns[0] + '-' + patterns[1])\n",
    "                else:\n",
    "                    w = new_directed_edge_count.get(label2, 0)\n",
    "                    L.add_edge(e[1], e[0], weight=w, label=patterns[1] + '-' + patterns[0])\n",
    "            elif new_directed_edge_count.get(label1, 0) > new_directed_edge_count.get(label2, 0):\n",
    "                w = new_directed_edge_count.get(label1, 0)\n",
    "                L.add_edge(e[0], e[1], weight=w, label=patterns[0] + '-' + patterns[1])\n",
    "            else:\n",
    "                w = new_directed_edge_count.get(label2, 0)\n",
    "                L.add_edge(e[1], e[0], weight=w, label=patterns[1] + '-' + patterns[0])\n",
    "        else:\n",
    "            edge_type = G.nodes[e[0]]['label'] + '>' + e[2]['label'].split('$')[0] + '>' + G.nodes[e[1]]['label']\n",
    "            w = new_directed_edge_count.get(edge_type, 0)\n",
    "            L.add_edge(e[0], e[1], weight=w, label=e[2]['label'].split('$')[0])\n",
    "    edmonds = nx.algorithms.tree.branchings.Edmonds(L)\n",
    "    B = edmonds.find_optimum(preserve_attrs=True)\n",
    "    for n in B.nodes(data=True):\n",
    "        n[1]['label'] = L.nodes[n[0]]['label']\n",
    "    filename = glob.glob(join(original_graph_viz_dir, graph + '*'))[0]\n",
    "    write_dot(B, filename.replace(original_graph_viz_dir, output_dir))\n",
    "    for n in B.nodes(data=True):\n",
    "        n[1]['label'] = G.nodes[n[0]]['label']\n",
    "    graph_file = open(join(output_binary_dir, graph), 'wb')\n",
    "    pickle.dump(B, graph_file)\n",
    "    graph_file.close()\n",
    "    print(graph, end='\\r')"
   ]
  },
  {
   "cell_type": "code",
   "execution_count": null,
   "id": "c2e67cd9",
   "metadata": {},
   "outputs": [],
   "source": []
  }
 ],
 "metadata": {
  "kernelspec": {
   "display_name": "Python 3 (ipykernel)",
   "language": "python",
   "name": "python3"
  },
  "language_info": {
   "codemirror_mode": {
    "name": "ipython",
    "version": 3
   },
   "file_extension": ".py",
   "mimetype": "text/x-python",
   "name": "python",
   "nbconvert_exporter": "python",
   "pygments_lexer": "ipython3",
   "version": "3.8.10"
  }
 },
 "nbformat": 4,
 "nbformat_minor": 5
}
