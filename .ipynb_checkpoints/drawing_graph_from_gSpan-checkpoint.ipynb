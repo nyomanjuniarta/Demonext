{
 "cells": [
  {
   "cell_type": "code",
   "execution_count": 18,
   "metadata": {
    "collapsed": true
   },
   "outputs": [],
   "source": [
    "import codecs\n",
    "import networkx as nx\n",
    "import os\n",
    "import pickle\n",
    "from networkx.drawing.nx_pydot import write_dot\n",
    "from os import listdir\n",
    "from os.path import isfile, join\n",
    "from utils import printProgressBar"
   ]
  },
  {
   "cell_type": "code",
   "execution_count": 2,
   "metadata": {
    "collapsed": false
   },
   "outputs": [],
   "source": [
    "vertex_labels = pickle.load(open('label_vertex.p', 'rb'))\n",
    "edge_labels = pickle.load(open('label_edge.p', 'rb'))"
   ]
  },
  {
   "cell_type": "code",
   "execution_count": 22,
   "metadata": {
    "collapsed": false
   },
   "outputs": [
    {
     "name": "stdout",
     "output_type": "stream",
     "text": [
      "['Nf', 'V', 'Nm', 'Adj', 'Nx', 'Npx', 'Nmp', 'Nfp', 'Npm', 'Npf', 'Pro', 'Adv', 'Num']\n",
      "['simple_X-X', 'simple_X-Xment', 'simple_indirect_Xeur-Xment', 'simple_X-Xeur', 'simple_X-Xage', 'simple_NA_X-X', 'simple_X-Xier', 'simple_X-Xière', 'simple_X-Xable', 'simple_X-aX']\n"
     ]
    }
   ],
   "source": [
    "print(vertex_labels)\n",
    "print(edge_labels[0:10])"
   ]
  },
  {
   "cell_type": "code",
   "execution_count": 15,
   "metadata": {
    "collapsed": false
   },
   "outputs": [],
   "source": [
    "# because of 'a+' writing options, the directory should be empty\n",
    "joined_result_dir = 'joined_results'\n",
    "result_file_name = 'result_gSpan-s50_l3.txt'\n",
    "params = result_file_name.split('-')[1].replace('.txt', '')\n",
    "out_names = list()\n",
    "with codecs.open(result_file_name, 'r', encoding='utf-8') as f:\n",
    "    res = ''\n",
    "    members = ''\n",
    "    for line in f:\n",
    "        res += line\n",
    "        if line[0] == '-':\n",
    "            f_out = codecs.open(join(joined_result_dir, params + '_' + str(out_name).rjust(4, '0') + '.txt'), 'a+', encoding='utf-8')\n",
    "            f_out.write(res)\n",
    "            f_out.close()\n",
    "            res = ''\n",
    "        elif line[0] == 'w':\n",
    "            members = line.replace('\\r\\n', '').replace(' ', '').replace('[', '').replace(']', '').split(':')[1]\n",
    "            try:\n",
    "                out_name = out_names.index(members)\n",
    "            except:\n",
    "                out_name = len(out_names)\n",
    "                out_names.append(members)"
   ]
  },
  {
   "cell_type": "code",
   "execution_count": 25,
   "metadata": {
    "collapsed": false
   },
   "outputs": [
    {
     "name": "stdout",
     "output_type": "stream",
     "text": [
      "add vert ['v', '0', '1'] V\n",
      "add vert ['v', '1', '2'] Nm\n",
      "add vert ['v', '2', '2'] Nm\n",
      "add vert ['v', '3', '2'] Nm\n",
      "add vert ['v', '4', '3'] Adj\n",
      "add vert ['v', '0', '2'] Nm\n",
      "add vert ['v', '1', '1'] V\n",
      "add vert ['v', '2', '2'] Nm\n",
      "add vert ['v', '3', '2'] Nm\n",
      "add vert ['v', '4', '3'] Adj\n",
      "\r",
      "Progress: |██████████████████--------------------------------| 36.02% complete\r"
     ]
    }
   ],
   "source": [
    "input_files = [f for f in listdir(joined_result_dir) if isfile(join(joined_result_dir, f))]\n",
    "temp_out_dir = 'graphs_from_gSpan'\n",
    "for file_counter, input_file in enumerate(input_files):\n",
    "    H = nx.DiGraph()\n",
    "    with codecs.open(join(joined_result_dir, input_file), 'r', encoding='utf-8') as f:\n",
    "        for line in f:\n",
    "            if line[0] == 't':\n",
    "                result_number = line.split()[2]\n",
    "                vertex_label_indices = list()\n",
    "            elif line[0] == 'v':\n",
    "                vertex_infos = line.split()\n",
    "                H.add_node(vertex_infos[1], label=vertex_labels[int(vertex_infos[2])])\n",
    "            elif line[0] == 'e':\n",
    "                edge_infos = line.split()\n",
    "                full_label = edge_labels[int(edge_infos[3])]\n",
    "                edge_label = full_label.split('_')[0] + '_' + full_label.split('_')[-1]\n",
    "                if 'NA' in full_label:\n",
    "                    vertices = sorted([edge_infos[1], edge_infos[2]])\n",
    "                    H.add_edge(vertices[0], vertices[1], label=edge_label, dir='none', style='dashed', color='gray')\n",
    "                elif 'indirect' in full_label:\n",
    "                    vertices = sorted([edge_infos[1], edge_infos[2]])\n",
    "                    H.add_edge(vertices[0], vertices[1], label=edge_label, dir='none', style='dashed')\n",
    "                else:\n",
    "                    H.add_edge(edge_infos[1], edge_infos[2], label=edge_label)\n",
    "            elif line[0] == 'w':\n",
    "                members = line.replace('\\r\\n', '').replace(' ', '').replace('[', '').replace(']', '').split(':')[1]\n",
    "            elif line[0] == '-':\n",
    "                f_out = codecs.open(join(temp_out_dir, input_file.replace('.txt', '.members.txt')), 'w')\n",
    "                member_list = members.split(',')\n",
    "                member_list = list(map(int, member_list))\n",
    "                member_list.sort()\n",
    "                for member in member_list:\n",
    "                    f_out.write('F' + str(member).rjust(5, '0') + '\\n')\n",
    "                f_out.close()\n",
    "    write_dot(H, join(temp_out_dir, input_file.replace('.txt', '.dot')))\n",
    "    printProgressBar(file_counter, len(input_files), prefix = 'Progress:', suffix = 'complete', length = 50, decimals = 2)\n",
    "    H.clear()"
   ]
  },
  {
   "cell_type": "code",
   "execution_count": null,
   "metadata": {
    "collapsed": true
   },
   "outputs": [],
   "source": []
  }
 ],
 "metadata": {
  "kernelspec": {
   "display_name": "Python 3",
   "language": "python",
   "name": "python3"
  },
  "language_info": {
   "codemirror_mode": {
    "name": "ipython",
    "version": 3
   },
   "file_extension": ".py",
   "mimetype": "text/x-python",
   "name": "python",
   "nbconvert_exporter": "python",
   "pygments_lexer": "ipython3",
   "version": "3.6.8"
  }
 },
 "nbformat": 4,
 "nbformat_minor": 2
}
