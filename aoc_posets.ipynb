{
 "cells": [
  {
   "cell_type": "code",
   "execution_count": 1,
   "metadata": {
    "collapsed": false
   },
   "outputs": [
    {
     "name": "stderr",
     "output_type": "stream",
     "text": [
      "C:\\Users\\user\\Anaconda3\\lib\\site-packages\\pandas\\compat\\_optional.py:124: UserWarning: Pandas requires version '1.2.1' or newer of 'bottleneck' (version '1.2.0' currently installed).\n",
      "  warnings.warn(msg, UserWarning)\n"
     ]
    }
   ],
   "source": [
    "import codecs\n",
    "import os\n",
    "import pandas as pd\n",
    "import re\n",
    "from os import listdir\n",
    "from os.path import isfile, join"
   ]
  },
  {
   "cell_type": "code",
   "execution_count": 2,
   "metadata": {
    "collapsed": false
   },
   "outputs": [
    {
     "name": "stdout",
     "output_type": "stream",
     "text": [
      "<class 'pandas.core.frame.DataFrame'>\n",
      "RangeIndex: 3920 entries, 0 to 3919\n",
      "Columns: 1036 entries, 0000 to 1035\n",
      "dtypes: int64(1036)\n",
      "memory usage: 31.0 MB\n"
     ]
    }
   ],
   "source": [
    "number_of_families = 3920\n",
    "input_dir = 'gSpan_s100_l3'\n",
    "file_names = [f for f in listdir(input_dir) if isfile(join(input_dir, f))]\n",
    "context = pd.DataFrame()\n",
    "for file_name in file_names:\n",
    "    if 'members' not in file_name:\n",
    "        continue\n",
    "    graph_number = file_name.split('.')[0].split('_')[2]\n",
    "    membership = pd.Series([0] * number_of_families)\n",
    "    with codecs.open(join(input_dir, file_name), 'r', encoding='utf-8') as f:\n",
    "        for line in f:\n",
    "            membership[int(line.strip('\\n').strip('\\r').strip('F'))] = 1\n",
    "    context[graph_number] = membership\n",
    "context.info()"
   ]
  },
  {
   "cell_type": "code",
   "execution_count": null,
   "metadata": {
    "collapsed": false
   },
   "outputs": [],
   "source": [
    "context['total_graph'] = context.sum(axis=1)\n",
    "context.loc[context['total_graph'] > 0]"
   ]
  },
  {
   "cell_type": "code",
   "execution_count": null,
   "metadata": {
    "collapsed": true
   },
   "outputs": [],
   "source": [
    "context.drop(columns=['total_graph'], inplace=True)"
   ]
  },
  {
   "cell_type": "code",
   "execution_count": 3,
   "metadata": {
    "collapsed": false
   },
   "outputs": [],
   "source": [
    "context_file_name = 'context.csv'\n",
    "context.to_csv(context_file_name, header=False, index=False)"
   ]
  },
  {
   "cell_type": "code",
   "execution_count": 4,
   "metadata": {
    "collapsed": false
   },
   "outputs": [
    {
     "data": {
      "text/plain": [
       "0"
      ]
     },
     "execution_count": 4,
     "metadata": {},
     "output_type": "execute_result"
    }
   ],
   "source": [
    "#os.system('java -jar AOCPosetBuilder.jar -i ' + context_file_name + ' -a HERMES -d posets/families_simplified.dot -f SIMPLIFIED -z')\n",
    "#os.system('dot -Tpdf posets/families_simplified.dot -o posets/families_simplified.pdf')\n",
    "#os.system('java -jar AOCPosetBuilder.jar -i ' + context_file_name + ' -a HERMES -d posets/families_full.dot -f FULL -z')\n",
    "os.system('java -jar AOCPosetBuilder.jar -i ' + context_file_name + ' -a HERMES -d posets/families_minimal.dot -f MINIMAL')"
   ]
  },
  {
   "cell_type": "markdown",
   "metadata": {
    "collapsed": true
   },
   "source": [
    "Adding extent & intent size to the minimal version"
   ]
  },
  {
   "cell_type": "code",
   "execution_count": 5,
   "metadata": {
    "collapsed": false
   },
   "outputs": [
    {
     "data": {
      "text/plain": [
       "0"
      ]
     },
     "execution_count": 5,
     "metadata": {},
     "output_type": "execute_result"
    }
   ],
   "source": [
    "file_min = codecs.open('posets/families_minimal_s100_l3.dot', 'w')\n",
    "file_simp = 'posets/families_simplified_s100_l3.dot'\n",
    "with codecs.open(file_simp) as f:\n",
    "    for line in f:\n",
    "        if 'graph' in line or 'rankdir' in line or '->' in line or line == '}':\n",
    "            file_min.write(line)\n",
    "            continue\n",
    "        concept_id = re.search('<(.*)>', line).group(1)\n",
    "        line_elements = line.split('|')\n",
    "        line_elements[0] = line_elements[0].replace('> (', '> ' + concept_id + '|(').replace('I', 'Graphs').replace('E', 'Families')\n",
    "        to_be_written = '|'.join(line_elements) + '\\n'\n",
    "        file_min.write(line_elements[0] + '}\\\"];\\n')\n",
    "file_min.close()\n",
    "os.system('dot -Tpdf posets/families_minimal_s100_l3.dot -o posets/families_minimal_s100_l3.pdf')"
   ]
  },
  {
   "cell_type": "code",
   "execution_count": null,
   "metadata": {
    "collapsed": true
   },
   "outputs": [],
   "source": []
  }
 ],
 "metadata": {
  "kernelspec": {
   "display_name": "Python 3",
   "language": "python",
   "name": "python3"
  },
  "language_info": {
   "codemirror_mode": {
    "name": "ipython",
    "version": 3
   },
   "file_extension": ".py",
   "mimetype": "text/x-python",
   "name": "python",
   "nbconvert_exporter": "python",
   "pygments_lexer": "ipython3",
   "version": "3.6.8"
  }
 },
 "nbformat": 4,
 "nbformat_minor": 2
}
