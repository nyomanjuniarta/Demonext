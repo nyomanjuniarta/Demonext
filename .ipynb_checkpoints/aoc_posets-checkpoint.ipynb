{
 "cells": [
  {
   "cell_type": "code",
   "execution_count": null,
   "metadata": {},
   "outputs": [],
   "source": [
    "import codecs\n",
    "import networkx as nx\n",
    "import os\n",
    "import pandas as pd\n",
    "import pickle\n",
    "import re\n",
    "from networkx.algorithms import isomorphism\n",
    "from os import listdir\n",
    "from os.path import isfile, join\n",
    "from utils import printProgressBar"
   ]
  },
  {
   "cell_type": "markdown",
   "metadata": {},
   "source": [
    "# context from gSpan + maxgraph"
   ]
  },
  {
   "cell_type": "code",
   "execution_count": null,
   "metadata": {},
   "outputs": [],
   "source": [
    "input_dir = 'gSpan_s20_l3'\n",
    "family_labels = pickle.load(open('label_family.p', 'rb'))\n",
    "file_names = [f for f in listdir(input_dir) if isfile(join(input_dir, f))]\n",
    "context_from_gSpan = pd.DataFrame()\n",
    "counter = 0\n",
    "for file_name in file_names:\n",
    "    if 'members' not in file_name:\n",
    "        continue\n",
    "    graph_number = 'G' + file_name.split('.')[0]\n",
    "    membership = pd.Series([0] * len(family_labels))\n",
    "    membership.index = family_labels\n",
    "    with codecs.open(join(input_dir, file_name), 'r', encoding='utf-8') as f:\n",
    "        for line in f:\n",
    "            membership[line.strip('\\n').strip('\\r')] = 1\n",
    "    context_from_gSpan[graph_number] = membership\n",
    "    counter += 2\n",
    "    printProgressBar(counter, len(file_names), prefix = 'Progress:', suffix = 'Complete', length = 50)\n",
    "context_from_gSpan.index = family_labels\n",
    "context_from_maxgraph = pd.read_csv('context_from_maxgraph.csv', header=0, index_col=0)\n",
    "context_from_maxgraph.rename(columns=lambda s: s.replace('G', 'F'), inplace=True)\n",
    "context = pd.concat([context_from_gSpan, context_from_maxgraph], axis=1)\n",
    "context.shape"
   ]
  },
  {
   "cell_type": "code",
   "execution_count": null,
   "metadata": {},
   "outputs": [],
   "source": [
    "context['total_graph'] = context.sum(axis=1)\n",
    "context.loc[context['total_graph'] > 0]"
   ]
  },
  {
   "cell_type": "code",
   "execution_count": null,
   "metadata": {},
   "outputs": [],
   "source": [
    "context.drop(columns=['total_graph'], inplace=True)"
   ]
  },
  {
   "cell_type": "code",
   "execution_count": null,
   "metadata": {},
   "outputs": [],
   "source": [
    "context_file_name = 'context_from_gSpan.csv'\n",
    "context.to_csv(context_file_name, header=True, index=True)"
   ]
  },
  {
   "cell_type": "markdown",
   "metadata": {
    "collapsed": true
   },
   "source": [
    "# context from families' maximal graphs"
   ]
  },
  {
   "cell_type": "code",
   "execution_count": null,
   "metadata": {},
   "outputs": [],
   "source": [
    "input_dir = 'graph_binary'\n",
    "input_files = [f for f in listdir(input_dir) if isfile(join(input_dir, f))]\n",
    "input_files.sort()\n",
    "subgroup_prev = ''\n",
    "context = pd.DataFrame()\n",
    "counter = 1\n",
    "input_files_count = len(input_files)\n",
    "for subgraph in input_files:\n",
    "    printProgressBar(counter, input_files_count, prefix = 'Progress:', suffix = 'Complete', length = 50)\n",
    "    counter += 1\n",
    "    subgroup_id = subgraph.split('-')[0]\n",
    "    #if subgroup_id != 'F03814':\n",
    "        #continue\n",
    "    if subgroup_id == subgroup_prev:\n",
    "        continue\n",
    "    membership = list()\n",
    "    G2 = pickle.load(open(join(input_dir, subgraph), 'rb'))\n",
    "    G2_node_count = len(G2)\n",
    "    supergroup_prev = ''\n",
    "    is_subgraph = 0\n",
    "    for supergraph in input_files:\n",
    "        supergroup_id = supergraph.split('-')[0]\n",
    "        if supergroup_id == subgroup_id:\n",
    "            membership.append(1)\n",
    "            continue\n",
    "        if supergroup_id == supergroup_prev:\n",
    "            membership.append(membership[-1])\n",
    "            continue\n",
    "        G1 = pickle.load(open(join(input_dir, supergraph), 'rb'))\n",
    "        if len(G1) < G2_node_count:\n",
    "            membership.append(0)\n",
    "        else:\n",
    "            GM = isomorphism.DiGraphMatcher(G1, G2, node_match=lambda v1,v2: v1['label'] == v2['label'], edge_match=lambda e1,e2: e1['label'] == e2['label'])\n",
    "            if GM.subgraph_is_isomorphic():\n",
    "                membership.append(1)\n",
    "            else:\n",
    "                membership.append(0)\n",
    "        supergroup_prev = supergroup_id\n",
    "    subgroup_prev = subgroup_id\n",
    "#     context[subgroup_id.replace('F', 'G')] = membership\n",
    "    membership = pd.Series(membership, name=subgroup_id.replace('F', 'G'))\n",
    "    context = pd.concat([context, membership], axis=1)\n",
    "context.index = input_files"
   ]
  },
  {
   "cell_type": "code",
   "execution_count": null,
   "metadata": {},
   "outputs": [],
   "source": [
    "context.to_csv('context_from_maxgraph.csv')"
   ]
  },
  {
   "cell_type": "code",
   "execution_count": null,
   "metadata": {},
   "outputs": [],
   "source": [
    "context.shape"
   ]
  },
  {
   "cell_type": "code",
   "execution_count": null,
   "metadata": {},
   "outputs": [],
   "source": [
    "context"
   ]
  },
  {
   "cell_type": "markdown",
   "metadata": {},
   "source": [
    "# Run AOC-poset"
   ]
  },
  {
   "cell_type": "code",
   "execution_count": null,
   "metadata": {},
   "outputs": [],
   "source": [
    "context_with_header = pd.read_csv('context_from_maxgraph.csv', header=0, index_col=0)\n",
    "context_without_header = 'context_without_header.csv'\n",
    "context_with_header.to_csv(context_without_header, header=False, index=False)"
   ]
  },
  {
   "cell_type": "code",
   "execution_count": null,
   "metadata": {},
   "outputs": [],
   "source": [
    "os.system('java -jar AOCPosetBuilder.jar -i ' + context_without_header + ' -a HERMES -d posets/families_simplified_maxgraph.dot -f SIMPLIFIED -z')\n",
    "#os.system('dot -Tpdf posets/families_simplified.dot -o posets/families_simplified.pdf')\n",
    "os.system('java -jar AOCPosetBuilder.jar -i ' + context_without_header + ' -a HERMES -d posets/families_full_maxgraph.dot -f FULL -z')\n",
    "#os.system('java -jar AOCPosetBuilder.jar -i ' + context_without_header + ' -a HERMES -d posets/families_minimal.dot -f MINIMAL')"
   ]
  },
  {
   "cell_type": "markdown",
   "metadata": {
    "collapsed": true
   },
   "source": [
    "Adding extent & intent size to the minimal version"
   ]
  },
  {
   "cell_type": "code",
   "execution_count": null,
   "metadata": {},
   "outputs": [],
   "source": [
    "file_min = codecs.open('posets/families_minimal.dot', 'w')\n",
    "file_simp = 'posets/families_simplified.dot'\n",
    "with codecs.open(file_simp) as f:\n",
    "    for line in f:\n",
    "        if 'graph' in line or 'rankdir' in line or '->' in line or line == '}':\n",
    "            file_min.write(line)\n",
    "            continue\n",
    "        concept_id = re.search('<(.*)>', line).group(1)\n",
    "        line_elements = line.split('|')\n",
    "        line_elements[0] = line_elements[0].replace('> (', '> ' + concept_id + '|(').replace('I', 'Graphs').replace('E', 'Families')\n",
    "        to_be_written = '|'.join(line_elements) + '\\n'\n",
    "        file_min.write(line_elements[0] + '}\\\"];\\n')\n",
    "file_min.close()\n",
    "os.system('dot -Tpdf posets/families_minimal.dot -o posets/families_minimal.pdf')"
   ]
  },
  {
   "cell_type": "markdown",
   "metadata": {
    "collapsed": true
   },
   "source": [
    "# AOC-poset properties"
   ]
  },
  {
   "cell_type": "code",
   "execution_count": null,
   "metadata": {},
   "outputs": [],
   "source": [
    "L = nx.DiGraph()\n",
    "with codecs.open(join('posets', 'families_simplified_maxgraph.dot'), 'r', encoding='utf-8') as f:\n",
    "    for line in f:\n",
    "        if 'Attribute' in line:\n",
    "            L.add_node(line.split()[0])\n",
    "        elif '->' in line:\n",
    "            elements = line.split()\n",
    "            L.add_edge(elements[0], elements[2])\n",
    "count_in = 0\n",
    "sum_in = 0\n",
    "count_out = 0\n",
    "sum_out = 0\n",
    "no_edge = 0\n",
    "top = 0\n",
    "max_parent = 0\n",
    "max_child = 0\n",
    "min_parent = 1000\n",
    "min_child = 1000\n",
    "for node in L:\n",
    "    if L.in_degree(node) > max_child:\n",
    "        max_child = L.in_degree(node)\n",
    "    if L.out_degree(node) > max_parent:\n",
    "        max_parent = L.out_degree(node)\n",
    "    if L.in_degree(node) < min_child and L.in_degree(node) > 0:\n",
    "        min_child = L.in_degree(node)\n",
    "    if L.out_degree(node) < min_parent and L.out_degree(node) > 0:\n",
    "        min_parent = L.out_degree(node)\n",
    "    if L.in_degree(node) == 0 and L.out_degree(node) == 0:\n",
    "        no_edge += 1\n",
    "    if L.out_degree(node) == 0 and L.in_degree(node) > 0:\n",
    "        top += 1\n",
    "    if L.in_degree(node) > 0:\n",
    "        count_in += 1\n",
    "        sum_in += L.in_degree(node)\n",
    "    if L.out_degree(node) > 0:\n",
    "        count_out += 1\n",
    "        sum_out += L.out_degree(node)\n",
    "print('number of concepts: ' + str(len(L.nodes)))\n",
    "print('concept without parent/child: ' + str(no_edge))\n",
    "print('top concepts:', top)\n",
    "print('max_parent:', max_parent)\n",
    "print('max_child:', max_child)\n",
    "print('min_parent', min_parent)\n",
    "print('min_child', min_child)\n",
    "print('average number of parents: ' + str(sum_out / count_out))\n",
    "print('average number of children: ' + str(sum_in / count_in))\n",
    "print('number of levels:' + str(len(nx.dag_longest_path(L))))"
   ]
  },
  {
   "cell_type": "code",
   "execution_count": null,
   "metadata": {},
   "outputs": [],
   "source": []
  },
  {
   "cell_type": "code",
   "execution_count": null,
   "metadata": {},
   "outputs": [],
   "source": []
  }
 ],
 "metadata": {
  "kernelspec": {
   "display_name": "Python 3 (ipykernel)",
   "language": "python",
   "name": "python3"
  },
  "language_info": {
   "codemirror_mode": {
    "name": "ipython",
    "version": 3
   },
   "file_extension": ".py",
   "mimetype": "text/x-python",
   "name": "python",
   "nbconvert_exporter": "python",
   "pygments_lexer": "ipython3",
   "version": "3.8.10"
  }
 },
 "nbformat": 4,
 "nbformat_minor": 2
}
