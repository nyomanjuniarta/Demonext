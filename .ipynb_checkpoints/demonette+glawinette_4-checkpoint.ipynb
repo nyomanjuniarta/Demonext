{
 "cells": [
  {
   "cell_type": "code",
   "execution_count": 1,
   "id": "8fc2e24a",
   "metadata": {},
   "outputs": [],
   "source": [
    "import codecs\n",
    "import glob\n",
    "import networkx as nx\n",
    "import os\n",
    "import pandas as pd\n",
    "import pickle\n",
    "import re\n",
    "from difflib import SequenceMatcher\n",
    "from os import listdir\n",
    "from os.path import isfile, join\n",
    "from networkx.algorithms import isomorphism\n",
    "from networkx.drawing.nx_pydot import write_dot\n",
    "from utils import printProgressBar"
   ]
  },
  {
   "cell_type": "code",
   "execution_count": 2,
   "id": "f480099a",
   "metadata": {},
   "outputs": [
    {
     "name": "stdout",
     "output_type": "stream",
     "text": [
      "(12772221, 1)\n"
     ]
    }
   ],
   "source": [
    "frequencies = pd.read_csv('frequencies-frcowvec-filtered.csv', header=0, index_col=0)\n",
    "print(frequencies.shape)"
   ]
  },
  {
   "cell_type": "code",
   "execution_count": 3,
   "id": "4d3a756d",
   "metadata": {},
   "outputs": [],
   "source": [
    "frcowvec_categories = {'Nm': 'NOM', 'Nf': 'NOM', 'Nmp': 'NOM', 'Nfp': 'NOM', 'Nx': 'NOM', 'More': 'NOM',\n",
    "                       'Npm': 'NAM', 'Npf': 'NAM', 'Npx': 'NAM', 'Npmp': 'NAM', 'Npfp': 'NAM',\n",
    "                       'Adj': 'ADJ', 'V': 'VER', 'Num': 'NUM', 'Pro': 'PRO', 'Adv': 'ADV'}\n",
    "def get_frequency(lex_and_cat):\n",
    "    if '_' not in lex_and_cat:\n",
    "        return 0\n",
    "    old_cat = lex_and_cat.split('_')[-1]\n",
    "    new_cat = frcowvec_categories.get(old_cat)\n",
    "    new_lex_and_cat = lex_and_cat.split('_')[0] + '_' + new_cat\n",
    "    try:\n",
    "        freq = frequencies.loc[new_lex_and_cat]['freq']\n",
    "        return freq\n",
    "    except KeyError:\n",
    "        return 0"
   ]
  },
  {
   "cell_type": "code",
   "execution_count": 4,
   "id": "d872db09",
   "metadata": {},
   "outputs": [],
   "source": [
    "def generate_lexeme(a1, a2, b1):\n",
    "    a1_lex = '^' + a1.split('_')[0] + '$'\n",
    "    a2_lex = '^' + a2.split('_')[0] + '$'\n",
    "    b1_lex = '^' + b1.split('_')[0] + '$'\n",
    "    a2_cat = a2.split('_')[1]\n",
    "    match = SequenceMatcher(None, a1_lex, a2_lex).find_longest_match(0, len(a1_lex), 0, len(a2_lex))\n",
    "    common = a1_lex[match.a:match.a+match.size]\n",
    "    a1_affix = a1_lex.replace(common, '(.+)')\n",
    "    a2_affix = a2_lex.replace(common, '(.+)')\n",
    "    a1_prefix = a1_affix[1:a1_affix.index('(')]\n",
    "    a1_postfix = a1_affix[a1_affix.index(')')+1:-1]\n",
    "    if a1_prefix not in b1_lex or a1_postfix not in b1_lex:\n",
    "        return '??'\n",
    "    b1_stem = b1_lex.replace('^', '').replace('$', '').replace(a1_prefix, '', 1)\n",
    "    if a1_postfix:  # if not empty\n",
    "        b1_stem = ''.join(b1_stem.rsplit(a1_postfix, 1))\n",
    "    b2_lex = a2_affix.replace('(.+)', b1_stem)\n",
    "    return b2_lex.replace('^', '').replace('$', '') + '_' + a2_cat\n",
    "\n",
    "def edge_compare(e1, e2):\n",
    "    return e1['label'].split('$')[0] == e2['label'].split('$')[0]\n",
    "\n",
    "def completion(G_candidate, G_model):\n",
    "    GM = isomorphism.DiGraphMatcher(G_model, G_candidate, node_match=lambda v1,v2: v1['label'] == v2['label'], edge_match=edge_compare)\n",
    "    node_diff = set()\n",
    "    matching_count = 0\n",
    "    for subgraph in GM.subgraph_isomorphisms_iter():\n",
    "        node_diff = G_model.nodes - subgraph\n",
    "    subgraph_keys = list(subgraph.keys())\n",
    "    equivalence = dict()\n",
    "    score = 0  # sum of frequencies\n",
    "    for d in node_diff:\n",
    "        equivalence[d] = generate_lexeme(subgraph_keys[0], d, subgraph.get(subgraph_keys[0]))\n",
    "        score += get_frequency(equivalence[d])\n",
    "    return (subgraph, equivalence, score)"
   ]
  },
  {
   "cell_type": "code",
   "execution_count": 19,
   "id": "7f067e64",
   "metadata": {},
   "outputs": [],
   "source": [
    "def generate_prediction_graph(ori_dict, pred_dict, candidate_number, model_number):\n",
    "    dot_filenames = glob.glob(join('demonette-glawinette_graph', model_number + '*'))\n",
    "    if not dot_filenames: # dot file not found\n",
    "        return\n",
    "    dot_filename = dot_filenames[0]\n",
    "    f_out = codecs.open(join('predictions', candidate_number + ' + ' + model_number + '.dot'), 'w+', encoding='latin-1')\n",
    "    with codecs.open(dot_filename, 'r', encoding='latin-1') as f:\n",
    "        for line in f:\n",
    "            if '{' in line or '}' in line:  # first and last line\n",
    "                f_out.write(line)\n",
    "            elif '->' in line:\n",
    "                elements = line.split()\n",
    "                line = re.sub(r'G: [A-zÀ-ú-]*', '', line)\n",
    "                line = re.sub(r'label=\"[A-z]*: ', 'label=\"', line)\n",
    "                if elements[0].replace('\"', '') in pred_dict or elements[2].replace('\"', '') in pred_dict:\n",
    "                    line = re.sub(r'\\];', ', color=blue, fontcolor=blue];', line)\n",
    "                f_out.write(line)\n",
    "            else:\n",
    "                elements = line.split()\n",
    "                lexeme_cat = elements[0].replace('\"', '')\n",
    "                if lexeme_cat in ori_dict:\n",
    "                    pred = ori_dict.get(lexeme_cat)\n",
    "                    line = line.replace('label=\"' + lexeme_cat.split('_')[0], 'label=\"' + pred.split('_')[0])\n",
    "                    line = line.replace('\"]', ', ' + str(get_frequency(pred)) + '\"]')\n",
    "                else:\n",
    "                    pred = pred_dict.get(lexeme_cat)\n",
    "                    line = line.replace('label=\"' + lexeme_cat.split('_')[0], 'label=\"' + pred.split('_')[0])\n",
    "                    line = line.replace('];', ', color=blue, fontcolor=blue];')\n",
    "                    if pred != '??':\n",
    "                        line = line.replace('\", color', ', ' + str(get_frequency(pred)) + '\", color')\n",
    "                f_out.write(line)\n",
    "    f_out.close()"
   ]
  },
  {
   "cell_type": "code",
   "execution_count": 20,
   "id": "eee93993",
   "metadata": {},
   "outputs": [
    {
     "name": "stdout",
     "output_type": "stream",
     "text": [
      "nouer_V [label=\"vibromasser\\nV, 2\", color=blue, fontcolor=blue];\r\n",
      "\n",
      "\"dénouage_Nm\" [label=\"dévibromassage\\nN, 0\", color=blue, fontcolor=blue];\r\n",
      "\n",
      "\"dénouer_V\" [label=\"dévibromasser\\nV, 0\", color=blue, fontcolor=blue];\r\n",
      "\n",
      "\"dénouement_Nm\" [label=\"dévibromassement\\nN, 0\", color=blue, fontcolor=blue];\r\n",
      "\n",
      "\"dénoueur_Nm\" [label=\"dévibromasseur\\nN, 0\", color=blue, fontcolor=blue];\r\n",
      "\n",
      "nouement_Nm [label=\"vibromassement\\nN, 0\", color=blue, fontcolor=blue];\r\n",
      "\n",
      "noueuse_Nf [label=\"vibromasseuse\\nN, 0\", color=blue, fontcolor=blue];\r\n",
      "\n",
      "renouage_Nm [label=\"revibromassage\\nN, 0\", color=blue, fontcolor=blue];\r\n",
      "\n",
      "renouer_V [label=\"revibromasser\\nV, 0\", color=blue, fontcolor=blue];\r\n",
      "\n",
      "renouement_Nm [label=\"revibromassement\\nN, 0\", color=blue, fontcolor=blue];\r\n",
      "\n",
      "\"noué_Adj\" [label=\"vibromassé\\nAdj, 0\", color=blue, fontcolor=blue];\r\n",
      "\n",
      "\"indénouable_Adj\" [label=\"indévibromassable\\nAdj, 0\", color=blue, fontcolor=blue];\r\n",
      "\n",
      "\"dénouable_Adj\" [label=\"dévibromassable\\nAdj, 0\", color=blue, fontcolor=blue];\r\n",
      "\n",
      "\"redénouer_V\" [label=\"redévibromasser\\nV, 0\", color=blue, fontcolor=blue];\r\n",
      "\n",
      "nouette_Nf [label=\"vibromassette\\nN, 0\", color=blue, fontcolor=blue];\r\n",
      "\n",
      "noue_Nf [label=\"vibromasse\\nN, 0\", color=blue, fontcolor=blue];\r\n",
      "\n",
      "nouet_Nm [label=\"vibromasset\\nN, 0\", color=blue, fontcolor=blue];\r\n",
      "\n",
      "noulet_Nm [label=\"vibromasslet\\nN, 0\", color=blue, fontcolor=blue];\r\n",
      "\n"
     ]
    }
   ],
   "source": [
    "binary_dir = 'demonette-glawinette_graph_binary'\n",
    "candidate_number = 'F04114'\n",
    "model_group_number = 'F01426'\n",
    "candidate = pickle.load(open(join(binary_dir, candidate_number), 'rb'))\n",
    "families = glob.glob(join(binary_dir, model_group_number + '*'))\n",
    "max_score = 0\n",
    "subgraph = dict()\n",
    "equivalence = dict()\n",
    "chosen_model_number = model_group_number\n",
    "for family in families:\n",
    "    model = pickle.load(open(family, 'rb'))\n",
    "    new_subgraph, new_equivalence, score = completion(candidate, model)\n",
    "    if score > max_score:\n",
    "        max_score = score\n",
    "        subgraph = new_subgraph\n",
    "        equivalence = new_equivalence\n",
    "        chosen_model_number = family.split('\\\\')[1]\n",
    "#print(subgraph)\n",
    "#print(equivalence)\n",
    "generate_prediction_graph(subgraph, equivalence, candidate_number, chosen_model_number)"
   ]
  },
  {
   "cell_type": "code",
   "execution_count": 12,
   "id": "274dc85e",
   "metadata": {},
   "outputs": [
    {
     "data": {
      "text/plain": [
       "'\"dénouable_Adj\" [label=\"dévibromassable\\nAdj, 99\", color=blue, fontcolor=blue];'"
      ]
     },
     "execution_count": 12,
     "metadata": {},
     "output_type": "execute_result"
    }
   ],
   "source": [
    "inane = '\"dénouable_Adj\" [label=\"dévibromassable\\nAdj\", color=blue, fontcolor=blue];'\n",
    "elements = inane.split()\n",
    "lexeme_cat = elements[0].replace('\"', '')\n",
    "category = lexeme_cat.split('_')[1]\n",
    "inane = inane.replace(category + '\",', category + ', ' + str(99) + '\",')\n",
    "inane"
   ]
  },
  {
   "cell_type": "code",
   "execution_count": null,
   "id": "42c9b1dc",
   "metadata": {},
   "outputs": [],
   "source": []
  }
 ],
 "metadata": {
  "kernelspec": {
   "display_name": "Python 3 (ipykernel)",
   "language": "python",
   "name": "python3"
  },
  "language_info": {
   "codemirror_mode": {
    "name": "ipython",
    "version": 3
   },
   "file_extension": ".py",
   "mimetype": "text/x-python",
   "name": "python",
   "nbconvert_exporter": "python",
   "pygments_lexer": "ipython3",
   "version": "3.8.10"
  }
 },
 "nbformat": 4,
 "nbformat_minor": 5
}
