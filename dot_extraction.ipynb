{
 "cells": [
  {
   "cell_type": "code",
   "execution_count": 1,
   "metadata": {
    "collapsed": false
   },
   "outputs": [
    {
     "name": "stderr",
     "output_type": "stream",
     "text": [
      "C:\\Users\\user\\Anaconda3\\lib\\site-packages\\pandas\\compat\\_optional.py:124: UserWarning: Pandas requires version '1.2.1' or newer of 'bottleneck' (version '1.2.0' currently installed).\n",
      "  warnings.warn(msg, UserWarning)\n"
     ]
    }
   ],
   "source": [
    "import codecs\n",
    "import networkx as nx\n",
    "import os\n",
    "import pandas as pd\n",
    "import re\n",
    "from os import listdir\n",
    "from os.path import isfile, join\n",
    "from utils import printProgressBar"
   ]
  },
  {
   "cell_type": "code",
   "execution_count": 2,
   "metadata": {
    "collapsed": false
   },
   "outputs": [],
   "source": [
    "context_with_header = pd.read_csv('context_from_maxgraph.csv', header=0, index_col=0)\n",
    "col_names = context_with_header.columns\n",
    "family_ids = context_with_header.index\n",
    "\n",
    "families = [f for f in listdir('families') if isfile(join('families', f))]\n",
    "families_dict = dict()  # contains the representative word for a given family\n",
    "for f in families:\n",
    "    elements = f.replace('.txt', '').split()\n",
    "    families_dict[elements[0]] = elements[1].split('_')[0]"
   ]
  },
  {
   "cell_type": "markdown",
   "metadata": {},
   "source": [
    "# Get parents and children from a concept"
   ]
  },
  {
   "cell_type": "code",
   "execution_count": 4,
   "metadata": {
    "collapsed": false
   },
   "outputs": [
    {
     "name": "stdout",
     "output_type": "stream",
     "text": [
      "Progress: |████████████████████████████████████████████------| 89.9% Complete\r"
     ]
    }
   ],
   "source": [
    "full_dot = 'families_full_s20_l3.dot'\n",
    "simplified_dot = 'families_simplified_s20_l3.dot'\n",
    "directory = 'posets'\n",
    "out_directory = 'posets_gSpan'\n",
    "L1 = nx.DiGraph()\n",
    "L2 = nx.DiGraph()\n",
    "with codecs.open(join(directory, simplified_dot), 'r', encoding='utf-8') as f:\n",
    "    for line in f:\n",
    "        if '->' in line:  # a line showing edges between concepts\n",
    "            elements = line.split()\n",
    "            L1.add_edge(elements[0], elements[2])   \n",
    "            L2.add_edge(elements[2], elements[0])  \n",
    "        elif 'shape' in line:  # a line describing a concept \n",
    "            L1.add_node(line.split()[0])\n",
    "            L2.add_node(line.split()[0])\n",
    "            \n",
    "families = [f for f in listdir('families') if isfile(join('families', f))]\n",
    "group_prev = ''\n",
    "counter = 0\n",
    "for file_name in families:\n",
    "    #if file_name != 'F01317 abducteur.txt':\n",
    "        #continue\n",
    "    family_id = file_name.split()[0]\n",
    "    group_id = family_id.split('-')[0]\n",
    "    if group_id == group_prev:\n",
    "        continue\n",
    "    group_prev = group_id\n",
    "    \n",
    "    # find vertex that contains the intended family and its parents+children\n",
    "    try:\n",
    "        object_id = family_ids.get_loc(family_id)\n",
    "    except KeyError:\n",
    "        #  from fingerprint, family without direct relation\n",
    "        continue\n",
    "    with codecs.open(join(directory, simplified_dot), 'r', encoding='utf-8') as f:\n",
    "        for line in f:\n",
    "            if ('Object ' + str(object_id) + '\\\\n') in line:\n",
    "                vertex = line.split()[0]\n",
    "                break\n",
    "    parents = nx.descendants(L1, vertex)\n",
    "    children = nx.descendants(L2, vertex)\n",
    "    selected_vertices = parents.union(children)\n",
    "    selected_vertices.add(vertex)\n",
    "    \n",
    "    # find all vertex connected to the intended family, and write to dot\n",
    "    out_file_name = 'poset_' + family_id + '_simplified' + '.dot'\n",
    "    out_file = codecs.open(join(out_directory, out_file_name), 'w')\n",
    "    with codecs.open(join(directory, simplified_dot), 'r', encoding='utf-8') as f:\n",
    "        for line in f:\n",
    "            if 'graph' in line or 'rankdir' in line or line == '}':\n",
    "                out_file.write(line)\n",
    "                continue\n",
    "            if '->' in line:\n",
    "                elements = line.split()\n",
    "                v1 = elements[0]\n",
    "                v2 = elements[2]\n",
    "                if v1 in selected_vertices and v2 in selected_vertices:\n",
    "                    out_file.write(line)\n",
    "                continue\n",
    "            vertex_id = line.split()[0]\n",
    "            concept_id = re.search('<(.*)>', line).group(1)\n",
    "            if vertex_id in selected_vertices:\n",
    "                to_be_written = line.split('|')[0] + '|'\n",
    "                attribute_string = line.split('|')[1]\n",
    "                if 'Attribute' not in attribute_string: # empty intent\n",
    "                    #to_be_written += '|'\n",
    "                    pass\n",
    "                else:\n",
    "                    attributes = attribute_string.split('\\\\n')\n",
    "                    for attribute in attributes:\n",
    "                        if attribute == '':\n",
    "                            continue\n",
    "                        to_be_written += col_names[int(attribute.split()[1])] + '\\\\n'\n",
    "                to_be_written += '|'\n",
    "                object_string = line.split('|')[2]\n",
    "                if 'Object' not in object_string: # empty extent\n",
    "                    #to_be_written += '|'\n",
    "                    pass\n",
    "                else:\n",
    "                    objects = object_string.split('\\\\n')\n",
    "                    for obj in objects:\n",
    "                        if obj == '' or '}' in obj:\n",
    "                            continue\n",
    "                        to_be_written += families_dict[family_ids[int(obj.split()[1])]] + '\\\\n'\n",
    "                to_be_written += '}\"];\\n'\n",
    "                to_be_written = re.sub('\\(I.*\\)\\|', concept_id + '|', to_be_written)\n",
    "                to_be_written = to_be_written.replace(',fillcolor=orange', '').replace(',fillcolor=lightblue', '')\n",
    "                if vertex_id == vertex:\n",
    "                    to_be_written = to_be_written.replace('style=filled', 'style=filled,fillcolor=orange')\n",
    "                out_file.write(to_be_written)\n",
    "    out_file.close()\n",
    "    counter += 1\n",
    "    printProgressBar(counter, 3903, prefix = 'Progress:', suffix = 'Complete', length = 50)"
   ]
  },
  {
   "cell_type": "code",
   "execution_count": null,
   "metadata": {
    "collapsed": true
   },
   "outputs": [],
   "source": [
    "# PDF generation\n",
    "dot_dir = 'posets_all'\n",
    "dot_files = [f for f in listdir(dot_dir) if isfile(join(dot_dir, f))]\n",
    "for dot_file in dot_files:\n",
    "    os.system('dot -Tpdf \"' + join(dot_dir, dot_file) + '\" -o \"' + join(dot_dir, dot_file.replace('.dot', '.pdf')) + '\"')"
   ]
  },
  {
   "cell_type": "markdown",
   "metadata": {},
   "source": [
    "# Get common children from two concepts\n",
    "### assumption: group id = column id"
   ]
  },
  {
   "cell_type": "code",
   "execution_count": 3,
   "metadata": {
    "collapsed": true
   },
   "outputs": [],
   "source": [
    "L = nx.DiGraph()\n",
    "with codecs.open(join('posets', 'families_simplified_maxgraph.dot'), 'r', encoding='utf-8') as f:\n",
    "    for line in f:\n",
    "        if '->' in line:  # a line showing edges between concepts\n",
    "            elements = line.split()\n",
    "            L.add_edge(elements[2], elements[0])\n",
    "        elif 'shape' in line:  # a line describing a concept \n",
    "            L.add_node(line.split()[0])"
   ]
  },
  {
   "cell_type": "code",
   "execution_count": 4,
   "metadata": {
    "collapsed": false
   },
   "outputs": [
    {
     "name": "stdout",
     "output_type": "stream",
     "text": [
      "['22805895', '1129944640']\n",
      "4 common superfamilies\n"
     ]
    }
   ],
   "source": [
    "g1 = '3359'\n",
    "g2 = '3902'\n",
    "selected_pair = list()\n",
    "with codecs.open(join('posets', 'families_simplified_maxgraph.dot'), 'r', encoding='utf-8') as f:\n",
    "    for line in f:\n",
    "        if ('Attribute ' + g1 + '\\\\') in line or ('Attribute ' + g2 + '\\\\') in line:\n",
    "            selected_pair.append(line.split()[0])\n",
    "            if len(selected_pair) == 2:\n",
    "                break \n",
    "print(selected_pair)\n",
    "children1 = nx.descendants(L, selected_pair[0])\n",
    "children2 = nx.descendants(L, selected_pair[1])\n",
    "common_children = children1.intersection(children2)\n",
    "print(str(len(common_children)) + ' common superfamilies')\n",
    "vertices_to_children = set()\n",
    "for common_child in common_children:\n",
    "    for v in selected_pair:\n",
    "        for path in nx.all_simple_paths(L, v, common_child):\n",
    "            for p in range(1, len(path)-1):\n",
    "                vertices_to_children.add(path[p])\n",
    "\n",
    "# find all vertex connected to the intended family, and write to dot\n",
    "out_file_name = 'posets_' + g1 + '-' + g2 + '_simplified' + '.dot'\n",
    "out_file = codecs.open(join('posets_common', out_file_name), 'w')\n",
    "selected_vertices = set(selected_pair).union(common_children).union(vertices_to_children)\n",
    "with codecs.open(join('posets', 'families_simplified_maxgraph.dot'), 'r', encoding='utf-8') as f:\n",
    "    for line in f:\n",
    "        if 'graph' in line or 'rankdir' in line or line == '}':\n",
    "            out_file.write(line)\n",
    "            continue\n",
    "        if '->' in line:\n",
    "            elements = line.split()\n",
    "            v1 = elements[0]\n",
    "            v2 = elements[2]\n",
    "            if v1 in selected_vertices and v2 in selected_vertices:\n",
    "                out_file.write(line)\n",
    "            continue\n",
    "        vertex_id = line.split()[0]\n",
    "        concept_id = re.search('<(.*)>', line).group(1)\n",
    "        if vertex_id in selected_vertices:\n",
    "            to_be_written = line.split('|')[0] + '|'\n",
    "            attribute_string = line.split('|')[1]\n",
    "            if 'Attribute' not in attribute_string: # empty intent\n",
    "                to_be_written += '|'\n",
    "            else:\n",
    "                attributes = attribute_string.split('\\\\n')\n",
    "                for attribute in attributes:\n",
    "                    if attribute == '':\n",
    "                        continue\n",
    "                    to_be_written += col_names[int(attribute.split()[1])] + '\\\\n'\n",
    "            to_be_written += '|'\n",
    "            object_string = line.split('|')[2]\n",
    "            if 'Object' not in object_string: # empty extent\n",
    "                to_be_written += '|'\n",
    "            else:\n",
    "                objects = object_string.split('\\\\n')\n",
    "                for obj in objects:\n",
    "                    if obj == '' or '}' in obj:\n",
    "                        continue\n",
    "                    to_be_written += families_dict[family_ids[int(obj.split()[1])]] + '\\\\n'\n",
    "            to_be_written += '}\"];\\n'\n",
    "            to_be_written = re.sub('\\(I.*\\)\\|', concept_id + '|', to_be_written)\n",
    "            to_be_written = to_be_written.replace(',fillcolor=orange', '')\n",
    "            if vertex_id in common_children:\n",
    "                to_be_written = to_be_written.replace('style=filled', 'style=filled,fillcolor=lightblue')\n",
    "            if vertex_id in selected_pair:\n",
    "                to_be_written = to_be_written.replace('style=filled', 'style=filled,fillcolor=orange')\n",
    "            out_file.write(to_be_written)\n",
    "out_file.close()"
   ]
  },
  {
   "cell_type": "markdown",
   "metadata": {},
   "source": [
    "# get children difference"
   ]
  },
  {
   "cell_type": "code",
   "execution_count": 3,
   "metadata": {
    "collapsed": false
   },
   "outputs": [
    {
     "name": "stdout",
     "output_type": "stream",
     "text": [
      "13\n",
      "vibromassage\n",
      "radeau\n",
      "broquillage\n",
      "pavillon\n",
      "viser\n",
      "touraillage\n",
      "orpailleur\n",
      "mareyage\n",
      "pastille\n",
      "lamanage\n",
      "sexage\n",
      "courir\n",
      "hortillonnage\n"
     ]
    }
   ],
   "source": [
    "g1 = 'G03220'\n",
    "g2 = 'G03470'\n",
    "attr1 = col_names.get_loc(g1)\n",
    "attr2 = col_names.get_loc(g2)\n",
    "with codecs.open(join('posets', 'families_full_maxgraph.dot'), 'r', encoding='utf-8') as f:\n",
    "    for line in f:\n",
    "        if ('Attribute ' + str(attr1) + '\\\\') in line:\n",
    "            parent_vertex = line.split()[0]\n",
    "            parent_object_string = line.split('|')[2]\n",
    "            parent_objects = set(parent_object_string.split('\\\\n'))\n",
    "        if ('Attribute ' + str(attr2) + '\\\\') in line:\n",
    "            child_vertex = line.split()[0]\n",
    "            child_object_string = line.split('|')[2]\n",
    "            child_objects = set(child_object_string.split('\\\\n'))\n",
    "object_diff = parent_objects - child_objects\n",
    "print(len(object_diff))\n",
    "for obj in object_diff:\n",
    "    print(families_dict[family_ids[int(obj.split()[1])]])"
   ]
  },
  {
   "cell_type": "markdown",
   "metadata": {},
   "source": [
    "# misc"
   ]
  },
  {
   "cell_type": "code",
   "execution_count": null,
   "metadata": {
    "collapsed": false
   },
   "outputs": [],
   "source": [
    "# filter by family, full\n",
    "family_id = 'F01942'\n",
    "full_dot = 'families_full_s100_l3.dot'\n",
    "simplified_dot = 'families_simplified_s100_l3.dot'\n",
    "directory = 'posets'\n",
    "\n",
    "family_number = int(family_id.strip('F'))\n",
    "out_file_name = 'posets_' + family_id + '_full' + '.dot'\n",
    "out_file = codecs.open(join(directory, out_file_name), 'w')\n",
    "\n",
    "object_concept = ''\n",
    "with codecs.open(join(directory, simplified_dot), 'r', encoding='utf-8') as f:\n",
    "    for line in f:\n",
    "        if ('Object ' + str(family_number)) in line:\n",
    "            object_concept = line.split()[0]\n",
    "            break\n",
    "            \n",
    "attributes_of_object_concept = list()\n",
    "with codecs.open(join(directory, full_dot), 'r', encoding='utf-8') as f:\n",
    "    for line in f:\n",
    "        if object_concept in line:\n",
    "            attributes_of_object_concept = line.split('|')[1].split('\\\\n')[0:-1]\n",
    "            break\n",
    "        \n",
    "selected_concepts = list()    \n",
    "with codecs.open(join(directory, full_dot), 'r', encoding='utf-8') as f:\n",
    "    for line in f:\n",
    "        if 'graph' in line or 'rankdir' in line or line == '}':\n",
    "            out_file.write(line)\n",
    "            continue\n",
    "            \n",
    "        if '->' in line:\n",
    "            elements = line.split()\n",
    "            conc1 = elements[0]\n",
    "            conc2 = elements[2]\n",
    "            if conc1 in selected_concepts and conc2 in selected_concepts:\n",
    "                out_file.write(line)\n",
    "            continue\n",
    "                \n",
    "        vertex_id = line.split()[0]\n",
    "        concept_id = re.search('<(.*)>', line).group(1)\n",
    "        if ('Object ' + str(family_number)) in line:\n",
    "            selected_concepts.append(vertex_id)\n",
    "            if 'E: 3920' in line: # assumption : number of families = 3920, top concept has empty intent\n",
    "                elements = line.split('|')\n",
    "                elements[2] = '||all families}\"];\\n'\n",
    "                to_be_written = ''.join(elements)\n",
    "                to_be_written = re.sub('\\(.*\\)', concept_id, to_be_written)\n",
    "                out_file.write(to_be_written)\n",
    "            else:\n",
    "                to_be_written = line.replace('Attribute', 'Graph').replace('Object ', 'F')\n",
    "                to_be_written = re.sub('\\(.*\\)', concept_id, to_be_written)\n",
    "                out_file.write(to_be_written)\n",
    "        else:\n",
    "            selected = True\n",
    "            for att in attributes_of_object_concept:\n",
    "                if att not in line:\n",
    "                    selected = False\n",
    "                    break\n",
    "            if selected:\n",
    "                selected_concepts.append(vertex_id)\n",
    "                to_be_written = line.replace('Attribute', 'Graph').replace('Object ', 'F')\n",
    "                to_be_written = re.sub('\\(.*\\)', concept_id, to_be_written)\n",
    "                out_file.write(to_be_written)\n",
    "out_file.close()\n",
    "os.system('dot -Tpdf ' + join(directory, out_file_name) + ' -o ' + join(directory, out_file_name).replace('.dot', '.pdf'))"
   ]
  },
  {
   "cell_type": "code",
   "execution_count": null,
   "metadata": {
    "collapsed": false
   },
   "outputs": [],
   "source": [
    "# filter by family, minimal\n",
    "family_id = 'F01942'\n",
    "simplified_dot = 'families_simplified_s100_l3.dot'\n",
    "full_dot = 'families_full_s100_l3.dot'\n",
    "directory = 'posets'\n",
    "\n",
    "family_number = int(family_id.strip('F'))\n",
    "out_file_name = 'posets_' + family_id + '_minimal' + '.dot'\n",
    "out_file = codecs.open(join(directory, out_file_name), 'w')\n",
    "\n",
    "object_concept = ''\n",
    "with codecs.open(join(directory, simplified_dot), 'r', encoding='utf-8') as f:\n",
    "    for line in f:\n",
    "        if ('Object ' + str(family_number)) in line:\n",
    "            object_concept = line.split()[0]\n",
    "            break\n",
    "            \n",
    "attributes_of_object_concept = list()\n",
    "with codecs.open(join(directory, full_dot), 'r', encoding='utf-8') as f:\n",
    "    for line in f:\n",
    "        if object_concept in line:\n",
    "            attributes_of_object_concept = line.split('|')[1].split('\\\\n')[0:-1]\n",
    "            break\n",
    "        \n",
    "selected_concepts = list()    \n",
    "with codecs.open(join(directory, full_dot), 'r', encoding='utf-8') as f:\n",
    "    for line in f:\n",
    "        if 'graph' in line or 'rankdir' in line or line == '}':\n",
    "            out_file.write(line)\n",
    "            continue\n",
    "            \n",
    "        if '->' in line:\n",
    "            elements = line.split()\n",
    "            conc1 = elements[0]\n",
    "            conc2 = elements[2]\n",
    "            if conc1 in selected_concepts and conc2 in selected_concepts:\n",
    "                out_file.write(line)\n",
    "            continue\n",
    "                \n",
    "        vertex_id = line.split()[0]\n",
    "        concept_id = re.search('<(.*)>', line).group(1)\n",
    "        if ('Object ' + str(family_number)) in line:\n",
    "            selected_concepts.append(vertex_id)\n",
    "            elements = line.split('|')\n",
    "            elements[0] = elements[0].replace('> (', '> ' + concept_id + '|(').replace('I', 'Graphs').replace('E', 'Families')\n",
    "            #to_be_written = '|'.join(elements) + '\\n'\n",
    "            out_file.write(elements[0] + '}\"];\\n')\n",
    "        else:\n",
    "            selected = True\n",
    "            for att in attributes_of_object_concept:\n",
    "                if att not in line:\n",
    "                    selected = False\n",
    "                    break\n",
    "            if selected:\n",
    "                selected_concepts.append(vertex_id)\n",
    "                elements = line.split('|')\n",
    "                elements[0] = elements[0].replace('> (', '> ' + concept_id + '|(').replace('I', 'Graphs').replace('E', 'Families')\n",
    "                out_file.write(elements[0] + '}\"];\\n')\n",
    "out_file.close()\n",
    "os.system('dot -Tpdf ' + join(directory, out_file_name) + ' -o ' + join(directory, out_file_name).replace('.dot', '.pdf'))"
   ]
  },
  {
   "cell_type": "code",
   "execution_count": null,
   "metadata": {
    "collapsed": true
   },
   "outputs": [],
   "source": []
  }
 ],
 "metadata": {
  "kernelspec": {
   "display_name": "Python 3",
   "language": "python",
   "name": "python3"
  },
  "language_info": {
   "codemirror_mode": {
    "name": "ipython",
    "version": 3
   },
   "file_extension": ".py",
   "mimetype": "text/x-python",
   "name": "python",
   "nbconvert_exporter": "python",
   "pygments_lexer": "ipython3",
   "version": "3.6.8"
  }
 },
 "nbformat": 4,
 "nbformat_minor": 2
}
