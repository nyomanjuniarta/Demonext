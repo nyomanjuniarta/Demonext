{
 "cells": [
  {
   "cell_type": "code",
   "execution_count": 1,
   "metadata": {
    "collapsed": false
   },
   "outputs": [
    {
     "name": "stderr",
     "output_type": "stream",
     "text": [
      "C:\\Users\\user\\Anaconda3\\lib\\site-packages\\pandas\\compat\\_optional.py:124: UserWarning: Pandas requires version '1.2.1' or newer of 'bottleneck' (version '1.2.0' currently installed).\n",
      "  warnings.warn(msg, UserWarning)\n"
     ]
    }
   ],
   "source": [
    "import codecs\n",
    "import networkx as nx\n",
    "import pandas as pd\n",
    "import pickle\n",
    "import re\n",
    "from networkx.algorithms import isomorphism\n",
    "from os import listdir\n",
    "from os.path import isfile, join\n",
    "from utils import printProgressBar"
   ]
  },
  {
   "cell_type": "markdown",
   "metadata": {},
   "source": [
    "# Using AOC-posets from max graph\n",
    "## Compare complete extent size (for missing lexemes)"
   ]
  },
  {
   "cell_type": "code",
   "execution_count": 2,
   "metadata": {
    "collapsed": false
   },
   "outputs": [],
   "source": [
    "graph_filenames = [f for f in listdir('graph_visualization') if isfile(join('graph_visualization', f))]\n",
    "graph_binary_filenames  = [f for f in listdir('graph_binary') if isfile(join('graph_binary', f))]"
   ]
  },
  {
   "cell_type": "code",
   "execution_count": 3,
   "metadata": {
    "collapsed": false
   },
   "outputs": [],
   "source": [
    "full_extent_dict = dict()\n",
    "with codecs.open(join('posets', 'families_full_maxgraph.dot'), 'r', encoding='utf-8') as f:\n",
    "    for line in f:\n",
    "        if 'Attribute' in line:\n",
    "            full_extent_dict[line.split()[0]] = set(line.replace('Object ', '').split('|')[-1].split('\\\\n')[:-1])\n",
    "        elif '->' in line:\n",
    "            break\n",
    "            \n",
    "L = nx.DiGraph()\n",
    "with codecs.open(join('posets', 'families_simplified_maxgraph.dot'), 'r', encoding='utf-8') as f:\n",
    "    for line in f:\n",
    "        if '->' in line:\n",
    "            v = line.split()\n",
    "            L.add_edge(v[2], v[0])\n",
    "        elif 'Attribute' in line:\n",
    "            vertex_id = line.split()[0]\n",
    "            #introduced_intent = col_names[int(line.split('|')[1].replace('Attribute ', '').replace('\\\\n', ''))]\n",
    "            introduced_extent = line.replace('Object ', '').split('|')[-1].split('\\\\n')[:-1]\n",
    "            extent_size = re.search('E: (.*)\\)', line).group(1)\n",
    "            L.add_node(vertex_id, introduced_intent=int(line.split('|')[1].replace('Attribute ', '').replace('\\\\n', '')),\\\n",
    "                       extent_size=extent_size, introduced_extent=introduced_extent,\\\n",
    "                       concept_number=re.search('<(.*)>', line).group(1))"
   ]
  },
  {
   "cell_type": "code",
   "execution_count": 11,
   "metadata": {
    "collapsed": true
   },
   "outputs": [],
   "source": [
    "def generate_analogy(G_parent, G_child):\n",
    "    GM = isomorphism.DiGraphMatcher(G_child, G_parent, node_match=lambda v1,v2: v1['label'] == v2['label'], edge_match=lambda e1,e2: e1['label'] == e2['label'])\n",
    "    node_diff = set()\n",
    "    for subgraph in GM.subgraph_isomorphisms_iter():\n",
    "        node_diff = G_child.nodes - subgraph\n",
    "    ret_str = ''\n",
    "    for n in node_diff:\n",
    "        if len(G_child.in_edges(n)) > 0:\n",
    "            one_origin = list(G_child.in_edges(n))[0][0]\n",
    "            try:\n",
    "                ret_str += one_origin + ' : ' + n + ' = ' + subgraph.get(one_origin) + ' : ?' + ', '\n",
    "            except TypeError:\n",
    "                pass\n",
    "        else:\n",
    "            one_derived = list(G_child.out_edges(n))[0][1]\n",
    "            try:\n",
    "                ret_str += one_derived + ' : ' + n + ' = ' + subgraph.get(one_derived) + ' : ?' + ', '\n",
    "            except TypeError:\n",
    "                pass\n",
    "    return ret_str[:-2]\n",
    "\n",
    "def generate_analogy2(G_parent, G_sibling, G_child):\n",
    "    GM1 = isomorphism.DiGraphMatcher(G_child, G_parent, node_match=lambda v1,v2: v1['label'] == v2['label'], edge_match=lambda e1,e2: e1['label'] == e2['label'])\n",
    "    GM2 = isomorphism.DiGraphMatcher(G_sibling, G_parent, node_match=lambda v1,v2: v1['label'] == v2['label'], edge_match=lambda e1,e2: e1['label'] == e2['label'])\n",
    "    node_diff = set()\n",
    "    for subgraph in GM1.subgraph_isomorphisms_iter():\n",
    "        node_diff = G_child.nodes - subgraph\n",
    "    #print(subgraph)\n",
    "    #print(node_diff)\n",
    "    for subgraph2 in GM2.subgraph_isomorphisms_iter():\n",
    "        pass\n",
    "    #print(subgraph2)\n",
    "    ret_str = ''\n",
    "    for n in node_diff:\n",
    "        if len(G_child.in_edges(n)) > 0:\n",
    "            one_origin = list(G_child.in_edges(n))[0][0]\n",
    "            for key in subgraph2:\n",
    "                if subgraph2.get(key) == subgraph.get(one_origin):\n",
    "                    one_origin_sibling = key\n",
    "            #print(one_origin_sibling)\n",
    "            ret_str += one_origin + ' : ' + n + ' = ' + one_origin_sibling + ' : ?' + ', '\n",
    "        else:\n",
    "            one_derived = list(G_child.out_edges(n))[0][1]\n",
    "            for key in subgraph2:\n",
    "                if subgraph2.get(key) == subgraph.get(one_derived):\n",
    "                    one_derived_sibling = key\n",
    "            #print(one_derived_sibling)\n",
    "            ret_str += one_derived + ' : ' + n + ' = ' + one_derived_sibling + ' : ?' + ', '\n",
    "    #print(ret_str[:-2])\n",
    "    return ret_str[:-2]"
   ]
  },
  {
   "cell_type": "code",
   "execution_count": 12,
   "metadata": {
    "collapsed": false
   },
   "outputs": [
    {
     "name": "stdout",
     "output_type": "stream",
     "text": [
      "Progress: |██████████████████████████████████████████████████| 100.00% complete\n"
     ]
    }
   ],
   "source": [
    "vertices = list(L.nodes)\n",
    "edge_counter = 0\n",
    "L_size = L.size()\n",
    "binary_dir = 'graph_binary'\n",
    "df_lattice = pd.DataFrame(columns=['concept_pair', 'parent_ext', 'child_ext', 'ext_ratio', 'ante_node_count',\n",
    "                                   'cons_node_count', 'missing_node_count', 'parent', 'child', 'analogy'])\n",
    "for vertex in vertices:\n",
    "    #if vertex != '1567705314':\n",
    "        #continue\n",
    "    current_extent_size = int(L.nodes[vertex]['extent_size'])\n",
    "    G_parent = pickle.load(open(join(binary_dir, graph_binary_filenames[int(L.nodes[vertex]['introduced_extent'][0])]), 'rb'))\n",
    "    current_graph_len = len(G_parent)\n",
    "    children = L.neighbors(vertex)\n",
    "    for child in children:\n",
    "        edge_counter += 1\n",
    "        printProgressBar(edge_counter, L_size, prefix = 'Progress:', suffix = 'complete', length = 50, decimals = 2)\n",
    "        ext_ratio = int(L.nodes[child]['extent_size']) / current_extent_size\n",
    "        if ext_ratio < 0.8:\n",
    "            continue\n",
    "        one_introduced_extent = L.nodes[child]['introduced_extent'][0]\n",
    "        one_G_child = pickle.load(open(join(binary_dir, graph_binary_filenames[int(one_introduced_extent)]), 'rb'))\n",
    "        child_graph_len = len(one_G_child)\n",
    "        node_count_diff = child_graph_len - current_graph_len\n",
    "        concept_pair = L.nodes[vertex]['concept_number'] + '-' + L.nodes[child]['concept_number']\n",
    "        introduced_extent = set(L.nodes[vertex]['introduced_extent'])\n",
    "        for e in introduced_extent:\n",
    "            G_parent = pickle.load(open(join(binary_dir, graph_binary_filenames[int(e)]), 'rb'))\n",
    "            df_lattice = df_lattice.append(pd.Series({\n",
    "                    'parent': '=HYPERLINK(\"graph_visualization\\\\' + graph_filenames[int(e)] + '\", \"' + graph_filenames[int(e)] + ' **\")',\n",
    "                    'child': '=HYPERLINK(\"graph_visualization\\\\' + graph_filenames[int(one_introduced_extent)] + '\", \"' + graph_filenames[int(one_introduced_extent)] + '\")',\n",
    "                    'parent_ext': current_extent_size,\n",
    "                    'child_ext': int(L.nodes[child]['extent_size']),\n",
    "                    'ext_ratio': ext_ratio,\n",
    "                    'ante_node_count': current_graph_len,\n",
    "                    'cons_node_count': child_graph_len,\n",
    "                    'missing_node_count': node_count_diff,\n",
    "                    'analogy': generate_analogy(G_parent, one_G_child),\n",
    "                    'concept_pair': concept_pair \n",
    "                }), ignore_index=True)\n",
    "        \n",
    "        extent_diff = full_extent_dict[vertex] - full_extent_dict[child] - introduced_extent\n",
    "        for e in extent_diff:\n",
    "            G_sibling = pickle.load(open(join(binary_dir, graph_binary_filenames[int(e)]), 'rb'))\n",
    "            df_lattice = df_lattice.append(pd.Series({\n",
    "                    'parent': '=HYPERLINK(\"graph_visualization\\\\' + graph_filenames[int(e)] + '\", \"' + graph_filenames[int(e)] + '\")',\n",
    "                    'child': '=HYPERLINK(\"graph_visualization\\\\' + graph_filenames[int(one_introduced_extent)] + '\", \"' + graph_filenames[int(one_introduced_extent)] + '\")',\n",
    "                    'parent_ext': current_extent_size,\n",
    "                    'child_ext': int(L.nodes[child]['extent_size']),\n",
    "                    'ext_ratio': ext_ratio,\n",
    "                    'ante_node_count': current_graph_len,\n",
    "                    'cons_node_count': child_graph_len,\n",
    "                    'missing_node_count': node_count_diff,\n",
    "                    'analogy': generate_analogy2(G_parent, G_sibling, one_G_child),\n",
    "                    'concept_pair': concept_pair \n",
    "                }), ignore_index=True)"
   ]
  },
  {
   "cell_type": "code",
   "execution_count": 13,
   "metadata": {
    "collapsed": false
   },
   "outputs": [
    {
     "name": "stderr",
     "output_type": "stream",
     "text": [
      "C:\\Users\\user\\Anaconda3\\lib\\site-packages\\pandas\\compat\\_optional.py:124: UserWarning: Pandas requires version '0.9.8' or newer of 'xlsxwriter' (version '0.9.6' currently installed).\n",
      "  warnings.warn(msg, UserWarning)\n"
     ]
    }
   ],
   "source": [
    "df_lattice.to_excel('concept_comparison_maxgraph_missing.xlsx', index=False)"
   ]
  },
  {
   "cell_type": "markdown",
   "metadata": {},
   "source": [
    "### Percobaan"
   ]
  },
  {
   "cell_type": "code",
   "execution_count": null,
   "metadata": {
    "collapsed": false
   },
   "outputs": [],
   "source": [
    "binary_dir = 'graph_binary'\n",
    "G_parent = pickle.load(open(join(binary_dir, 'F02798'), 'rb'))\n",
    "G_sibling = pickle.load(open(join(binary_dir, 'F02716'), 'rb'))\n",
    "G_child = pickle.load(open(join(binary_dir, 'F03141-0'), 'rb'))"
   ]
  },
  {
   "cell_type": "code",
   "execution_count": null,
   "metadata": {
    "collapsed": false
   },
   "outputs": [],
   "source": [
    "generate_analogy(G_parent, G_sibling, G_child)"
   ]
  },
  {
   "cell_type": "markdown",
   "metadata": {},
   "source": [
    "## Compare simplified extent size (for spurious lexemes)"
   ]
  },
  {
   "cell_type": "code",
   "execution_count": 14,
   "metadata": {
    "collapsed": true
   },
   "outputs": [],
   "source": [
    "graph_filenames = [f for f in listdir('graph_visualization') if isfile(join('graph_visualization', f))]\n",
    "graph_binary_filenames  = [f for f in listdir('graph_binary') if isfile(join('graph_binary', f))]"
   ]
  },
  {
   "cell_type": "code",
   "execution_count": 15,
   "metadata": {
    "collapsed": true
   },
   "outputs": [],
   "source": [
    "L = nx.DiGraph()\n",
    "with codecs.open(join('posets', 'families_simplified_maxgraph.dot'), 'r', encoding='utf-8') as f:\n",
    "    for line in f:\n",
    "        if '->' in line:\n",
    "            v = line.split()\n",
    "            L.add_edge(v[2], v[0])\n",
    "        elif 'Attribute' in line:\n",
    "            vertex_id = line.split()[0]\n",
    "            #introduced_intent = col_names[int(line.split('|')[1].replace('Attribute ', '').replace('\\\\n', ''))]\n",
    "            introduced_extent = line.replace('Object ', '').split('|')[-1].split('\\\\n')[:-1]\n",
    "            introduced_extent_size = line.count('Object')\n",
    "            G = pickle.load(open(join('graph_binary', graph_binary_filenames[int(introduced_extent[0])]), 'rb'))\n",
    "            L.add_node(vertex_id, introduced_extent=introduced_extent, introduced_extent_size=introduced_extent_size,\\\n",
    "                      concept_number=re.search('<(.*)>', line).group(1),\\\n",
    "                      node_count=len(G))"
   ]
  },
  {
   "cell_type": "code",
   "execution_count": 16,
   "metadata": {
    "collapsed": false
   },
   "outputs": [
    {
     "name": "stdout",
     "output_type": "stream",
     "text": [
      "Progress: |██████████████████████████████████████████████████| 100.00% complete\n"
     ]
    }
   ],
   "source": [
    "vertices = list(L.nodes)\n",
    "edge_counter = 0\n",
    "L_size = L.size()\n",
    "binary_dir = 'graph_binary'\n",
    "df_lattice = pd.DataFrame(columns=['concept_pair', 'parent_introduced_extent', 'child_introduced_extent',\n",
    "                                   'introduced_extent_ratio',\n",
    "                                   'parent_node_count', 'child_node_count', 'node_count_diff',\n",
    "                                   'parent', 'child',\n",
    "                                   'spurious_node', 'spurious_node_freq'])\n",
    "for vertex in vertices:\n",
    "    #if vertex != '1567705314':\n",
    "        #continue\n",
    "    current_extent_size = int(L.nodes[vertex]['introduced_extent_size'])\n",
    "    current_graph_len = L.nodes[vertex]['node_count']\n",
    "    children = L.neighbors(vertex)\n",
    "    one_parent_extent = L.nodes[vertex]['introduced_extent'][0]\n",
    "    G_parent = pickle.load(open(join(binary_dir, graph_binary_filenames[int(one_parent_extent)]), 'rb'))\n",
    "    for child in children:\n",
    "        edge_counter += 1\n",
    "        printProgressBar(edge_counter, L_size, prefix = 'Progress:', suffix = 'complete', length = 50, decimals = 2)\n",
    "        node_diff = L.nodes[child]['node_count'] - current_graph_len\n",
    "        intr_ext_ratio = int(L.nodes[child]['introduced_extent_size']) / current_extent_size\n",
    "        if node_diff > 1 or intr_ext_ratio > 0.2:  # or L.nodes[child]['introduced_extent_size'] > 1:\n",
    "            continue\n",
    "        concept_pair = L.nodes[vertex]['concept_number'] + '-' + L.nodes[child]['concept_number']\n",
    "        child_extent = L.nodes[child]['introduced_extent']\n",
    "        for e in child_extent:\n",
    "            G_child = pickle.load(open(join(binary_dir, graph_binary_filenames[int(e)]), 'rb'))\n",
    "            GM = isomorphism.DiGraphMatcher(G_child, G_parent, node_match=lambda v1,v2: v1['label'] == v2['label'], edge_match=lambda e1,e2: e1['label'] == e2['label'])\n",
    "            H = set()\n",
    "            spurious_node = ''\n",
    "            spurious_node_freq = 999999999\n",
    "            for subgraph in GM.subgraph_isomorphisms_iter():\n",
    "                H = G_child.nodes - subgraph\n",
    "                spurious_node_temp = next(iter(H))\n",
    "                if G_child.node[spurious_node_temp]['frequency'] < spurious_node_freq:\n",
    "                    spurious_node = spurious_node_temp\n",
    "                    spurious_node_freq = G_child.node[spurious_node]['frequency']\n",
    "            df_lattice = df_lattice.append(pd.Series({\n",
    "                    'parent': '=HYPERLINK(\"graph_visualization\\\\' + graph_filenames[int(one_parent_extent)] + '\", \"' + graph_filenames[int(one_parent_extent)] + '\")',\n",
    "                    'child': '=HYPERLINK(\"graph_visualization\\\\' + graph_filenames[int(e)] + '\", \"' + graph_filenames[int(e)] + '\")',\n",
    "                    'parent_introduced_extent': current_extent_size,\n",
    "                    'child_introduced_extent': L.nodes[child]['introduced_extent_size'],\n",
    "                    'introduced_extent_ratio': intr_ext_ratio,\n",
    "                    'parent_node_count': current_graph_len,\n",
    "                    'child_node_count': L.nodes[child]['node_count'],\n",
    "                    'node_count_diff': node_diff,\n",
    "                    'spurious_node': spurious_node,\n",
    "                    'spurious_node_freq': G_child.node[spurious_node]['frequency'],\n",
    "                    'concept_pair': concept_pair\n",
    "                }), ignore_index=True)"
   ]
  },
  {
   "cell_type": "code",
   "execution_count": 17,
   "metadata": {
    "collapsed": false
   },
   "outputs": [
    {
     "name": "stderr",
     "output_type": "stream",
     "text": [
      "C:\\Users\\user\\Anaconda3\\lib\\site-packages\\pandas\\compat\\_optional.py:124: UserWarning: Pandas requires version '0.9.8' or newer of 'xlsxwriter' (version '0.9.6' currently installed).\n",
      "  warnings.warn(msg, UserWarning)\n"
     ]
    }
   ],
   "source": [
    "df_lattice.to_excel('concept_comparison_maxgraph_spurious.xlsx', index=False)"
   ]
  },
  {
   "cell_type": "markdown",
   "metadata": {},
   "source": [
    "# Using AOC-posets\n",
    "## looking at two concepts having one-node difference"
   ]
  },
  {
   "cell_type": "code",
   "execution_count": null,
   "metadata": {
    "collapsed": true
   },
   "outputs": [],
   "source": [
    "node_count = dict()\n",
    "input_dir = 'fingerprint_binary'\n",
    "graphs = [g for g in listdir(input_dir) if isfile(join(input_dir, g))]\n",
    "prev_group = ''\n",
    "for graph in graphs:\n",
    "    group = graph.split('-')[0]\n",
    "    if group == prev_group:\n",
    "        continue\n",
    "    prev_group = group\n",
    "    G = pickle.load(open(join(input_dir, graph), 'rb'))\n",
    "    node_count[group.replace('F', 'G')] = len(G)"
   ]
  },
  {
   "cell_type": "code",
   "execution_count": null,
   "metadata": {
    "collapsed": false
   },
   "outputs": [],
   "source": [
    "context_with_header = pd.read_csv('context_from_fingerprint.csv', header=0, index_col=0)\n",
    "col_names = context_with_header.columns\n",
    "family_ids = context_with_header.index\n",
    "\n",
    "families = [f for f in listdir('families_fingerprint') if isfile(join('families_fingerprint', f))]\n",
    "families_dict = dict()  # contains a word for a given family\n",
    "for f in families:\n",
    "    elements = f.replace('.txt', '').split()\n",
    "    families_dict[elements[0]] = elements[1].split('_')[0]\n",
    "L = nx.DiGraph()\n",
    "with codecs.open(join('posets', 'families_simplified_fingerprint.dot'), 'r', encoding='utf-8') as f:\n",
    "    for line in f:\n",
    "        if '->' in line:\n",
    "            v = line.split()\n",
    "            L.add_edge(v[2], v[0])\n",
    "        elif 'Attribute' in line:\n",
    "            vertex_id = line.split()[0]\n",
    "            proper_intent = col_names[int(line.split('|')[1].replace('Attribute ', '').replace('\\\\n', ''))]\n",
    "            graph_size = node_count[proper_intent]\n",
    "            L.add_node(vertex_id, proper_intent=proper_intent, graph_size=graph_size)"
   ]
  },
  {
   "cell_type": "code",
   "execution_count": null,
   "metadata": {
    "collapsed": false
   },
   "outputs": [],
   "source": [
    "vertices = list(L.nodes)\n",
    "for vertex in vertices:\n",
    "    #if vertex != '1472682156':\n",
    "        #continue\n",
    "    current_graph_size = int(L.nodes[vertex]['graph_size'])\n",
    "    children = L.neighbors(vertex)\n",
    "    for child in children:\n",
    "        child_graph_size = int(L.nodes[child]['graph_size'])\n",
    "        if float(child_graph_size - current_graph_size) == 1 and child_graph_size > 6:\n",
    "            print(L.nodes[vertex]['proper_intent'], L.nodes[child]['proper_intent'],\\\n",
    "                  str(current_graph_size) + '->' + str(child_graph_size))"
   ]
  },
  {
   "cell_type": "markdown",
   "metadata": {},
   "source": [
    "# Using apriori principle"
   ]
  },
  {
   "cell_type": "code",
   "execution_count": null,
   "metadata": {
    "collapsed": false
   },
   "outputs": [],
   "source": [
    "import codecs\n",
    "import pandas as pd\n",
    "import os\n",
    "from mlxtend.frequent_patterns import apriori\n",
    "from mlxtend.frequent_patterns import association_rules\n",
    "from mlxtend.preprocessing import TransactionEncoder\n",
    "from os import listdir\n",
    "from os.path import isfile, join\n",
    "from utils import list2lists\n",
    "\n",
    "# column number\n",
    "rid = 0\n",
    "fid = 1\n",
    "lid_1 = 2\n",
    "graph_1 = 3\n",
    "ori_graph_1 = 4\n",
    "lid_2 = 5\n",
    "graph_2 = 6\n",
    "ori_graph_2 = 7\n",
    "cat_1 = 8\n",
    "ori_cat_1 = 9\n",
    "cat_2 = 10\n",
    "ori_cat_2 = 11\n",
    "ori_cple = 12\n",
    "type_cstr_1 = 13\n",
    "cstr_1 = 14\n",
    "ori_cstr_1 = 15\n",
    "type_cstr_2 = 16\n",
    "cstr_2 = 17\n",
    "ori_cstr_2 = 18\n",
    "complexite = 19\n",
    "ori_complexite = 20\n",
    "orientation = 21\n",
    "ori_orientation = 22\n",
    "semty_1 = 23\n",
    "ori_semty_1 = 24\n",
    "semty_2 = 25\n",
    "ori_semty_2 = 26\n",
    "sous_semty_1 = 27\n",
    "sous_semty_2 = 28\n",
    "ori_sous_semty_1 = 29\n",
    "ori_sous_semty_2 = 30\n",
    "semtyrss_1 = 31\n",
    "semtyrss_2 = 32\n",
    "ori_semtyrss_1 = 33\n",
    "ori_semtyrss_2 = 34\n",
    "rel_sem_n1 = 35\n",
    "rel_sem_n2 = 36\n",
    "ori_relsem = 37\n",
    "def_conc = 38\n",
    "ori_def_conc = 39\n",
    "def_abs = 40\n",
    "ori_def_abs = 41\n",
    "commentaires = 42\n",
    "fichier_origine = 43"
   ]
  },
  {
   "cell_type": "code",
   "execution_count": null,
   "metadata": {
    "collapsed": false
   },
   "outputs": [],
   "source": [
    "#  options1: Vertex: category, cstr. Edge: orientation, complexite\n",
    "input_dir = 'families'\n",
    "input_files = [f for f in listdir(input_dir) if isfile(join(input_dir, f))]\n",
    "\n",
    "transactions = list()\n",
    "index_for_df = list()\n",
    "fam_prec = ''\n",
    "for input_file in input_files:\n",
    "    transaction = list()\n",
    "    pairs = list()\n",
    "    if '-' in input_file and input_file.split('-')[0] == fam_prec:\n",
    "        continue\n",
    "    fam_prec = input_file.split('-')[0]\n",
    "    with codecs.open(join(input_dir, input_file), 'r', encoding='utf-8') as f:\n",
    "        for line_num, line in enumerate(f):\n",
    "            if line_num >= 2:\n",
    "                elements = line.replace('\\n','').replace(' ','').split('\\t')\n",
    "                \n",
    "                lex = list()\n",
    "                #lex.append(elements[cat_1] + '_' + elements[cstr_1])\n",
    "                #lex.append(elements[cat_2] + '_' + elements[cstr_2])\n",
    "                if elements[orientation] == 'indirect' or elements[orientation] == 'NA':\n",
    "                    continue\n",
    "                    '''lex.sort()\n",
    "                    item = lex[0] + ' - ' + elements[complexite] + '_' + elements[orientation] + ' - ' + lex[1]\n",
    "                    transaction.append(item)'''\n",
    "                if elements[orientation] == 'as2de' or elements[orientation] == 'as2des':\n",
    "                    item = elements[graph_1] + '-' + elements[graph_2] + ':' + elements[cat_1] + ' -> ' + \\\n",
    "                    elements[complexite] + '_' + elements[cstr_1] + '-' + elements[cstr_2] + ' -> ' + elements[cat_2]\n",
    "                elif elements[orientation] == 'de2as' or elements[orientation] == 'des2as':\n",
    "                    item = elements[graph_2] + '-' + elements[graph_1] + ':' + elements[cat_2] + ' -> ' + \\\n",
    "                    elements[complexite] + '_' + elements[cstr_2] + '-' + elements[cstr_1] + ' -> ' + elements[cat_1]\n",
    "                if item not in pairs:\n",
    "                    pairs.append(item)\n",
    "                    transaction.append(item.split(':')[1])\n",
    "                lex.clear()\n",
    "    list_tr = list2lists(transaction)\n",
    "    if len(list_tr) == 1:\n",
    "        transactions.append(list_tr[0])\n",
    "        index_for_df.append(input_file.split()[0])\n",
    "    else:\n",
    "        for tr_id, tr in enumerate(list_tr):\n",
    "            transactions.append(tr)\n",
    "            index_for_df.append(input_file.split()[0] + '_' + str(tr_id))\n",
    "    #index_for_df.append(input_file.split()[0])\n",
    "    #transactions.append(transaction)\n",
    "    \n",
    "te = TransactionEncoder()\n",
    "te_ary = te.fit(transactions).transform(transactions)\n",
    "df = pd.DataFrame(te_ary, columns=te.columns_)\n",
    "df.index = index_for_df\n",
    "df"
   ]
  },
  {
   "cell_type": "code",
   "execution_count": null,
   "metadata": {
    "collapsed": false
   },
   "outputs": [],
   "source": [
    "#  options1: Vertex: categorie, semty, cstr. Edges: rel_sem\n",
    "input_dir = 'families'\n",
    "input_files = [f for f in listdir(input_dir) if isfile(join(input_dir, f))]\n",
    "\n",
    "transactions = list()\n",
    "for input_file in input_files:\n",
    "    transaction = list()\n",
    "    #if input_file != 'F03649 contraceptif_Adj.txt':\n",
    "        #continue\n",
    "    with codecs.open(join(input_dir, input_file), 'r', encoding='utf-8') as f:\n",
    "        for line_num, line in enumerate(f):\n",
    "            if line_num >= 2:\n",
    "                line_elements = line.replace('\\n','').replace(' ','').split('\\t')\n",
    "                if line_elements[23] == '' or line_elements[25] == '' or line_elements[36] == '':\n",
    "                    continue\n",
    "                \n",
    "                lex1 = list()\n",
    "                lex2 = list()\n",
    "                if '|' in line_elements[23]:\n",
    "                    lex1 = line_elements[23].split('|')\n",
    "                else:\n",
    "                    lex1.append(line_elements[23])\n",
    "                if '|' in line_elements[25]:\n",
    "                    lex2 = line_elements[25].split('|')\n",
    "                else:\n",
    "                    lex2.append(line_elements[25])\n",
    "                if line_elements[21] == 'as2de' or line_elements[21] == 'as2des':\n",
    "                    for l1 in lex1:\n",
    "                        for l2 in lex2:\n",
    "                            item = line_elements[8] + '_' + l1 + '_' + line_elements[14] \\\n",
    "                            + ' -> ' + line_elements[36] + ' -> ' + line_elements[10] \\\n",
    "                            + '_' + l2 + '_' + line_elements[17]\n",
    "                    transaction.append(item)\n",
    "                elif line_elements[21] == 'de2as' or line_elements[21] == 'des2as':\n",
    "                    for l1 in lex1:\n",
    "                        for l2 in lex2:\n",
    "                            item = line_elements[10] + '_' + l2 + '_' + line_elements[17] \\\n",
    "                            + ' -> ' + line_elements[36] + ' -> ' + line_elements[8] \\\n",
    "                            + '_' + l1 + '_' + line_elements[14]\n",
    "                    transaction.append(item)\n",
    "                '''else:\n",
    "                    for l1 in lex1:\n",
    "                        for l2 in lex2:\n",
    "                            l12 = sorted([line_elements[8] + '_' + l1 + '_' + line_elements[14], \\\n",
    "                            line_elements[10] + '_' + l2 + '_' + line_elements[17]])\n",
    "                            item = l12[0] + ' - ' + line_elements[36] + ' - ' + l12[1]\n",
    "                    transaction.append(item)'''\n",
    "                lex1.clear()\n",
    "                lex1.clear()\n",
    "    transactions.append(transaction)\n",
    "te = TransactionEncoder()\n",
    "te_ary = te.fit(transactions).transform(transactions)\n",
    "df = pd.DataFrame(te_ary, columns=te.columns_)\n",
    "df.index = input_files\n",
    "df"
   ]
  },
  {
   "cell_type": "code",
   "execution_count": null,
   "metadata": {
    "collapsed": false
   },
   "outputs": [],
   "source": [
    "frequent_itemsets = apriori(df, min_support=0.01, use_colnames=True)\n",
    "frequent_itemsets['length'] = frequent_itemsets['itemsets'].apply(lambda x: len(x))\n",
    "frequent_itemsets['# of families'] = frequent_itemsets['support'].apply(lambda x: x*df.shape[0])\n",
    "frequent_itemsets"
   ]
  },
  {
   "cell_type": "code",
   "execution_count": null,
   "metadata": {
    "collapsed": false
   },
   "outputs": [],
   "source": [
    "rules = association_rules(frequent_itemsets, metric='confidence', min_threshold=0.8)\n",
    "#rules['antecedent length'] = rules['antecedents'].apply(lambda x: len(x))\n",
    "#rules['consequent length'] = rules['consequents'].apply(lambda x: len(x))\n",
    "rules.drop(columns=['antecedent support', 'consequent support', 'lift', 'leverage', 'conviction'], inplace=True)\n",
    "rules"
   ]
  },
  {
   "cell_type": "code",
   "execution_count": null,
   "metadata": {
    "collapsed": false
   },
   "outputs": [],
   "source": [
    "families_ant_con = list()\n",
    "families_ant = list()\n",
    "for chosen_rule_id in rules.index:\n",
    "    set_of_antecedents = rules.loc[chosen_rule_id, 'antecedents']\n",
    "    set_of_consequents = rules.loc[chosen_rule_id, 'consequents']\n",
    "    conditions_ant = list()\n",
    "    conditions_ant_con = list()\n",
    "    for ante in set_of_antecedents:\n",
    "        conditions_ant.append(df[ante])\n",
    "        conditions_ant_con.append(df[ante])\n",
    "    for cons in set_of_consequents:\n",
    "        conditions_ant.append(~df[cons])\n",
    "        conditions_ant_con.append(df[cons])\n",
    "\n",
    "    joined_ant = pd.Series([True] * df.shape[0], index=df.index)\n",
    "    for c in conditions_ant:\n",
    "        joined_ant &= c\n",
    "    indices = df.loc[joined_ant].index\n",
    "    ret_str = str(len(indices)) + ' families: '\n",
    "    for ind in indices:\n",
    "        ret_str += ind.split(' ')[0] + ' '\n",
    "    families_ant.append(ret_str)\n",
    "\n",
    "    joined_ant_con = pd.Series([True] * df.shape[0], index=df.index)\n",
    "    for c in conditions_ant_con:\n",
    "        joined_ant_con &= c\n",
    "    indices = df.loc[joined_ant_con].index\n",
    "    ret_str = str(len(indices)) + ' families: '\n",
    "    for ind in indices:\n",
    "        ret_str += ind.split(' ')[0] + ' '\n",
    "    families_ant_con.append(ret_str)\n",
    "rules['families with ante & cons'] = families_ant_con\n",
    "rules['families with ante only'] = families_ant\n",
    "rules"
   ]
  },
  {
   "cell_type": "code",
   "execution_count": null,
   "metadata": {
    "collapsed": false
   },
   "outputs": [],
   "source": [
    "#rules.sort_values(by=['confidence'], ascending=False, inplace=True)\n",
    "rules.to_excel('rules_double.xlsx')"
   ]
  },
  {
   "cell_type": "code",
   "execution_count": null,
   "metadata": {
    "collapsed": true
   },
   "outputs": [],
   "source": []
  }
 ],
 "metadata": {
  "kernelspec": {
   "display_name": "Python 3",
   "language": "python",
   "name": "python3"
  },
  "language_info": {
   "codemirror_mode": {
    "name": "ipython",
    "version": 3
   },
   "file_extension": ".py",
   "mimetype": "text/x-python",
   "name": "python",
   "nbconvert_exporter": "python",
   "pygments_lexer": "ipython3",
   "version": "3.6.8"
  }
 },
 "nbformat": 4,
 "nbformat_minor": 2
}
