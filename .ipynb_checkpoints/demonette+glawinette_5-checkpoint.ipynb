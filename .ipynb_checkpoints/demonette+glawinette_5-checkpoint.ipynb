{
 "cells": [
  {
   "cell_type": "code",
   "execution_count": 1,
   "id": "ab79ff64",
   "metadata": {},
   "outputs": [],
   "source": [
    "import codecs\n",
    "import glob\n",
    "import networkx as nx\n",
    "import os\n",
    "import pandas as pd\n",
    "import pickle\n",
    "import re\n",
    "from difflib import SequenceMatcher\n",
    "from os import listdir\n",
    "from os.path import isfile, join\n",
    "from networkx.algorithms import isomorphism\n",
    "from networkx.drawing.nx_pydot import write_dot\n",
    "from utils import printProgressBar"
   ]
  },
  {
   "cell_type": "code",
   "execution_count": null,
   "id": "13c5abaa",
   "metadata": {},
   "outputs": [],
   "source": [
    "frequencies = pd.read_csv('frequencies-frcowvec-filtered.csv', header=0, index_col=0)\n",
    "print(frequencies.shape)"
   ]
  },
  {
   "cell_type": "code",
   "execution_count": 2,
   "id": "154fe513",
   "metadata": {},
   "outputs": [],
   "source": [
    "demonette_lexemes = set()\n",
    "with codecs.open('lexemes.csv', 'r', encoding='utf-8') as f:\n",
    "    for line in f:\n",
    "        elements = line.split('\\t')\n",
    "        if elements[0] == 'lid':\n",
    "            continue\n",
    "        demonette_lexemes.add(elements[2])\n",
    "        \n",
    "glawi_constructions = list()\n",
    "with codecs.open('glawi-constructions.txt', 'r', encoding='utf-8') as f:\n",
    "    for line in f:\n",
    "        glawi_constructions.append(line.strip('\\n'))"
   ]
  },
  {
   "cell_type": "code",
   "execution_count": 17,
   "id": "435c3f3b",
   "metadata": {},
   "outputs": [],
   "source": [
    "def match(pattern, word):\n",
    "    if pattern == 'X':\n",
    "        return True\n",
    "    counter = 0\n",
    "    for c in pattern:\n",
    "        if c == 'X':\n",
    "            break\n",
    "        if c != word[counter]:\n",
    "            return False\n",
    "        counter += 1\n",
    "    counter = -1\n",
    "    while True:\n",
    "        if pattern[counter] == 'X':\n",
    "            break\n",
    "        if pattern[counter] != word[counter]:\n",
    "            return False\n",
    "        counter -= 1\n",
    "    return True\n",
    "\n",
    "def generate_lexemes(origin):\n",
    "    new_lexeme = ''\n",
    "    best_const_length = -1\n",
    "    best_const = ''\n",
    "    for c in glawi_constructions:\n",
    "        const1 = c.split('-')[0]\n",
    "        if len(const1) > best_const_length and match(const1, origin):\n",
    "            best_const_length = len(const1)\n",
    "            best_const = const1\n",
    "    for c in glawi_constructions:\n",
    "        [const1, const2] = c.split('-')\n",
    "        if const1 != best_const:\n",
    "            continue\n",
    "        \n",
    "    return new_lexeme"
   ]
  },
  {
   "cell_type": "code",
   "execution_count": 24,
   "id": "c71501c4",
   "metadata": {},
   "outputs": [
    {
     "data": {
      "text/plain": [
       "False"
      ]
     },
     "execution_count": 24,
     "metadata": {},
     "output_type": "execute_result"
    }
   ],
   "source": [
    "match('aaX', 'laader')"
   ]
  },
  {
   "cell_type": "code",
   "execution_count": null,
   "id": "ba4140d6",
   "metadata": {},
   "outputs": [],
   "source": []
  }
 ],
 "metadata": {
  "kernelspec": {
   "display_name": "Python 3 (ipykernel)",
   "language": "python",
   "name": "python3"
  },
  "language_info": {
   "codemirror_mode": {
    "name": "ipython",
    "version": 3
   },
   "file_extension": ".py",
   "mimetype": "text/x-python",
   "name": "python",
   "nbconvert_exporter": "python",
   "pygments_lexer": "ipython3",
   "version": "3.8.10"
  }
 },
 "nbformat": 4,
 "nbformat_minor": 5
}
