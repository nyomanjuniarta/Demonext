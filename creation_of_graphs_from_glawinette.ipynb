{
 "cells": [
  {
   "cell_type": "code",
   "execution_count": 1,
   "metadata": {
    "collapsed": true
   },
   "outputs": [],
   "source": [
    "import codecs\n",
    "import networkx as nx\n",
    "import os\n",
    "from networkx.drawing.nx_pydot import write_dot\n",
    "from os import listdir\n",
    "from os.path import isfile, join\n",
    "from utils import printProgressBar"
   ]
  },
  {
   "cell_type": "code",
   "execution_count": 22,
   "metadata": {
    "collapsed": true
   },
   "outputs": [],
   "source": [
    "def find_representative(K):\n",
    "    max_out_degree = 0\n",
    "    for n in list(K.nodes):\n",
    "        if K.degree[n] > max_out_degree:\n",
    "            max_out_degree = K.degree[n]\n",
    "            selected_node = n\n",
    "    return selected_node"
   ]
  },
  {
   "cell_type": "code",
   "execution_count": 24,
   "metadata": {
    "collapsed": false
   },
   "outputs": [],
   "source": [
    "family_file_name= 'glawinette.families.txt'\n",
    "out_folder = 'glawinette_visualization'\n",
    "temp = set()\n",
    "summary_file = codecs.open('summary_of_glawinette.txt', 'w+', encoding='utf-8')\n",
    "with codecs.open(family_file_name, 'r', encoding='utf-8') as f:\n",
    "    for line in f:\n",
    "        #if 'piocher' not in line:\n",
    "            #continue\n",
    "        H = nx.Graph()\n",
    "        pairs = line.replace('=', '_').replace('\\n', '').split()\n",
    "        for pair in pairs:\n",
    "            lexemes = pair.split(':')\n",
    "            H.add_edge(lexemes[1], lexemes[0])\n",
    "        root_lexeme = find_representative(H)\n",
    "        summary_file.write(root_lexeme + '\\t' + str(list(H.nodes)) + '\\n')\n",
    "        write_dot(H, join(out_folder, root_lexeme + '.dot'))\n",
    "summary_file.close()"
   ]
  },
  {
   "cell_type": "code",
   "execution_count": null,
   "metadata": {
    "collapsed": true
   },
   "outputs": [],
   "source": []
  }
 ],
 "metadata": {
  "kernelspec": {
   "display_name": "Python 3",
   "language": "python",
   "name": "python3"
  },
  "language_info": {
   "codemirror_mode": {
    "name": "ipython",
    "version": 3
   },
   "file_extension": ".py",
   "mimetype": "text/x-python",
   "name": "python",
   "nbconvert_exporter": "python",
   "pygments_lexer": "ipython3",
   "version": "3.6.8"
  }
 },
 "nbformat": 4,
 "nbformat_minor": 2
}
