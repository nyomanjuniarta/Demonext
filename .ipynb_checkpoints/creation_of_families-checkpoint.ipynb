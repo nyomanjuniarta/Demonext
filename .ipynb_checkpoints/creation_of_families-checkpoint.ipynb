{
 "cells": [
  {
   "cell_type": "code",
   "execution_count": 1,
   "metadata": {
    "collapsed": true
   },
   "outputs": [],
   "source": [
    "import codecs\n",
    "import networkx as nx\n",
    "import pickle\n",
    "from os import listdir\n",
    "from os.path import isfile, join"
   ]
  },
  {
   "cell_type": "code",
   "execution_count": 2,
   "metadata": {
    "collapsed": true
   },
   "outputs": [],
   "source": [
    "G = nx.Graph()"
   ]
  },
  {
   "cell_type": "code",
   "execution_count": 3,
   "metadata": {
    "collapsed": false
   },
   "outputs": [
    {
     "data": {
      "text/plain": [
       "['converts-formate-V4-avecsem-utf8-lid-newtagset-entete-new-rid.csv',\n",
       " 'demonette1-formate-V4-avecsem-utf8-lid-newtagset-entete-new-rid.csv',\n",
       " 'denomXaire-formate-V4-avecsem-utf8-lid-newtagset-entete-new-rid.csv',\n",
       " 'denomXal-formate-V4-avecsem-utf8-lid-newtagset-entete-new-rid.csv',\n",
       " 'denomXique-formate-V4-avecsem-utf8-lid-newtagset-entete-new-rid.csv',\n",
       " 'derifde1X-formate-V4-nosem-utf8-lid-newtagset-entete-new-rid.csv',\n",
       " 'derifXable-formate-V4-nosem-utf8-lid-newtagset-entete-new-rid.csv',\n",
       " 'dimocXaie-formate-V4-avecsem-utf8-lid-newtagset-entete-new-rid.csv',\n",
       " 'dimocXat-formate-V4-avecsem-utf8-lid-newtagset-entete-new-rid.csv',\n",
       " 'dimocXet-formate-V4-avecsem-utf8-lid-newtagset-entete-new-rid.csv',\n",
       " 'dimocXier-formate-V4-avecsem-utf8-lid-newtagset-entete-new-rid.csv']"
      ]
     },
     "execution_count": 3,
     "metadata": {},
     "output_type": "execute_result"
    }
   ],
   "source": [
    "input_dir = 'pairs'\n",
    "input_files = [f for f in listdir(input_dir) if isfile(join(input_dir, f))]\n",
    "input_files"
   ]
  },
  {
   "cell_type": "code",
   "execution_count": 4,
   "metadata": {
    "collapsed": false
   },
   "outputs": [],
   "source": [
    "header = ''\n",
    "for input_file in input_files:\n",
    "    with codecs.open(join(input_dir, input_file), 'r', encoding='utf-8') as f:\n",
    "        for line_num, line in enumerate(f):\n",
    "            if line_num == 0:\n",
    "                header = line.replace('\\n','')\n",
    "            elif line_num >= 2:\n",
    "                line_elements = line.replace('\\n','').split('\\t')\n",
    "                G.add_edge(line_elements[3] + '_' + line_elements[8], line_elements[6] + '_' + line_elements[10])"
   ]
  },
  {
   "cell_type": "code",
   "execution_count": 5,
   "metadata": {
    "collapsed": false
   },
   "outputs": [
    {
     "data": {
      "text/plain": [
       "8141"
      ]
     },
     "execution_count": 5,
     "metadata": {},
     "output_type": "execute_result"
    }
   ],
   "source": [
    "lexeme_families = list(nx.connected_components(G))\n",
    "len(lexeme_families)"
   ]
  },
  {
   "cell_type": "code",
   "execution_count": 9,
   "metadata": {
    "collapsed": false
   },
   "outputs": [],
   "source": [
    "output_folder = 'families'\n",
    "lexeme_dict = dict()\n",
    "f_summary = codecs.open('summary_of_families_with_sem.txt', 'w+', encoding='utf-8')\n",
    "f_summary.write('family_id\\tnumber_of_lexemes\\tnumber_of_relations\\tlexemes\\n')\n",
    "for family_id, lexeme_family in enumerate(lexeme_families):\n",
    "    first_member = sorted(list(lexeme_family))[0] # first alphabetically\n",
    "    H = nx.subgraph(G, lexeme_family)\n",
    "    f_summary.write('F' + str(family_id).rjust(5, '0') + '\\t' + str(len(lexeme_family)) + '\\t' + str(len(H.edges)) + '\\t' + str(lexeme_family) + '\\n')\n",
    "    for lexeme in lexeme_family:\n",
    "        filename = 'F' + str(family_id).rjust(5, '0') + ' ' + first_member + '.txt'\n",
    "        lexeme_dict[lexeme] = filename\n",
    "        f_out = codecs.open(join(output_folder, filename), 'w+', encoding='utf-8')\n",
    "        f_out.write(header + '\\n\\n')\n",
    "        f_out.close()\n",
    "f_summary.close()\n",
    "#lexeme_dict['pommier']"
   ]
  },
  {
   "cell_type": "code",
   "execution_count": 10,
   "metadata": {
    "collapsed": false
   },
   "outputs": [],
   "source": [
    "for input_file in input_files:\n",
    "    with codecs.open(join(input_dir, input_file), 'r', encoding='utf-8') as f:\n",
    "        for line_num, line in enumerate(f):\n",
    "            if line_num < 2:\n",
    "                continue\n",
    "            line_elements = line.split('\\t')\n",
    "            lexeme1 = line_elements[3] + '_' + line_elements[8]\n",
    "            output_filename = lexeme_dict[lexeme1]\n",
    "            f_out = codecs.open(join(output_folder, output_filename), 'a+', encoding='utf-8')\n",
    "            f_out.write(line)\n",
    "            f_out.close()"
   ]
  },
  {
   "cell_type": "code",
   "execution_count": null,
   "metadata": {
    "collapsed": false
   },
   "outputs": [],
   "source": [
    "graph_file = open('G.p', 'wb')\n",
    "dict_file = open('lexeme_dict.p', 'wb')\n",
    "pickle.dump(G, graph_file)\n",
    "pickle.dump(lexeme_dict, dict_file)\n",
    "graph_file.close()\n",
    "dict_file.close()"
   ]
  },
  {
   "cell_type": "code",
   "execution_count": null,
   "metadata": {
    "collapsed": true
   },
   "outputs": [],
   "source": []
  }
 ],
 "metadata": {
  "kernelspec": {
   "display_name": "Python 3",
   "language": "python",
   "name": "python3"
  },
  "language_info": {
   "codemirror_mode": {
    "name": "ipython",
    "version": 3
   },
   "file_extension": ".py",
   "mimetype": "text/x-python",
   "name": "python",
   "nbconvert_exporter": "python",
   "pygments_lexer": "ipython3",
   "version": "3.6.8"
  }
 },
 "nbformat": 4,
 "nbformat_minor": 2
}
