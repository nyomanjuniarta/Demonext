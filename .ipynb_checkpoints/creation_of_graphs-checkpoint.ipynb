{
 "cells": [
  {
   "cell_type": "code",
   "execution_count": 1,
   "metadata": {
    "collapsed": true
   },
   "outputs": [],
   "source": [
    "import codecs\n",
    "import networkx as nx\n",
    "import os\n",
    "import pickle\n",
    "from networkx.drawing.nx_pydot import write_dot\n",
    "from os import listdir\n",
    "from os.path import isfile, join"
   ]
  },
  {
   "cell_type": "code",
   "execution_count": null,
   "metadata": {
    "collapsed": true
   },
   "outputs": [],
   "source": [
    "G = pickle.load(open('G.p', 'rb'))\n",
    "lexeme_dict = pickle.load(open('lexeme_dict.p', 'rb'))"
   ]
  },
  {
   "cell_type": "code",
   "execution_count": 4,
   "metadata": {
    "collapsed": false
   },
   "outputs": [],
   "source": [
    "# toggle1: directed, vertex: lexeme, category. edges: orientation, complexite, cstr\n",
    "input_dir = 'families'\n",
    "input_files = [f for f in listdir(input_dir) if isfile(join(input_dir, f))]\n",
    "\n",
    "for input_file in input_files:\n",
    "    #if input_file != 'F01531 instrumentateur_Nm.txt':\n",
    "        #continue\n",
    "    H = nx.DiGraph()\n",
    "    with codecs.open(join(input_dir, input_file), 'r', encoding='utf-8') as f:\n",
    "        for line_num, line in enumerate(f):\n",
    "            if line_num >= 2:\n",
    "                line_elements = line.replace('\\n','').replace(' ','').split('\\t')\n",
    "                if line_elements[21] == 'as2de' or line_elements[21] == 'as2des':\n",
    "                    edge_type = line_elements[19] + '_' + line_elements[14] + '-' + line_elements[17]\n",
    "                    H.add_edge(line_elements[3] + '_' + line_elements[8], line_elements[6] + '_' + line_elements[10], label=edge_type)\n",
    "                elif line_elements[21] == 'de2as' or line_elements[21] == 'des2as':\n",
    "                    edge_type = line_elements[19] + '_' + line_elements[17] + '-' + line_elements[14]\n",
    "                    H.add_edge(line_elements[6] + '_' + line_elements[10], line_elements[3] + '_' + line_elements[8], label=edge_type)\n",
    "                else:\n",
    "                    sorted_cstr = sorted([line_elements[14], line_elements[17]])\n",
    "                    edge_type =  line_elements[19] + '_' + line_elements[21] + '_' + sorted_cstr[0] + '-' + sorted_cstr[1]\n",
    "                    H.add_edge(line_elements[3] + '_' + line_elements[8], line_elements[6] + '_' + line_elements[10], label=edge_type)\n",
    "                    H.add_edge(line_elements[6] + '_' + line_elements[10], line_elements[3] + '_' + line_elements[8], label=edge_type)\n",
    "        try:\n",
    "            if not nx.is_weakly_connected(H):\n",
    "                print(input_file)\n",
    "        except:\n",
    "            print('null graph', input_file)\n",
    "    write_dot(H, join('graphs_directed', input_file.replace('.txt','.dot')))"
   ]
  },
  {
   "cell_type": "code",
   "execution_count": 2,
   "metadata": {
    "collapsed": false
   },
   "outputs": [
    {
     "name": "stdout",
     "output_type": "stream",
     "text": [
      "['Nf', 'V', 'Nm', 'Adj', 'Nmp', 'Nx', 'Npx', 'Nfp', 'Npmp', 'Adv', 'Num']\n",
      "['simple_X-X', 'simple_X-Xment', 'simple_indirect_Xeur-Xment', 'simple_X-Xeur', 'simple_NA_X-X', 'simple_indirect_Xeuse-Xment', 'simple_X-Xeuse', 'simple_indirect_Xeur-Xeuse', 'simple_X-Xique', 'simple_X-Xataire', 'simple_X-Xage', 'simple_indirect_Xage-Xment', 'simple_indirect_Xage-Xeuse', 'simple_X-Xure', 'simple_X-Xion', 'simple_indirect_Xage-Xeur', 'simple_X-Xaie', 'simple_X-Xier', 'simple_X-Xière', 'simple_indirect_Xeur-Xif', 'simple_indirect_Xeur-Xion', 'simple_indirect_Xeur-Xrice', 'simple_indirect_Xif-Xion', 'simple_X-Xif', 'simple_indirect_Xif-Xrice', 'simple_indirect_Xion-Xrice', 'simple_X-Xrice', 'simple_X-Xade', 'simple_X-Xerie', 'complexe_indirect_X-Xion', 'simple_indirect_Xeur-Xeur', 'simple_X-Xal', 'simple_X-Xaire', 'simple_X-Xance', 'simple_X-Xence', 'simple_X-Xer', 'motiv-sem_X-subXaire', 'simple_X-Xiser', 'simple_indirect_Xaire-Xation', 'simple_X-Xée', 'motiv-sem_indirect_Xal-Xion', 'motiv-sem_indirect_Xique-Xiste', 'motiv-sem_X-quadriXaire', 'motiv-sem_X-quinquXaire', 'motiv-sem_indirect_Xage-Xal', 'simple_X-Xère', 'motiv-sem_X-Xural', 'motiv-sem_X-Xistique', 'simple_X-Xistique', 'simple_indirect_Xion-Xment', 'simple_indirect_Xeuse-Xion', 'motiv-sem_indirect_Xal-Xie', 'simple_indirect_X-Xeur', 'simple_indirect_Xaire-Xion', 'simple_X-enX', 'simple_X-Xaison', 'simple_indirect_Xage-Xière', 'motiv-sem_X-Xique', 'complexe_X-Xonnière', 'complexe_X-Xetier', 'motiv-sem_NA_X-X', 'simple_X-Xette', 'accidentel_X-enX', 'simple_X-Xis', 'motiv-sem_X-extraXaire', 'simple_indirect_Xage-Xion', 'simple_indirect_X-Xise', 'simple_indirect_Xeuse-Xrice', 'simple_X-Xing', 'simple_indirect_X-Xière', 'simple_X-Xoine', 'simple_X-Xeraie', 'simple_indirect_X-Xier', 'motiv-sem_X-biXaire', 'motiv-sem_X-triXaire', 'motiv-sem_X-uniXaire', 'motiv-sem_indirect_Xeur-Xique', 'simple_indirect_Xeur-Xure', 'motiv-sem_indirect_Xoral-Xure', 'simple_indirect_X-Xerie', 'simple_X-Xois', 'motiv-sem_indirect_Xitique-Xois', 'simple_indirect_Xie-Xier', 'motiv-sem_X-infraXaire', 'motiv-sem_X-supraXaire', 'accidentel_NA_X-Xoire', 'simple_X-Xant', 'motiv-sem_indirect_Xal-Xant', 'motiv-form_X-Xiser', 'motiv-sem_X-Xaliser', 'simple_X-Xable', 'motiv-sem_X-antiXaire', 'simple_indirect_Xaie-Xier', 'simple_indirect_Xier-Xine', 'simple_X-Xise', 'simple_X-aX', 'accidentel_NA_X-X', 'complexe_X-Xionnaire', 'motiv-sem_X-interXaire', 'simple_X-Xaille', 'motiv-sem_X-multiXaire', 'motiv-sem_X-pluriXaire', 'motiv-sem_X-sexXaire', 'simple_indirect_X-Xrice', 'motiv-sem_indirect_Xion-Xoral', 'motiv-sem_X-intraXaire', 'simple_indirect_Xeuse-Xif', 'simple_indirect_Xeur-Xise', 'motiv-sem_indirect_Xise-Xoral', 'motiv-sem_X-preXière', 'complexe_X-Xaire', 'motiv-sem_indirect_Xal-Xise', 'complexe_X-Xonnier', 'simple_X-Xel', 'simple_X-métaX', 'simple_indirect_Xage-Xier', 'complexe_X-Xilier', 'simple_X-Xie', 'motiv-sem_indirect_X-X', 'motiv-sem_X-postXaire', 'motiv-sem_X-préXaire', 'motiv-sem_X-Xulaire', 'simple_X-Xule', 'simple_Xage-X', 'complexe_X-Xetière', 'motiv-sem_indirect_Xique-Xisme', 'motiv-sem_X-juxtaXaire', 'motiv-sem_X-matriXaire', 'motiv-sem_X-patriXaire', 'motiv-sem_X-coXier', 'simple_X-Xange', 'motiv-sem_X-circumXaire', 'simple_X-Xat', 'motiv-sem_indirect_Xal-Xat', 'motiv-sem_X-aXaire', 'motiv-sem_X-circomXaire', 'motiv-sem_X-monoXaire', 'motiv-sem_X-omniXaire', 'motiv-sem_X-périXaire', 'motiv-sem_X-tétraXaire', 'motiv-sem_X-transXaire', 'accidentel_NA_X-Xion', 'complexe_indirect_Xerie-Xiser', 'complexe_X-Xise', 'motiv-sem_X-diXaire', 'motiv-sem_X-polyXaire', 'complexe_indirect_X-Xage', 'accidentel_NA_X-Xande', 'simple_indirect_Xier-Xée', 'motiv-sem_X-sousXaire', 'motiv-form_X-Xistique', 'motiv-sem_indirect_Xisme-Xistique', 'simple_X-Xon', 'simple_X-Xoyer', 'simple_X-Xassier', 'simple_X-Xisme', 'simple_X-Xiste', 'simple_indirect_Xat-Xé', 'simple_X-Xé', 'motiv-sem_indirect_Xal-Xé', 'motiv-sem_indirect_Xoire-Xoral', 'motiv-sem_indirect_Xique-Xment', 'motiv-sem_X-Xétique', 'motiv-sem_X-nasoXier', 'complexe_indirect_X-Xisme', 'simple_indirect_X-Xaire', 'simple_X-inX', 'motiv-sem_X-aquaXaire', 'simple_X-Xien', 'motiv-sem_X-Xoral', 'simple_X-Xatiser', 'simple_X-Xatique', 'motiv-sem_indirect_Xaire-Xion', 'simple_indirect_Xerie-Xiser', 'simple_X-biX', 'complexe_X-Xagier', 'simple_indirect_Xiser-Xisme', 'accidentel_NA_X-Xaire', 'simple_indirect_Xion-Xé', 'simple_X-Xet', 'simple_indirect_Xeur-Xoire', 'simple_indirect_Xment-Xrice', 'complexe_X-Xassier', 'motiv-sem_indirect_Xique-Xité', 'accidentel_NA_X-Xeur', 'accidentel_NA_X-Xice', 'accidentel_NA_X-Xif', 'simple_X-Xais', 'motiv-sem_indirect_Xeur-Xistique', 'motiv-sem_indirect_Xeuse-Xistique', 'simple_X-Xité', 'simple_X-Xical', 'simple_indirect_X-Xité', 'simple_X-autoX', 'motiv-form_X-inX', 'motiv-sem_X-inXiser', 'simple_X-Xaliser', 'motiv-sem_X-interXal', 'motiv-form_X-interX', 'simple_indirect_Xisme-Xiste', 'complexe_X-Xisme', 'simple_X-sousX', 'simple_indirect_Xage-Xrice', 'simple_indirect_X-Xeuse', 'simple_indirect_Xion-Xion', 'simple_indirect_Xage-Xonner', 'accidentel_X-Xment', 'motiv-sem_indirect_Xien-Xique', 'simple_indirect_Xique-Xisme', 'motiv-sem_X-sousXier', 'motiv-sem_X-hypoXaire', 'motiv-sem_X-équiXaire', 'motiv-sem_X-orthoXaire', 'motiv-sem_X-coXaire', 'simple_indirect_Xisme-Xité', 'simple_indirect_Xiste-Xité', 'motiv-sem_indirect_Xistique-Xité', 'motiv-sem_X-exXaire', 'simple_indirect_Xie-Xé', 'simple_X-Xeté', 'simple_indirect_Xal-Xeté', 'motiv-sem_indirect_Xal-Xien', 'simple_X-Xaume', 'motiv-sem_indirect_Xal-Xaume', 'simple_X-Xoïde', 'motiv-sem_X-Xoïdal', 'motiv-sem_X-sousXière', 'motiv-sem_X-transXalier', 'motiv-sem_indirect_Xat-Xique', 'motiv-sem_indirect_Xique-Xétique', 'motiv-sem_indirect_Xgenèse-Xgénique', 'simple_X-Xeute', 'motiv-sem_indirect_Xeutique-Xique', 'motiv-sem_X-Xeutique', 'motiv-sem_indirect_Xeute-Xique', 'motiv-sem_indirect_X-Xique', 'motiv-sem_indirect_Xant-Xique', 'motiv-sem_indirect_Xique-Xite', 'simple_X-Xeux', 'motiv-sem_indirect_Xeux-Xique', 'motiv-sem_indirect_Xerie-Xique', 'simple_X-Xraie', 'simple_indirect_Xier-Xraie', 'complexe_X-Xailler', 'complexe_X-Xinière', 'motiv-sem_X-quartXier', 'motiv-sem_X-superXaire', 'simple_X-Xairie', 'motiv-sem_X-ultraXaire', 'motiv-sem_X-inXaire', 'motiv-sem_X-podoXaire', 'simple_X-Xailler', 'motiv-sem_X-bioXaire', 'motiv-sem_X-centroXaire', 'motiv-sem_X-proXaire', 'motiv-sem_X-trichoXaire']\n"
     ]
    }
   ],
   "source": [
    "# toggle1: for gSpan. Directed, vertex: lexeme, category. edges: orientation, complexite, cstr\n",
    "input_dir = 'families'\n",
    "input_files = [f for f in listdir(input_dir) if isfile(join(input_dir, f))]\n",
    "\n",
    "edge_labels = list()\n",
    "vertex_labels = list()\n",
    "\n",
    "f_out = codecs.open('for_gSpan.txt', 'w+', encoding='utf-8')\n",
    "for input_file in input_files:\n",
    "    #if input_file != 'F01531 instrumentateur_Nm.txt':\n",
    "        #continue\n",
    "    H = nx.DiGraph()\n",
    "    family_number = input_file.split()[0].replace('F', '')\n",
    "    f_out.write('t # ' + family_number + '\\n')\n",
    "    with codecs.open(join(input_dir, input_file), 'r', encoding='utf-8') as f:\n",
    "        for line_num, line in enumerate(f):\n",
    "            if line_num >= 2:\n",
    "                line_elements = line.replace('\\n','').replace(' ','').split('\\t')\n",
    "                \n",
    "                vertex_a_type = line_elements[8]\n",
    "                try:\n",
    "                    vertex_a_label = vertex_labels.index(vertex_a_type)\n",
    "                except ValueError:\n",
    "                    vertex_a_label = len(vertex_labels)\n",
    "                    vertex_labels.append(vertex_a_type)\n",
    "                vertex_b_type = line_elements[10]\n",
    "                try:\n",
    "                    vertex_b_label = vertex_labels.index(vertex_b_type)\n",
    "                except ValueError:\n",
    "                    vertex_b_label = len(vertex_labels)\n",
    "                    vertex_labels.append(vertex_b_type)\n",
    "                H.add_node(line_elements[3] + '_' + line_elements[8], label=vertex_a_label)\n",
    "                H.add_node(line_elements[6] + '_' + line_elements[10], label=vertex_b_label)\n",
    "                    \n",
    "                orientation = line_elements[21]\n",
    "                if orientation == 'as2de' or orientation == 'as2des':\n",
    "                    edge_type = line_elements[19] + '_' + line_elements[14] + '-' + line_elements[17] \n",
    "                elif orientation == 'de2as' or orientation == 'des2as':\n",
    "                    edge_type = line_elements[19] + '_' + line_elements[17] + '-' + line_elements[14] \n",
    "                else:  # NA or indirect\n",
    "                    sorted_cstr = sorted([line_elements[14], line_elements[17]])\n",
    "                    edge_type = line_elements[19] + '_' + orientation + '_' + sorted_cstr[0] + '-' + sorted_cstr[1]\n",
    "                try:\n",
    "                    edge_label = edge_labels.index(edge_type)\n",
    "                except ValueError:\n",
    "                    edge_label = len(edge_labels)\n",
    "                    edge_labels.append(edge_type)\n",
    "                    \n",
    "                if orientation == 'as2de' or orientation == 'as2des':\n",
    "                    H.add_edge(line_elements[3] + '_' + line_elements[8], line_elements[6] + '_' + line_elements[10], label=edge_label)\n",
    "                elif orientation == 'de2as' or orientation == 'des2as':\n",
    "                    H.add_edge(line_elements[6] + '_' + line_elements[10], line_elements[3] + '_' + line_elements[8], label=edge_label)\n",
    "                else:\n",
    "                    H.add_edge(line_elements[3] + '_' + line_elements[8], line_elements[6] + '_' + line_elements[10], label=edge_label)\n",
    "                    H.add_edge(line_elements[6] + '_' + line_elements[10], line_elements[3] + '_' + line_elements[8], label=edge_label)\n",
    "        node_list = list(H.nodes)\n",
    "        for node_idx, node in enumerate(node_list):\n",
    "            f_out.write('v ' + str(node_idx) + ' ' + str(H.nodes[node]['label']) + '\\n')\n",
    "            #print('v ' + str(node_idx) + ' ' + str(H.nodes[node]['label']))\n",
    "        for edge in list(H.edges):\n",
    "            f_out.write('e ' + str(node_list.index(edge[0])) + ' ' + str(node_list.index(edge[1])) + ' ' + str(H[edge[0]][edge[1]]['label']) + '\\n')\n",
    "            #print('e ' + str(node_list.index(edge[0])) + ' ' + str(node_list.index(edge[1])) + ' ' + str(H[edge[0]][edge[1]]['label']))\n",
    "f_out.close()\n",
    "print(vertex_labels)\n",
    "print(edge_labels)"
   ]
  },
  {
   "cell_type": "code",
   "execution_count": null,
   "metadata": {
    "collapsed": false
   },
   "outputs": [],
   "source": [
    "# toggle1: using write_dot for all families, directed, no cstr in edges\n",
    "input_dir = 'families'\n",
    "input_files = [f for f in listdir(input_dir) if isfile(join(input_dir, f))]\n",
    "\n",
    "for input_file in input_files:\n",
    "    H = nx.DiGraph()\n",
    "    with codecs.open(join(input_dir, input_file), 'r', encoding='utf-8') as f:\n",
    "        for line_num, line in enumerate(f):\n",
    "            if line_num >= 2:\n",
    "                line_elements = line.replace('\\n','').split('\\t')\n",
    "                orientation = line_elements[21]\n",
    "                if orientation == 'as2de' or orientation == 'as2des' or orientation == 'de2as' or orientation == 'des2as':\n",
    "                    orientation = 'direct'\n",
    "                edge_type = orientation + '_' + line_elements[19]\n",
    "                if line_elements[21] == 'as2de' or line_elements[21] == 'as2des':\n",
    "                    H.add_edge(line_elements[3] + '_' + line_elements[8], line_elements[6] + '_' + line_elements[10], label=edge_type)\n",
    "                elif line_elements[21] == 'de2as' or line_elements[21] == 'des2as':\n",
    "                    H.add_edge(line_elements[6] + '_' + line_elements[10], line_elements[3] + '_' + line_elements[8], label=edge_type)\n",
    "                else:\n",
    "                    H.add_edge(line_elements[3] + '_' + line_elements[8], line_elements[6] + '_' + line_elements[10], label=edge_type)\n",
    "                    H.add_edge(line_elements[6] + '_' + line_elements[10], line_elements[3] + '_' + line_elements[8], label=edge_type)\n",
    "        try:\n",
    "            if not nx.is_weakly_connected(H):\n",
    "                print(input_file)\n",
    "        except:\n",
    "            print('null graph', input_file)\n",
    "    write_dot(H, join('graphs_directed', input_file.replace('.txt','.dot'))"
   ]
  },
  {
   "cell_type": "code",
   "execution_count": 3,
   "metadata": {
    "collapsed": true
   },
   "outputs": [],
   "source": [
    "vertex_label_file = open('label_vertex.p', 'wb')\n",
    "pickle.dump(vertex_labels, vertex_label_file)\n",
    "vertex_label_file.close()\n",
    "\n",
    "edge_label_file = open('label_edge.p', 'wb')\n",
    "pickle.dump(edge_labels, edge_label_file)\n",
    "edge_label_file.close()"
   ]
  },
  {
   "cell_type": "code",
   "execution_count": null,
   "metadata": {
    "collapsed": false
   },
   "outputs": [],
   "source": [
    "# toggle1: create directed graph for gSpan input, cstr in vertices\n",
    "input_dir = 'families'\n",
    "input_files = [f for f in listdir(input_dir) if isfile(join(input_dir, f))]\n",
    "\n",
    "edge_labels = list()\n",
    "vertex_labels = list()\n",
    "\n",
    "f_out = codecs.open('for_gSpan.txt', 'w+', encoding='utf-8')\n",
    "for input_file in input_files:\n",
    "    #if input_file != 'F01531 instrumentateur_Nm.txt':\n",
    "        #continue\n",
    "    H = nx.DiGraph()\n",
    "    family_number = input_file.split()[0].replace('F', '')\n",
    "    f_out.write('t # ' + family_number + '\\n')\n",
    "    with codecs.open(join(input_dir, input_file), 'r', encoding='utf-8') as f:\n",
    "        for line_num, line in enumerate(f):\n",
    "            if line_num >= 2:\n",
    "                line_elements = line.replace('\\n','').split('\\t')\n",
    "                \n",
    "                vertex_a_type = line_elements[8] + '_' + line_elements[14]\n",
    "                try:\n",
    "                    vertex_a_label = vertex_labels.index(vertex_a_type)\n",
    "                except ValueError:\n",
    "                    vertex_a_label = len(vertex_labels)\n",
    "                    vertex_labels.append(vertex_a_type)\n",
    "                vertex_b_type = line_elements[10] + '_' + line_elements[17]\n",
    "                try:\n",
    "                    vertex_b_label = vertex_labels.index(vertex_b_type)\n",
    "                except ValueError:\n",
    "                    vertex_b_label = len(vertex_labels)\n",
    "                    vertex_labels.append(vertex_b_type)\n",
    "                H.add_node(line_elements[3] + '_' + line_elements[8], label=vertex_a_label)\n",
    "                H.add_node(line_elements[6] + '_' + line_elements[10], label=vertex_b_label)\n",
    "                    \n",
    "                orientation = line_elements[21]\n",
    "                if orientation == 'as2de' or orientation == 'as2des' or orientation == 'de2as' or orientation == 'des2as':\n",
    "                    orientation = 'direct'\n",
    "                edge_type = orientation + '_' + line_elements[19]\n",
    "                try:\n",
    "                    edge_label = edge_labels.index(edge_type)\n",
    "                except ValueError:\n",
    "                    edge_label = len(edge_labels)\n",
    "                    edge_labels.append(edge_type)\n",
    "                    \n",
    "                if line_elements[21] == 'as2de' or line_elements[21] == 'as2des':\n",
    "                    H.add_edge(line_elements[3] + '_' + line_elements[8], line_elements[6] + '_' + line_elements[10], label=edge_label)\n",
    "                elif line_elements[21] == 'de2as' or line_elements[21] == 'des2as':\n",
    "                    H.add_edge(line_elements[6] + '_' + line_elements[10], line_elements[3] + '_' + line_elements[8], label=edge_label)\n",
    "                else:\n",
    "                    H.add_edge(line_elements[3] + '_' + line_elements[8], line_elements[6] + '_' + line_elements[10], label=edge_label)\n",
    "                    H.add_edge(line_elements[6] + '_' + line_elements[10], line_elements[3] + '_' + line_elements[8], label=edge_label)\n",
    "        node_list = list(H.nodes)\n",
    "        for node_idx, node in enumerate(node_list):\n",
    "            f_out.write('v ' + str(node_idx) + ' ' + str(H.nodes[node]['label']) + '\\n')\n",
    "            #print('v ' + str(node_idx) + ' ' + str(H.nodes[node]['label']))\n",
    "        for edge in list(H.edges):\n",
    "            f_out.write('e ' + str(node_list.index(edge[0])) + ' ' + str(node_list.index(edge[1])) + ' ' + str(H[edge[0]][edge[1]]['label']) + '\\n')\n",
    "f_out.close()\n",
    "print(vertex_labels)\n",
    "print(edge_labels)"
   ]
  },
  {
   "cell_type": "code",
   "execution_count": null,
   "metadata": {
    "collapsed": true
   },
   "outputs": [],
   "source": []
  }
 ],
 "metadata": {
  "kernelspec": {
   "display_name": "Python 3",
   "language": "python",
   "name": "python3"
  },
  "language_info": {
   "codemirror_mode": {
    "name": "ipython",
    "version": 3
   },
   "file_extension": ".py",
   "mimetype": "text/x-python",
   "name": "python",
   "nbconvert_exporter": "python",
   "pygments_lexer": "ipython3",
   "version": "3.6.8"
  }
 },
 "nbformat": 4,
 "nbformat_minor": 2
}
