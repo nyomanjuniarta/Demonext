{
 "cells": [
  {
   "cell_type": "code",
   "execution_count": 1,
   "metadata": {
    "collapsed": true
   },
   "outputs": [],
   "source": [
    "import codecs\n",
    "import networkx as nx\n",
    "import os\n",
    "import pickle\n",
    "from networkx.drawing.nx_pydot import write_dot\n",
    "from os import listdir\n",
    "from os.path import isfile, join"
   ]
  },
  {
   "cell_type": "code",
   "execution_count": 2,
   "metadata": {
    "collapsed": false
   },
   "outputs": [],
   "source": [
    "vertex_labels = pickle.load(open('label_vertex.p', 'rb'))\n",
    "edge_labels = pickle.load(open('label_edge.p', 'rb'))"
   ]
  },
  {
   "cell_type": "code",
   "execution_count": 9,
   "metadata": {
    "collapsed": false
   },
   "outputs": [],
   "source": [
    "joined_result_dir = 'joined_results'\n",
    "result_file_name = 'result_gSpan-s50_l3.txt'\n",
    "params = result_file_name.split('-')[1].replace('.txt', '')\n",
    "out_names = list()\n",
    "with codecs.open(result_file_name, 'r', encoding='utf-8') as f:\n",
    "    res = ''\n",
    "    members = ''\n",
    "    for line in f:\n",
    "        res += line\n",
    "        if line[0] == '-':\n",
    "            f_out = codecs.open(join(joined_result_dir, params + '_' + str(out_name) + '.txt'), 'a+', encoding='utf-8')\n",
    "            f_out.write(res)\n",
    "            f_out.close()\n",
    "            res = ''\n",
    "            break\n",
    "        elif line[0] == 'w':\n",
    "            members = line.replace('\\r\\n', '').replace(' ', '').replace('[', '').replace(']', '').split(':')[1]\n",
    "            try:\n",
    "                out_name = out_names.index(members)\n",
    "            except:\n",
    "                out_name = len(out_names)\n",
    "                out_names.append(members)"
   ]
  },
  {
   "cell_type": "code",
   "execution_count": 11,
   "metadata": {
    "collapsed": false
   },
   "outputs": [
    {
     "name": "stdout",
     "output_type": "stream",
     "text": [
      "s50_l3_0.txt\n"
     ]
    }
   ],
   "source": [
    "input_files = [f for f in listdir(joined_result_dir) if isfile(join(joined_result_dir, f))]\n",
    "\n",
    "for input_file in input_files:\n",
    "    H = nx.DiGraph()\n",
    "    print(input_file)\n",
    "    with codecs.open(join(joined_result_dir, input_file), 'r', encoding='utf-8') as f:\n",
    "        for line in f:\n",
    "            if line[0] == 't':\n",
    "                result_number = line.split()[2]\n",
    "                vertex_label_indices = list()\n",
    "            elif line[0] == 'v':\n",
    "                vertex_label_indices.append(int(line.split()[2]))\n",
    "            elif line[0] == 'e':\n",
    "                line_elements = line.split()\n",
    "                v1 = vertex_label_indices[int(line_elements[1])]\n",
    "                v2 = vertex_label_indices[int(line_elements[2])]\n",
    "                H.add_edge(vertex_labels[v1], vertex_labels[v2], label=edge_labels[int(line_elements[3])])\n",
    "            elif line[0] == 'w':\n",
    "                members = line.replace('\\r\\n', '').replace(' ', '').replace('[', '').replace(']', '').split(':')[1]\n",
    "            elif line[0] == '-':\n",
    "                f_out = codecs.open(join('graphs_from_gSpan', input_file.replace('.txt', '.members.txt')), 'w')\n",
    "                member_list = members.split(',')\n",
    "                for member in member_list:\n",
    "                    f_out.write('F' + str(member).rjust(5, '0') + '\\n')\n",
    "                f_out.close()\n",
    "                write_dot(H, join('graphs_from_gSpan', input_file.replace('.txt', '.dot')))\n",
    "    H.clear()"
   ]
  },
  {
   "cell_type": "code",
   "execution_count": null,
   "metadata": {
    "collapsed": true
   },
   "outputs": [],
   "source": []
  }
 ],
 "metadata": {
  "kernelspec": {
   "display_name": "Python 3",
   "language": "python",
   "name": "python3"
  },
  "language_info": {
   "codemirror_mode": {
    "name": "ipython",
    "version": 3
   },
   "file_extension": ".py",
   "mimetype": "text/x-python",
   "name": "python",
   "nbconvert_exporter": "python",
   "pygments_lexer": "ipython3",
   "version": "3.6.8"
  }
 },
 "nbformat": 4,
 "nbformat_minor": 2
}
